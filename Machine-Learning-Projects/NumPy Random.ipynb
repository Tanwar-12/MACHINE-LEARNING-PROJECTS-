{
 "cells": [
  {
   "cell_type": "markdown",
   "id": "fc3f6430",
   "metadata": {},
   "source": [
    "# <div style=\"padding:20px;color:white;margin:0;font-size:35px;font-family:Georgia;text-align:left;display:fill;border-radius:5px;background-color:#254E58;overflow:hidden\"><b>Day 31- NumPy Random</b></div>"
   ]
  },
  {
   "cell_type": "markdown",
   "id": "f553882e",
   "metadata": {},
   "source": [
    "**Random number does NOT mean a different number every time. Random means something that can not be predicted logically.**"
   ]
  },
  {
   "cell_type": "markdown",
   "id": "afec5fcc",
   "metadata": {},
   "source": [
    "## Generate Random Number"
   ]
  },
  {
   "cell_type": "markdown",
   "id": "433284ff",
   "metadata": {},
   "source": [
    "**Generate a random integer from 0 to 100:**"
   ]
  },
  {
   "cell_type": "code",
   "execution_count": 2,
   "id": "f90bebb0",
   "metadata": {},
   "outputs": [
    {
     "name": "stdout",
     "output_type": "stream",
     "text": [
      "2\n"
     ]
    }
   ],
   "source": [
    "from numpy import random\n",
    "\n",
    "x = random.randint(100)\n",
    "\n",
    "print(x)"
   ]
  },
  {
   "cell_type": "markdown",
   "id": "965303b9",
   "metadata": {},
   "source": [
    "### Generate Random Float"
   ]
  },
  {
   "cell_type": "markdown",
   "id": "8704d883",
   "metadata": {},
   "source": [
    "**Generate a random float from 0 to 1:**"
   ]
  },
  {
   "cell_type": "code",
   "execution_count": 3,
   "id": "7c1806b5",
   "metadata": {},
   "outputs": [
    {
     "name": "stdout",
     "output_type": "stream",
     "text": [
      "0.38856152514266074\n"
     ]
    }
   ],
   "source": [
    "from numpy import random\n",
    "\n",
    "x = random.rand()\n",
    "\n",
    "print(x)"
   ]
  },
  {
   "cell_type": "markdown",
   "id": "cc414529",
   "metadata": {},
   "source": [
    "### Generate Random Array"
   ]
  },
  {
   "cell_type": "markdown",
   "id": "59e6d356",
   "metadata": {},
   "source": [
    "**Generate a 1-D array containing 5 random integers from 0 to 100:**"
   ]
  },
  {
   "cell_type": "code",
   "execution_count": 4,
   "id": "adaef642",
   "metadata": {},
   "outputs": [
    {
     "name": "stdout",
     "output_type": "stream",
     "text": [
      "[79 42 25  5 56]\n"
     ]
    }
   ],
   "source": [
    "from numpy import random\n",
    "\n",
    "x=random.randint(100, size=(5))\n",
    "\n",
    "print(x)\n"
   ]
  },
  {
   "cell_type": "markdown",
   "id": "0456aa2c",
   "metadata": {},
   "source": [
    "**Generate a 2-D array with 3 rows, each row containing 5 random integers from 0 to 100**"
   ]
  },
  {
   "cell_type": "code",
   "execution_count": 5,
   "id": "24dce64e",
   "metadata": {},
   "outputs": [
    {
     "name": "stdout",
     "output_type": "stream",
     "text": [
      "[[40 38 59 46 98]\n",
      " [79 88 69 47 45]\n",
      " [97 27 44 93  8]]\n"
     ]
    }
   ],
   "source": [
    "from numpy import random\n",
    "\n",
    "x = random.randint(100, size=(3, 5))\n",
    "\n",
    "print(x)"
   ]
  },
  {
   "cell_type": "markdown",
   "id": "4e32cde7",
   "metadata": {},
   "source": [
    "### Floats\n",
    "**The rand() method also allows you to specify the shape of the array.**"
   ]
  },
  {
   "cell_type": "markdown",
   "id": "f7301755",
   "metadata": {},
   "source": [
    "**Generate a 1-D array containing 5 random floats:**"
   ]
  },
  {
   "cell_type": "code",
   "execution_count": 6,
   "id": "86b6b2b0",
   "metadata": {},
   "outputs": [
    {
     "name": "stdout",
     "output_type": "stream",
     "text": [
      "[0.34731362 0.19153543 0.53500318 0.11921999 0.70446545]\n"
     ]
    }
   ],
   "source": [
    "from numpy import random\n",
    "\n",
    "x = random.rand(5)\n",
    "\n",
    "print(x)"
   ]
  },
  {
   "cell_type": "markdown",
   "id": "3f151d02",
   "metadata": {},
   "source": [
    "**Generate a 2-D array with 3 rows, each row containing 5 random numbers:**"
   ]
  },
  {
   "cell_type": "code",
   "execution_count": 7,
   "id": "fa575bd0",
   "metadata": {},
   "outputs": [
    {
     "name": "stdout",
     "output_type": "stream",
     "text": [
      "[[0.25167047 0.24695495 0.88199892 0.1239923  0.38590529]\n",
      " [0.71695517 0.47318897 0.61777295 0.18190081 0.10430121]\n",
      " [0.86773632 0.39068582 0.63482139 0.73929883 0.43782911]]\n"
     ]
    }
   ],
   "source": [
    "from numpy import random\n",
    "\n",
    "x = random.rand(3, 5)\n",
    "\n",
    "print(x)"
   ]
  },
  {
   "cell_type": "markdown",
   "id": "67e8744d",
   "metadata": {},
   "source": [
    "### Generate Random Number From Array\n",
    "**The choice() method allows you to generate a random value based on an array of values.**\n",
    "\n",
    "**The choice() method takes an array as a parameter and randomly returns one of the values**."
   ]
  },
  {
   "cell_type": "markdown",
   "id": "ec06b79d",
   "metadata": {},
   "source": [
    "### Return one of the values in an array:"
   ]
  },
  {
   "cell_type": "code",
   "execution_count": 8,
   "id": "d7450f39",
   "metadata": {},
   "outputs": [
    {
     "name": "stdout",
     "output_type": "stream",
     "text": [
      "5\n"
     ]
    }
   ],
   "source": [
    "from numpy import random\n",
    "\n",
    "x = random.choice([3, 5, 7, 9])\n",
    "\n",
    "print(x)"
   ]
  },
  {
   "cell_type": "markdown",
   "id": "c9ac2a60",
   "metadata": {},
   "source": [
    "**Generate a 2-D array that consists of the values in the array parameter (3, 5, 7, and 9):**"
   ]
  },
  {
   "cell_type": "code",
   "execution_count": 9,
   "id": "5c7cef7a",
   "metadata": {},
   "outputs": [
    {
     "name": "stdout",
     "output_type": "stream",
     "text": [
      "[[9 7 5 5 7]\n",
      " [9 9 3 7 9]\n",
      " [7 5 3 7 9]]\n"
     ]
    }
   ],
   "source": [
    "from numpy import random\n",
    "\n",
    "x = random.choice([3, 5, 7, 9], size=(3, 5))\n",
    "\n",
    "print(x)"
   ]
  }
 ],
 "metadata": {
  "kernelspec": {
   "display_name": "Python 3 (ipykernel)",
   "language": "python",
   "name": "python3"
  },
  "language_info": {
   "codemirror_mode": {
    "name": "ipython",
    "version": 3
   },
   "file_extension": ".py",
   "mimetype": "text/x-python",
   "name": "python",
   "nbconvert_exporter": "python",
   "pygments_lexer": "ipython3",
   "version": "3.11.5"
  }
 },
 "nbformat": 4,
 "nbformat_minor": 5
}
