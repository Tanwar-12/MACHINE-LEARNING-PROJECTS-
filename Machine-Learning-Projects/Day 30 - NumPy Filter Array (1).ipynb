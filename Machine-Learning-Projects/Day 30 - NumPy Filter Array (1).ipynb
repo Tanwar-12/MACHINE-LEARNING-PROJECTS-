{
 "cells": [
  {
   "cell_type": "markdown",
   "id": "12e751da",
   "metadata": {},
   "source": [
    "# <div style=\"padding:20px;color:white;margin:0;font-size:35px;font-family:Georgia;text-align:left;display:fill;border-radius:5px;background-color:#254E58;overflow:hidden\"><b>Day 30- Numpy Filter Array</b></div>"
   ]
  },
  {
   "cell_type": "markdown",
   "id": "6ac38577",
   "metadata": {},
   "source": [
    "# Filtering Arrays"
   ]
  },
  {
   "cell_type": "markdown",
   "id": "6cbeab6f",
   "metadata": {},
   "source": [
    "* Getting some elements out of an existing array and creating a new array out of them is called filtering.\n",
    "\n",
    "* In NumPy, you filter an array using a boolean index list."
   ]
  },
  {
   "cell_type": "markdown",
   "id": "a456ea9e",
   "metadata": {},
   "source": [
    "**If the value at an index is True that element is contained in the filtered array, if the value at that index is False that element is excluded from the filtered array.**"
   ]
  },
  {
   "cell_type": "markdown",
   "id": "fceadb2f",
   "metadata": {},
   "source": [
    "### Example\n",
    "**Create an array from the elements on index 0 and 2:**"
   ]
  },
  {
   "cell_type": "code",
   "execution_count": 1,
   "id": "9a16c6c5",
   "metadata": {},
   "outputs": [
    {
     "name": "stdout",
     "output_type": "stream",
     "text": [
      "[41 43]\n"
     ]
    }
   ],
   "source": [
    "import numpy as np\n",
    "\n",
    "arr = np.array([41, 42, 43, 44])\n",
    "\n",
    "x = [True, False, True, False]\n",
    "\n",
    "newarr = arr[x]\n",
    "\n",
    "print(newarr)"
   ]
  },
  {
   "cell_type": "markdown",
   "id": "8b51ab86",
   "metadata": {},
   "source": [
    "**The example above will return [41, 43], why?**\n",
    "\n",
    "**Because the new array contains only the values where the filter array had the value True, in this case, index 0 and 2.**"
   ]
  },
  {
   "cell_type": "markdown",
   "id": "55f36125",
   "metadata": {},
   "source": [
    "# Creating the Filter Array\n",
    "In the example above we hard-coded the True and False values, but the common use is to create a filter array based on conditions."
   ]
  },
  {
   "cell_type": "markdown",
   "id": "41dd1b1f",
   "metadata": {},
   "source": [
    "### Example\n",
    "**Create a filter array that will return only values higher than 42:**"
   ]
  },
  {
   "cell_type": "code",
   "execution_count": 2,
   "id": "9001b43a",
   "metadata": {},
   "outputs": [
    {
     "name": "stdout",
     "output_type": "stream",
     "text": [
      "[False, False, True, True]\n",
      "[43 44]\n"
     ]
    }
   ],
   "source": [
    "import numpy as np\n",
    "\n",
    "arr = np.array([41, 42, 43, 44])\n",
    "\n",
    "# Create an empty list\n",
    "filter_arr = []\n",
    "\n",
    "# go through each element in arr\n",
    "for element in arr:\n",
    "  # if the element is higher than 42, set the value to True, otherwise False:\n",
    "  if element > 42:\n",
    "    filter_arr.append(True)\n",
    "  else:\n",
    "    filter_arr.append(False)\n",
    "\n",
    "newarr = arr[filter_arr]\n",
    "\n",
    "print(filter_arr)\n",
    "print(newarr)\n"
   ]
  },
  {
   "cell_type": "markdown",
   "id": "ab79ffe0",
   "metadata": {},
   "source": [
    "### Example\n",
    "**Create a filter array that will return only even elements from the original array:**"
   ]
  },
  {
   "cell_type": "code",
   "execution_count": 3,
   "id": "c48e439d",
   "metadata": {},
   "outputs": [
    {
     "name": "stdout",
     "output_type": "stream",
     "text": [
      "[False, True, False, True, False, True, False]\n",
      "[2 4 6]\n"
     ]
    }
   ],
   "source": [
    "import numpy as np\n",
    "\n",
    "arr = np.array([1, 2, 3, 4, 5, 6, 7])\n",
    "\n",
    "# Create an empty list\n",
    "filter_arr = []\n",
    "\n",
    "# go through each element in arr\n",
    "for element in arr:\n",
    "  # if the element is completely divisble by 2, set the value to True, otherwise False\n",
    "  if element % 2 == 0:\n",
    "    filter_arr.append(True)\n",
    "  else:\n",
    "    filter_arr.append(False)\n",
    "\n",
    "newarr = arr[filter_arr]\n",
    "\n",
    "print(filter_arr)\n",
    "print(newarr)"
   ]
  },
  {
   "cell_type": "markdown",
   "id": "f029d1b4",
   "metadata": {},
   "source": [
    "## Creating Filter Directly From Array\n",
    "The above example is quite a common task in NumPy and NumPy provides a nice way to tackle it.\n",
    "\n",
    "We can directly substitute the array instead of the iterable variable in our condition and it will work just as we expect it to."
   ]
  },
  {
   "cell_type": "markdown",
   "id": "3e3745e1",
   "metadata": {},
   "source": [
    "### Example\n",
    "**Create a filter array that will return only values higher than 42:**"
   ]
  },
  {
   "cell_type": "code",
   "execution_count": 4,
   "id": "960bfbde",
   "metadata": {},
   "outputs": [
    {
     "name": "stdout",
     "output_type": "stream",
     "text": [
      "[False False  True  True]\n",
      "[43 44]\n"
     ]
    }
   ],
   "source": [
    "import numpy as np\n",
    "\n",
    "arr = np.array([41, 42, 43, 44])\n",
    "\n",
    "filter_arr = arr > 42\n",
    "\n",
    "newarr = arr[filter_arr]\n",
    "\n",
    "print(filter_arr)\n",
    "print(newarr)"
   ]
  },
  {
   "cell_type": "markdown",
   "id": "ce5aa963",
   "metadata": {},
   "source": [
    "### Example\n",
    "**Create a filter array that will return only even elements from the original array:**"
   ]
  },
  {
   "cell_type": "code",
   "execution_count": 5,
   "id": "d9db3657",
   "metadata": {},
   "outputs": [
    {
     "name": "stdout",
     "output_type": "stream",
     "text": [
      "[False  True False  True False  True False]\n",
      "[2 4 6]\n"
     ]
    }
   ],
   "source": [
    "import numpy as np\n",
    "\n",
    "arr = np.array([1, 2, 3, 4, 5, 6, 7])\n",
    "\n",
    "filter_arr = arr % 2 == 0\n",
    "\n",
    "newarr = arr[filter_arr]\n",
    "\n",
    "print(filter_arr)\n",
    "print(newarr)"
   ]
  },
  {
   "cell_type": "code",
   "execution_count": null,
   "id": "ef296fab",
   "metadata": {},
   "outputs": [],
   "source": []
  }
 ],
 "metadata": {
  "kernelspec": {
   "display_name": "Python 3 (ipykernel)",
   "language": "python",
   "name": "python3"
  },
  "language_info": {
   "codemirror_mode": {
    "name": "ipython",
    "version": 3
   },
   "file_extension": ".py",
   "mimetype": "text/x-python",
   "name": "python",
   "nbconvert_exporter": "python",
   "pygments_lexer": "ipython3",
   "version": "3.10.13"
  }
 },
 "nbformat": 4,
 "nbformat_minor": 5
}
