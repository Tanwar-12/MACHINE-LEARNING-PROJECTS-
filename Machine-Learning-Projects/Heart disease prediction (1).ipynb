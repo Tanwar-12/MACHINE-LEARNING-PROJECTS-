{
 "cells": [
  {
   "cell_type": "markdown",
   "id": "64654947",
   "metadata": {},
   "source": [
    "# HEART DISEASE PREDICTION"
   ]
  },
  {
   "cell_type": "markdown",
   "id": "a50163e9",
   "metadata": {},
   "source": [
    "## BUISENESS CASE : BASE ON GIVEN FEATURE AND MESUREMENT PREDICT WHETHER PATIENT WILL HAVE HEART DISEASE OR NOT"
   ]
  },
  {
   "cell_type": "markdown",
   "id": "e26704a3",
   "metadata": {},
   "source": [
    "### BINARY CLASSIFICATION TASK"
   ]
  },
  {
   "cell_type": "code",
   "execution_count": 89,
   "id": "a50131b8",
   "metadata": {},
   "outputs": [],
   "source": [
    "import pandas as pd\n",
    "import numpy as np\n",
    "import matplotlib.pyplot as plt\n",
    "%matplotlib inline\n",
    "import seaborn as sns \n",
    "import warnings\n",
    "warnings.filterwarnings('ignore')"
   ]
  },
  {
   "cell_type": "code",
   "execution_count": 90,
   "id": "7d1cc159",
   "metadata": {},
   "outputs": [
    {
     "data": {
      "text/html": [
       "<div>\n",
       "<style scoped>\n",
       "    .dataframe tbody tr th:only-of-type {\n",
       "        vertical-align: middle;\n",
       "    }\n",
       "\n",
       "    .dataframe tbody tr th {\n",
       "        vertical-align: top;\n",
       "    }\n",
       "\n",
       "    .dataframe thead th {\n",
       "        text-align: right;\n",
       "    }\n",
       "</style>\n",
       "<table border=\"1\" class=\"dataframe\">\n",
       "  <thead>\n",
       "    <tr style=\"text-align: right;\">\n",
       "      <th></th>\n",
       "      <th>patient_id</th>\n",
       "      <th>slope_of_peak_exercise_st_segment</th>\n",
       "      <th>thal</th>\n",
       "      <th>resting_blood_pressure</th>\n",
       "      <th>chest_pain_type</th>\n",
       "      <th>num_major_vessels</th>\n",
       "      <th>fasting_blood_sugar_gt_120_mg_per_dl</th>\n",
       "      <th>resting_ekg_results</th>\n",
       "      <th>serum_cholesterol_mg_per_dl</th>\n",
       "      <th>oldpeak_eq_st_depression</th>\n",
       "      <th>sex</th>\n",
       "      <th>age</th>\n",
       "      <th>max_heart_rate_achieved</th>\n",
       "      <th>exercise_induced_angina</th>\n",
       "      <th>patient_id</th>\n",
       "      <th>heart_disease_present</th>\n",
       "    </tr>\n",
       "  </thead>\n",
       "  <tbody>\n",
       "    <tr>\n",
       "      <th>0</th>\n",
       "      <td>0z64un</td>\n",
       "      <td>1</td>\n",
       "      <td>normal</td>\n",
       "      <td>128</td>\n",
       "      <td>2</td>\n",
       "      <td>0</td>\n",
       "      <td>0</td>\n",
       "      <td>2</td>\n",
       "      <td>308</td>\n",
       "      <td>0.0</td>\n",
       "      <td>1</td>\n",
       "      <td>45</td>\n",
       "      <td>170</td>\n",
       "      <td>0</td>\n",
       "      <td>0z64un</td>\n",
       "      <td>0</td>\n",
       "    </tr>\n",
       "    <tr>\n",
       "      <th>1</th>\n",
       "      <td>ryoo3j</td>\n",
       "      <td>2</td>\n",
       "      <td>normal</td>\n",
       "      <td>110</td>\n",
       "      <td>3</td>\n",
       "      <td>0</td>\n",
       "      <td>0</td>\n",
       "      <td>0</td>\n",
       "      <td>214</td>\n",
       "      <td>1.6</td>\n",
       "      <td>0</td>\n",
       "      <td>54</td>\n",
       "      <td>158</td>\n",
       "      <td>0</td>\n",
       "      <td>ryoo3j</td>\n",
       "      <td>0</td>\n",
       "    </tr>\n",
       "    <tr>\n",
       "      <th>2</th>\n",
       "      <td>yt1s1x</td>\n",
       "      <td>1</td>\n",
       "      <td>normal</td>\n",
       "      <td>125</td>\n",
       "      <td>4</td>\n",
       "      <td>3</td>\n",
       "      <td>0</td>\n",
       "      <td>2</td>\n",
       "      <td>304</td>\n",
       "      <td>0.0</td>\n",
       "      <td>1</td>\n",
       "      <td>77</td>\n",
       "      <td>162</td>\n",
       "      <td>1</td>\n",
       "      <td>yt1s1x</td>\n",
       "      <td>1</td>\n",
       "    </tr>\n",
       "    <tr>\n",
       "      <th>3</th>\n",
       "      <td>l2xjde</td>\n",
       "      <td>1</td>\n",
       "      <td>reversible_defect</td>\n",
       "      <td>152</td>\n",
       "      <td>4</td>\n",
       "      <td>0</td>\n",
       "      <td>0</td>\n",
       "      <td>0</td>\n",
       "      <td>223</td>\n",
       "      <td>0.0</td>\n",
       "      <td>1</td>\n",
       "      <td>40</td>\n",
       "      <td>181</td>\n",
       "      <td>0</td>\n",
       "      <td>l2xjde</td>\n",
       "      <td>1</td>\n",
       "    </tr>\n",
       "    <tr>\n",
       "      <th>4</th>\n",
       "      <td>oyt4ek</td>\n",
       "      <td>3</td>\n",
       "      <td>reversible_defect</td>\n",
       "      <td>178</td>\n",
       "      <td>1</td>\n",
       "      <td>0</td>\n",
       "      <td>0</td>\n",
       "      <td>2</td>\n",
       "      <td>270</td>\n",
       "      <td>4.2</td>\n",
       "      <td>1</td>\n",
       "      <td>59</td>\n",
       "      <td>145</td>\n",
       "      <td>0</td>\n",
       "      <td>oyt4ek</td>\n",
       "      <td>0</td>\n",
       "    </tr>\n",
       "  </tbody>\n",
       "</table>\n",
       "</div>"
      ],
      "text/plain": [
       "  patient_id  slope_of_peak_exercise_st_segment               thal  \\\n",
       "0     0z64un                                  1             normal   \n",
       "1     ryoo3j                                  2             normal   \n",
       "2     yt1s1x                                  1             normal   \n",
       "3     l2xjde                                  1  reversible_defect   \n",
       "4     oyt4ek                                  3  reversible_defect   \n",
       "\n",
       "   resting_blood_pressure  chest_pain_type  num_major_vessels  \\\n",
       "0                     128                2                  0   \n",
       "1                     110                3                  0   \n",
       "2                     125                4                  3   \n",
       "3                     152                4                  0   \n",
       "4                     178                1                  0   \n",
       "\n",
       "   fasting_blood_sugar_gt_120_mg_per_dl  resting_ekg_results  \\\n",
       "0                                     0                    2   \n",
       "1                                     0                    0   \n",
       "2                                     0                    2   \n",
       "3                                     0                    0   \n",
       "4                                     0                    2   \n",
       "\n",
       "   serum_cholesterol_mg_per_dl  oldpeak_eq_st_depression  sex  age  \\\n",
       "0                          308                       0.0    1   45   \n",
       "1                          214                       1.6    0   54   \n",
       "2                          304                       0.0    1   77   \n",
       "3                          223                       0.0    1   40   \n",
       "4                          270                       4.2    1   59   \n",
       "\n",
       "   max_heart_rate_achieved  exercise_induced_angina patient_id  \\\n",
       "0                      170                        0     0z64un   \n",
       "1                      158                        0     ryoo3j   \n",
       "2                      162                        1     yt1s1x   \n",
       "3                      181                        0     l2xjde   \n",
       "4                      145                        0     oyt4ek   \n",
       "\n",
       "   heart_disease_present  \n",
       "0                      0  \n",
       "1                      0  \n",
       "2                      1  \n",
       "3                      1  \n",
       "4                      0  "
      ]
     },
     "execution_count": 90,
     "metadata": {},
     "output_type": "execute_result"
    }
   ],
   "source": [
    "df = pd.read_csv('values.csv')\n",
    "df1 = pd.read_csv('labels.csv')\n",
    "data = pd.concat([df,df1],axis=1)\n",
    "data.head()"
   ]
  },
  {
   "cell_type": "code",
   "execution_count": 91,
   "id": "ff851fda",
   "metadata": {},
   "outputs": [
    {
     "data": {
      "text/html": [
       "<div>\n",
       "<style scoped>\n",
       "    .dataframe tbody tr th:only-of-type {\n",
       "        vertical-align: middle;\n",
       "    }\n",
       "\n",
       "    .dataframe tbody tr th {\n",
       "        vertical-align: top;\n",
       "    }\n",
       "\n",
       "    .dataframe thead th {\n",
       "        text-align: right;\n",
       "    }\n",
       "</style>\n",
       "<table border=\"1\" class=\"dataframe\">\n",
       "  <thead>\n",
       "    <tr style=\"text-align: right;\">\n",
       "      <th></th>\n",
       "      <th>patient_id</th>\n",
       "      <th>slope_of_peak_exercise_st_segment</th>\n",
       "      <th>thal</th>\n",
       "      <th>resting_blood_pressure</th>\n",
       "      <th>chest_pain_type</th>\n",
       "      <th>num_major_vessels</th>\n",
       "      <th>fasting_blood_sugar_gt_120_mg_per_dl</th>\n",
       "      <th>resting_ekg_results</th>\n",
       "      <th>serum_cholesterol_mg_per_dl</th>\n",
       "      <th>oldpeak_eq_st_depression</th>\n",
       "      <th>sex</th>\n",
       "      <th>age</th>\n",
       "      <th>max_heart_rate_achieved</th>\n",
       "      <th>exercise_induced_angina</th>\n",
       "      <th>patient_id</th>\n",
       "      <th>heart_disease_present</th>\n",
       "    </tr>\n",
       "  </thead>\n",
       "  <tbody>\n",
       "    <tr>\n",
       "      <th>0</th>\n",
       "      <td>0z64un</td>\n",
       "      <td>1</td>\n",
       "      <td>normal</td>\n",
       "      <td>128</td>\n",
       "      <td>2</td>\n",
       "      <td>0</td>\n",
       "      <td>0</td>\n",
       "      <td>2</td>\n",
       "      <td>308</td>\n",
       "      <td>0.0</td>\n",
       "      <td>1</td>\n",
       "      <td>45</td>\n",
       "      <td>170</td>\n",
       "      <td>0</td>\n",
       "      <td>0z64un</td>\n",
       "      <td>0</td>\n",
       "    </tr>\n",
       "    <tr>\n",
       "      <th>1</th>\n",
       "      <td>ryoo3j</td>\n",
       "      <td>2</td>\n",
       "      <td>normal</td>\n",
       "      <td>110</td>\n",
       "      <td>3</td>\n",
       "      <td>0</td>\n",
       "      <td>0</td>\n",
       "      <td>0</td>\n",
       "      <td>214</td>\n",
       "      <td>1.6</td>\n",
       "      <td>0</td>\n",
       "      <td>54</td>\n",
       "      <td>158</td>\n",
       "      <td>0</td>\n",
       "      <td>ryoo3j</td>\n",
       "      <td>0</td>\n",
       "    </tr>\n",
       "    <tr>\n",
       "      <th>2</th>\n",
       "      <td>yt1s1x</td>\n",
       "      <td>1</td>\n",
       "      <td>normal</td>\n",
       "      <td>125</td>\n",
       "      <td>4</td>\n",
       "      <td>3</td>\n",
       "      <td>0</td>\n",
       "      <td>2</td>\n",
       "      <td>304</td>\n",
       "      <td>0.0</td>\n",
       "      <td>1</td>\n",
       "      <td>77</td>\n",
       "      <td>162</td>\n",
       "      <td>1</td>\n",
       "      <td>yt1s1x</td>\n",
       "      <td>1</td>\n",
       "    </tr>\n",
       "    <tr>\n",
       "      <th>3</th>\n",
       "      <td>l2xjde</td>\n",
       "      <td>1</td>\n",
       "      <td>reversible_defect</td>\n",
       "      <td>152</td>\n",
       "      <td>4</td>\n",
       "      <td>0</td>\n",
       "      <td>0</td>\n",
       "      <td>0</td>\n",
       "      <td>223</td>\n",
       "      <td>0.0</td>\n",
       "      <td>1</td>\n",
       "      <td>40</td>\n",
       "      <td>181</td>\n",
       "      <td>0</td>\n",
       "      <td>l2xjde</td>\n",
       "      <td>1</td>\n",
       "    </tr>\n",
       "    <tr>\n",
       "      <th>4</th>\n",
       "      <td>oyt4ek</td>\n",
       "      <td>3</td>\n",
       "      <td>reversible_defect</td>\n",
       "      <td>178</td>\n",
       "      <td>1</td>\n",
       "      <td>0</td>\n",
       "      <td>0</td>\n",
       "      <td>2</td>\n",
       "      <td>270</td>\n",
       "      <td>4.2</td>\n",
       "      <td>1</td>\n",
       "      <td>59</td>\n",
       "      <td>145</td>\n",
       "      <td>0</td>\n",
       "      <td>oyt4ek</td>\n",
       "      <td>0</td>\n",
       "    </tr>\n",
       "  </tbody>\n",
       "</table>\n",
       "</div>"
      ],
      "text/plain": [
       "  patient_id  slope_of_peak_exercise_st_segment               thal  \\\n",
       "0     0z64un                                  1             normal   \n",
       "1     ryoo3j                                  2             normal   \n",
       "2     yt1s1x                                  1             normal   \n",
       "3     l2xjde                                  1  reversible_defect   \n",
       "4     oyt4ek                                  3  reversible_defect   \n",
       "\n",
       "   resting_blood_pressure  chest_pain_type  num_major_vessels  \\\n",
       "0                     128                2                  0   \n",
       "1                     110                3                  0   \n",
       "2                     125                4                  3   \n",
       "3                     152                4                  0   \n",
       "4                     178                1                  0   \n",
       "\n",
       "   fasting_blood_sugar_gt_120_mg_per_dl  resting_ekg_results  \\\n",
       "0                                     0                    2   \n",
       "1                                     0                    0   \n",
       "2                                     0                    2   \n",
       "3                                     0                    0   \n",
       "4                                     0                    2   \n",
       "\n",
       "   serum_cholesterol_mg_per_dl  oldpeak_eq_st_depression  sex  age  \\\n",
       "0                          308                       0.0    1   45   \n",
       "1                          214                       1.6    0   54   \n",
       "2                          304                       0.0    1   77   \n",
       "3                          223                       0.0    1   40   \n",
       "4                          270                       4.2    1   59   \n",
       "\n",
       "   max_heart_rate_achieved  exercise_induced_angina patient_id  \\\n",
       "0                      170                        0     0z64un   \n",
       "1                      158                        0     ryoo3j   \n",
       "2                      162                        1     yt1s1x   \n",
       "3                      181                        0     l2xjde   \n",
       "4                      145                        0     oyt4ek   \n",
       "\n",
       "   heart_disease_present  \n",
       "0                      0  \n",
       "1                      0  \n",
       "2                      1  \n",
       "3                      1  \n",
       "4                      0  "
      ]
     },
     "execution_count": 91,
     "metadata": {},
     "output_type": "execute_result"
    }
   ],
   "source": [
    "data.head()"
   ]
  },
  {
   "cell_type": "code",
   "execution_count": 92,
   "id": "24d5724a",
   "metadata": {},
   "outputs": [
    {
     "data": {
      "text/html": [
       "<div>\n",
       "<style scoped>\n",
       "    .dataframe tbody tr th:only-of-type {\n",
       "        vertical-align: middle;\n",
       "    }\n",
       "\n",
       "    .dataframe tbody tr th {\n",
       "        vertical-align: top;\n",
       "    }\n",
       "\n",
       "    .dataframe thead th {\n",
       "        text-align: right;\n",
       "    }\n",
       "</style>\n",
       "<table border=\"1\" class=\"dataframe\">\n",
       "  <thead>\n",
       "    <tr style=\"text-align: right;\">\n",
       "      <th></th>\n",
       "      <th>patient_id</th>\n",
       "      <th>slope_of_peak_exercise_st_segment</th>\n",
       "      <th>thal</th>\n",
       "      <th>resting_blood_pressure</th>\n",
       "      <th>chest_pain_type</th>\n",
       "      <th>num_major_vessels</th>\n",
       "      <th>fasting_blood_sugar_gt_120_mg_per_dl</th>\n",
       "      <th>resting_ekg_results</th>\n",
       "      <th>serum_cholesterol_mg_per_dl</th>\n",
       "      <th>oldpeak_eq_st_depression</th>\n",
       "      <th>sex</th>\n",
       "      <th>age</th>\n",
       "      <th>max_heart_rate_achieved</th>\n",
       "      <th>exercise_induced_angina</th>\n",
       "      <th>patient_id</th>\n",
       "      <th>heart_disease_present</th>\n",
       "    </tr>\n",
       "  </thead>\n",
       "  <tbody>\n",
       "    <tr>\n",
       "      <th>175</th>\n",
       "      <td>5qfar3</td>\n",
       "      <td>2</td>\n",
       "      <td>reversible_defect</td>\n",
       "      <td>125</td>\n",
       "      <td>4</td>\n",
       "      <td>2</td>\n",
       "      <td>1</td>\n",
       "      <td>0</td>\n",
       "      <td>254</td>\n",
       "      <td>0.2</td>\n",
       "      <td>1</td>\n",
       "      <td>67</td>\n",
       "      <td>163</td>\n",
       "      <td>0</td>\n",
       "      <td>5qfar3</td>\n",
       "      <td>1</td>\n",
       "    </tr>\n",
       "    <tr>\n",
       "      <th>176</th>\n",
       "      <td>2s2b1f</td>\n",
       "      <td>2</td>\n",
       "      <td>normal</td>\n",
       "      <td>180</td>\n",
       "      <td>4</td>\n",
       "      <td>0</td>\n",
       "      <td>0</td>\n",
       "      <td>1</td>\n",
       "      <td>327</td>\n",
       "      <td>3.4</td>\n",
       "      <td>0</td>\n",
       "      <td>55</td>\n",
       "      <td>117</td>\n",
       "      <td>1</td>\n",
       "      <td>2s2b1f</td>\n",
       "      <td>1</td>\n",
       "    </tr>\n",
       "    <tr>\n",
       "      <th>177</th>\n",
       "      <td>nsd00i</td>\n",
       "      <td>2</td>\n",
       "      <td>reversible_defect</td>\n",
       "      <td>125</td>\n",
       "      <td>3</td>\n",
       "      <td>0</td>\n",
       "      <td>0</td>\n",
       "      <td>0</td>\n",
       "      <td>309</td>\n",
       "      <td>1.8</td>\n",
       "      <td>1</td>\n",
       "      <td>64</td>\n",
       "      <td>131</td>\n",
       "      <td>1</td>\n",
       "      <td>nsd00i</td>\n",
       "      <td>1</td>\n",
       "    </tr>\n",
       "    <tr>\n",
       "      <th>178</th>\n",
       "      <td>0xw93k</td>\n",
       "      <td>1</td>\n",
       "      <td>normal</td>\n",
       "      <td>124</td>\n",
       "      <td>3</td>\n",
       "      <td>2</td>\n",
       "      <td>1</td>\n",
       "      <td>0</td>\n",
       "      <td>255</td>\n",
       "      <td>0.0</td>\n",
       "      <td>1</td>\n",
       "      <td>48</td>\n",
       "      <td>175</td>\n",
       "      <td>0</td>\n",
       "      <td>0xw93k</td>\n",
       "      <td>0</td>\n",
       "    </tr>\n",
       "    <tr>\n",
       "      <th>179</th>\n",
       "      <td>2nx10r</td>\n",
       "      <td>1</td>\n",
       "      <td>normal</td>\n",
       "      <td>160</td>\n",
       "      <td>3</td>\n",
       "      <td>1</td>\n",
       "      <td>0</td>\n",
       "      <td>0</td>\n",
       "      <td>201</td>\n",
       "      <td>0.0</td>\n",
       "      <td>0</td>\n",
       "      <td>54</td>\n",
       "      <td>163</td>\n",
       "      <td>0</td>\n",
       "      <td>2nx10r</td>\n",
       "      <td>0</td>\n",
       "    </tr>\n",
       "  </tbody>\n",
       "</table>\n",
       "</div>"
      ],
      "text/plain": [
       "    patient_id  slope_of_peak_exercise_st_segment               thal  \\\n",
       "175     5qfar3                                  2  reversible_defect   \n",
       "176     2s2b1f                                  2             normal   \n",
       "177     nsd00i                                  2  reversible_defect   \n",
       "178     0xw93k                                  1             normal   \n",
       "179     2nx10r                                  1             normal   \n",
       "\n",
       "     resting_blood_pressure  chest_pain_type  num_major_vessels  \\\n",
       "175                     125                4                  2   \n",
       "176                     180                4                  0   \n",
       "177                     125                3                  0   \n",
       "178                     124                3                  2   \n",
       "179                     160                3                  1   \n",
       "\n",
       "     fasting_blood_sugar_gt_120_mg_per_dl  resting_ekg_results  \\\n",
       "175                                     1                    0   \n",
       "176                                     0                    1   \n",
       "177                                     0                    0   \n",
       "178                                     1                    0   \n",
       "179                                     0                    0   \n",
       "\n",
       "     serum_cholesterol_mg_per_dl  oldpeak_eq_st_depression  sex  age  \\\n",
       "175                          254                       0.2    1   67   \n",
       "176                          327                       3.4    0   55   \n",
       "177                          309                       1.8    1   64   \n",
       "178                          255                       0.0    1   48   \n",
       "179                          201                       0.0    0   54   \n",
       "\n",
       "     max_heart_rate_achieved  exercise_induced_angina patient_id  \\\n",
       "175                      163                        0     5qfar3   \n",
       "176                      117                        1     2s2b1f   \n",
       "177                      131                        1     nsd00i   \n",
       "178                      175                        0     0xw93k   \n",
       "179                      163                        0     2nx10r   \n",
       "\n",
       "     heart_disease_present  \n",
       "175                      1  \n",
       "176                      1  \n",
       "177                      1  \n",
       "178                      0  \n",
       "179                      0  "
      ]
     },
     "execution_count": 92,
     "metadata": {},
     "output_type": "execute_result"
    }
   ],
   "source": [
    "data.tail()"
   ]
  },
  {
   "cell_type": "code",
   "execution_count": 93,
   "id": "9275e720",
   "metadata": {},
   "outputs": [
    {
     "data": {
      "text/plain": [
       "Index(['patient_id', 'slope_of_peak_exercise_st_segment', 'thal',\n",
       "       'resting_blood_pressure', 'chest_pain_type', 'num_major_vessels',\n",
       "       'fasting_blood_sugar_gt_120_mg_per_dl', 'resting_ekg_results',\n",
       "       'serum_cholesterol_mg_per_dl', 'oldpeak_eq_st_depression', 'sex', 'age',\n",
       "       'max_heart_rate_achieved', 'exercise_induced_angina', 'patient_id',\n",
       "       'heart_disease_present'],\n",
       "      dtype='object')"
      ]
     },
     "execution_count": 93,
     "metadata": {},
     "output_type": "execute_result"
    }
   ],
   "source": [
    "data.columns"
   ]
  },
  {
   "cell_type": "code",
   "execution_count": 94,
   "id": "2c8f9ddd",
   "metadata": {},
   "outputs": [
    {
     "data": {
      "text/plain": [
       "(180, 16)"
      ]
     },
     "execution_count": 94,
     "metadata": {},
     "output_type": "execute_result"
    }
   ],
   "source": [
    "data.shape"
   ]
  },
  {
   "cell_type": "code",
   "execution_count": 95,
   "id": "c76ca54a",
   "metadata": {},
   "outputs": [
    {
     "name": "stdout",
     "output_type": "stream",
     "text": [
      "<class 'pandas.core.frame.DataFrame'>\n",
      "RangeIndex: 180 entries, 0 to 179\n",
      "Data columns (total 16 columns):\n",
      " #   Column                                Non-Null Count  Dtype  \n",
      "---  ------                                --------------  -----  \n",
      " 0   patient_id                            180 non-null    object \n",
      " 1   slope_of_peak_exercise_st_segment     180 non-null    int64  \n",
      " 2   thal                                  180 non-null    object \n",
      " 3   resting_blood_pressure                180 non-null    int64  \n",
      " 4   chest_pain_type                       180 non-null    int64  \n",
      " 5   num_major_vessels                     180 non-null    int64  \n",
      " 6   fasting_blood_sugar_gt_120_mg_per_dl  180 non-null    int64  \n",
      " 7   resting_ekg_results                   180 non-null    int64  \n",
      " 8   serum_cholesterol_mg_per_dl           180 non-null    int64  \n",
      " 9   oldpeak_eq_st_depression              180 non-null    float64\n",
      " 10  sex                                   180 non-null    int64  \n",
      " 11  age                                   180 non-null    int64  \n",
      " 12  max_heart_rate_achieved               180 non-null    int64  \n",
      " 13  exercise_induced_angina               180 non-null    int64  \n",
      " 14  patient_id                            180 non-null    object \n",
      " 15  heart_disease_present                 180 non-null    int64  \n",
      "dtypes: float64(1), int64(12), object(3)\n",
      "memory usage: 22.6+ KB\n"
     ]
    }
   ],
   "source": [
    "data.info()"
   ]
  },
  {
   "cell_type": "code",
   "execution_count": 96,
   "id": "07a75eff",
   "metadata": {},
   "outputs": [
    {
     "data": {
      "text/html": [
       "<div>\n",
       "<style scoped>\n",
       "    .dataframe tbody tr th:only-of-type {\n",
       "        vertical-align: middle;\n",
       "    }\n",
       "\n",
       "    .dataframe tbody tr th {\n",
       "        vertical-align: top;\n",
       "    }\n",
       "\n",
       "    .dataframe thead th {\n",
       "        text-align: right;\n",
       "    }\n",
       "</style>\n",
       "<table border=\"1\" class=\"dataframe\">\n",
       "  <thead>\n",
       "    <tr style=\"text-align: right;\">\n",
       "      <th></th>\n",
       "      <th>slope_of_peak_exercise_st_segment</th>\n",
       "      <th>resting_blood_pressure</th>\n",
       "      <th>chest_pain_type</th>\n",
       "      <th>num_major_vessels</th>\n",
       "      <th>fasting_blood_sugar_gt_120_mg_per_dl</th>\n",
       "      <th>resting_ekg_results</th>\n",
       "      <th>serum_cholesterol_mg_per_dl</th>\n",
       "      <th>oldpeak_eq_st_depression</th>\n",
       "      <th>sex</th>\n",
       "      <th>age</th>\n",
       "      <th>max_heart_rate_achieved</th>\n",
       "      <th>exercise_induced_angina</th>\n",
       "      <th>heart_disease_present</th>\n",
       "    </tr>\n",
       "  </thead>\n",
       "  <tbody>\n",
       "    <tr>\n",
       "      <th>count</th>\n",
       "      <td>180.000000</td>\n",
       "      <td>180.000000</td>\n",
       "      <td>180.000000</td>\n",
       "      <td>180.000000</td>\n",
       "      <td>180.000000</td>\n",
       "      <td>180.000000</td>\n",
       "      <td>180.000000</td>\n",
       "      <td>180.000000</td>\n",
       "      <td>180.000000</td>\n",
       "      <td>180.000000</td>\n",
       "      <td>180.000000</td>\n",
       "      <td>180.000000</td>\n",
       "      <td>180.000000</td>\n",
       "    </tr>\n",
       "    <tr>\n",
       "      <th>mean</th>\n",
       "      <td>1.550000</td>\n",
       "      <td>131.311111</td>\n",
       "      <td>3.155556</td>\n",
       "      <td>0.694444</td>\n",
       "      <td>0.161111</td>\n",
       "      <td>1.050000</td>\n",
       "      <td>249.211111</td>\n",
       "      <td>1.010000</td>\n",
       "      <td>0.688889</td>\n",
       "      <td>54.811111</td>\n",
       "      <td>149.483333</td>\n",
       "      <td>0.316667</td>\n",
       "      <td>0.444444</td>\n",
       "    </tr>\n",
       "    <tr>\n",
       "      <th>std</th>\n",
       "      <td>0.618838</td>\n",
       "      <td>17.010443</td>\n",
       "      <td>0.938454</td>\n",
       "      <td>0.969347</td>\n",
       "      <td>0.368659</td>\n",
       "      <td>0.998742</td>\n",
       "      <td>52.717969</td>\n",
       "      <td>1.121357</td>\n",
       "      <td>0.464239</td>\n",
       "      <td>9.334737</td>\n",
       "      <td>22.063513</td>\n",
       "      <td>0.466474</td>\n",
       "      <td>0.498290</td>\n",
       "    </tr>\n",
       "    <tr>\n",
       "      <th>min</th>\n",
       "      <td>1.000000</td>\n",
       "      <td>94.000000</td>\n",
       "      <td>1.000000</td>\n",
       "      <td>0.000000</td>\n",
       "      <td>0.000000</td>\n",
       "      <td>0.000000</td>\n",
       "      <td>126.000000</td>\n",
       "      <td>0.000000</td>\n",
       "      <td>0.000000</td>\n",
       "      <td>29.000000</td>\n",
       "      <td>96.000000</td>\n",
       "      <td>0.000000</td>\n",
       "      <td>0.000000</td>\n",
       "    </tr>\n",
       "    <tr>\n",
       "      <th>25%</th>\n",
       "      <td>1.000000</td>\n",
       "      <td>120.000000</td>\n",
       "      <td>3.000000</td>\n",
       "      <td>0.000000</td>\n",
       "      <td>0.000000</td>\n",
       "      <td>0.000000</td>\n",
       "      <td>213.750000</td>\n",
       "      <td>0.000000</td>\n",
       "      <td>0.000000</td>\n",
       "      <td>48.000000</td>\n",
       "      <td>132.000000</td>\n",
       "      <td>0.000000</td>\n",
       "      <td>0.000000</td>\n",
       "    </tr>\n",
       "    <tr>\n",
       "      <th>50%</th>\n",
       "      <td>1.000000</td>\n",
       "      <td>130.000000</td>\n",
       "      <td>3.000000</td>\n",
       "      <td>0.000000</td>\n",
       "      <td>0.000000</td>\n",
       "      <td>2.000000</td>\n",
       "      <td>245.500000</td>\n",
       "      <td>0.800000</td>\n",
       "      <td>1.000000</td>\n",
       "      <td>55.000000</td>\n",
       "      <td>152.000000</td>\n",
       "      <td>0.000000</td>\n",
       "      <td>0.000000</td>\n",
       "    </tr>\n",
       "    <tr>\n",
       "      <th>75%</th>\n",
       "      <td>2.000000</td>\n",
       "      <td>140.000000</td>\n",
       "      <td>4.000000</td>\n",
       "      <td>1.000000</td>\n",
       "      <td>0.000000</td>\n",
       "      <td>2.000000</td>\n",
       "      <td>281.250000</td>\n",
       "      <td>1.600000</td>\n",
       "      <td>1.000000</td>\n",
       "      <td>62.000000</td>\n",
       "      <td>166.250000</td>\n",
       "      <td>1.000000</td>\n",
       "      <td>1.000000</td>\n",
       "    </tr>\n",
       "    <tr>\n",
       "      <th>max</th>\n",
       "      <td>3.000000</td>\n",
       "      <td>180.000000</td>\n",
       "      <td>4.000000</td>\n",
       "      <td>3.000000</td>\n",
       "      <td>1.000000</td>\n",
       "      <td>2.000000</td>\n",
       "      <td>564.000000</td>\n",
       "      <td>6.200000</td>\n",
       "      <td>1.000000</td>\n",
       "      <td>77.000000</td>\n",
       "      <td>202.000000</td>\n",
       "      <td>1.000000</td>\n",
       "      <td>1.000000</td>\n",
       "    </tr>\n",
       "  </tbody>\n",
       "</table>\n",
       "</div>"
      ],
      "text/plain": [
       "       slope_of_peak_exercise_st_segment  resting_blood_pressure  \\\n",
       "count                         180.000000              180.000000   \n",
       "mean                            1.550000              131.311111   \n",
       "std                             0.618838               17.010443   \n",
       "min                             1.000000               94.000000   \n",
       "25%                             1.000000              120.000000   \n",
       "50%                             1.000000              130.000000   \n",
       "75%                             2.000000              140.000000   \n",
       "max                             3.000000              180.000000   \n",
       "\n",
       "       chest_pain_type  num_major_vessels  \\\n",
       "count       180.000000         180.000000   \n",
       "mean          3.155556           0.694444   \n",
       "std           0.938454           0.969347   \n",
       "min           1.000000           0.000000   \n",
       "25%           3.000000           0.000000   \n",
       "50%           3.000000           0.000000   \n",
       "75%           4.000000           1.000000   \n",
       "max           4.000000           3.000000   \n",
       "\n",
       "       fasting_blood_sugar_gt_120_mg_per_dl  resting_ekg_results  \\\n",
       "count                            180.000000           180.000000   \n",
       "mean                               0.161111             1.050000   \n",
       "std                                0.368659             0.998742   \n",
       "min                                0.000000             0.000000   \n",
       "25%                                0.000000             0.000000   \n",
       "50%                                0.000000             2.000000   \n",
       "75%                                0.000000             2.000000   \n",
       "max                                1.000000             2.000000   \n",
       "\n",
       "       serum_cholesterol_mg_per_dl  oldpeak_eq_st_depression         sex  \\\n",
       "count                   180.000000                180.000000  180.000000   \n",
       "mean                    249.211111                  1.010000    0.688889   \n",
       "std                      52.717969                  1.121357    0.464239   \n",
       "min                     126.000000                  0.000000    0.000000   \n",
       "25%                     213.750000                  0.000000    0.000000   \n",
       "50%                     245.500000                  0.800000    1.000000   \n",
       "75%                     281.250000                  1.600000    1.000000   \n",
       "max                     564.000000                  6.200000    1.000000   \n",
       "\n",
       "              age  max_heart_rate_achieved  exercise_induced_angina  \\\n",
       "count  180.000000               180.000000               180.000000   \n",
       "mean    54.811111               149.483333                 0.316667   \n",
       "std      9.334737                22.063513                 0.466474   \n",
       "min     29.000000                96.000000                 0.000000   \n",
       "25%     48.000000               132.000000                 0.000000   \n",
       "50%     55.000000               152.000000                 0.000000   \n",
       "75%     62.000000               166.250000                 1.000000   \n",
       "max     77.000000               202.000000                 1.000000   \n",
       "\n",
       "       heart_disease_present  \n",
       "count             180.000000  \n",
       "mean                0.444444  \n",
       "std                 0.498290  \n",
       "min                 0.000000  \n",
       "25%                 0.000000  \n",
       "50%                 0.000000  \n",
       "75%                 1.000000  \n",
       "max                 1.000000  "
      ]
     },
     "execution_count": 96,
     "metadata": {},
     "output_type": "execute_result"
    }
   ],
   "source": [
    "data.describe()"
   ]
  },
  {
   "cell_type": "markdown",
   "id": "fac28cbb",
   "metadata": {},
   "source": [
    "## EDA\n",
    "### Univariate "
   ]
  },
  {
   "cell_type": "code",
   "execution_count": 97,
   "id": "58acd4cb",
   "metadata": {},
   "outputs": [],
   "source": [
    "# Changing column name: \n",
    "data.rename({'slope_of_peak_exercise_st_segment':'sop','resting_blood_pressure':'resting_bp','chest_pain_type':'cpt',\n",
    "            'num_major_vessels':'major_vessels','fasting_blood_sugar_gt_120_mg_per_dl':'fasting_blood_sugar',\n",
    "            'resting_ekg_results':'ekg_result','serum_cholesterol_mg_per_dl':'serum_cholesterol',\n",
    "            'oldpeak_eq_st_depression':'oldpeak_st_depression','max_heart_rate_achieved':'max_heart_rate',\n",
    "             'heart_disease_present':'heart_disease'},inplace=True,axis=1)"
   ]
  },
  {
   "cell_type": "code",
   "execution_count": 98,
   "id": "f93ab7b2",
   "metadata": {},
   "outputs": [],
   "source": [
    "univariate = data[['sop','thal','resting_bp','cpt','major_vessels','fasting_blood_sugar','ekg_result',\n",
    "                  'serum_cholesterol','oldpeak_st_depression','sex','age','max_heart_rate','exercise_induced_angina',\n",
    "                   'heart_disease']]"
   ]
  },
  {
   "cell_type": "code",
   "execution_count": 11,
   "id": "5b13e69d",
   "metadata": {},
   "outputs": [
    {
     "data": {
      "application/vnd.jupyter.widget-view+json": {
       "model_id": "365406b069614163b31168658a597ff2",
       "version_major": 2,
       "version_minor": 0
      },
      "text/plain": [
       "                                             |                                             | [  0%]   00:00 ->…"
      ]
     },
     "metadata": {},
     "output_type": "display_data"
    },
    {
     "name": "stdout",
     "output_type": "stream",
     "text": [
      "Report SWEETVIZ_REPORT.html was generated! NOTEBOOK/COLAB USERS: the web browser MAY not pop up, regardless, the report IS saved in your notebook/colab files.\n"
     ]
    }
   ],
   "source": [
    "import sweetviz\n",
    "sv = sweetviz.analyze(univariate)\n",
    "sv.show_html()  # Generate default argument"
   ]
  },
  {
   "cell_type": "markdown",
   "id": "d4851b0a",
   "metadata": {},
   "source": [
    "### Bivariate "
   ]
  },
  {
   "cell_type": "markdown",
   "id": "e981854c",
   "metadata": {},
   "source": [
    "### ANALYSIS ON CATEGORICAL VERIABLE WITH RESPECT TO TARGET VERIABLE(HEART DISEASE)\n"
   ]
  },
  {
   "cell_type": "code",
   "execution_count": 99,
   "id": "18713790",
   "metadata": {},
   "outputs": [
    {
     "data": {
      "text/html": [
       "<div>\n",
       "<style scoped>\n",
       "    .dataframe tbody tr th:only-of-type {\n",
       "        vertical-align: middle;\n",
       "    }\n",
       "\n",
       "    .dataframe tbody tr th {\n",
       "        vertical-align: top;\n",
       "    }\n",
       "\n",
       "    .dataframe thead th {\n",
       "        text-align: right;\n",
       "    }\n",
       "</style>\n",
       "<table border=\"1\" class=\"dataframe\">\n",
       "  <thead>\n",
       "    <tr style=\"text-align: right;\">\n",
       "      <th></th>\n",
       "      <th>patient_id</th>\n",
       "      <th>sop</th>\n",
       "      <th>thal</th>\n",
       "      <th>resting_bp</th>\n",
       "      <th>cpt</th>\n",
       "      <th>major_vessels</th>\n",
       "      <th>fasting_blood_sugar</th>\n",
       "      <th>ekg_result</th>\n",
       "      <th>serum_cholesterol</th>\n",
       "      <th>oldpeak_st_depression</th>\n",
       "      <th>sex</th>\n",
       "      <th>age</th>\n",
       "      <th>max_heart_rate</th>\n",
       "      <th>exercise_induced_angina</th>\n",
       "      <th>patient_id</th>\n",
       "      <th>heart_disease</th>\n",
       "    </tr>\n",
       "  </thead>\n",
       "  <tbody>\n",
       "    <tr>\n",
       "      <th>0</th>\n",
       "      <td>0z64un</td>\n",
       "      <td>1</td>\n",
       "      <td>normal</td>\n",
       "      <td>128</td>\n",
       "      <td>2</td>\n",
       "      <td>0</td>\n",
       "      <td>0</td>\n",
       "      <td>2</td>\n",
       "      <td>308</td>\n",
       "      <td>0.0</td>\n",
       "      <td>1</td>\n",
       "      <td>45</td>\n",
       "      <td>170</td>\n",
       "      <td>0</td>\n",
       "      <td>0z64un</td>\n",
       "      <td>0</td>\n",
       "    </tr>\n",
       "    <tr>\n",
       "      <th>1</th>\n",
       "      <td>ryoo3j</td>\n",
       "      <td>2</td>\n",
       "      <td>normal</td>\n",
       "      <td>110</td>\n",
       "      <td>3</td>\n",
       "      <td>0</td>\n",
       "      <td>0</td>\n",
       "      <td>0</td>\n",
       "      <td>214</td>\n",
       "      <td>1.6</td>\n",
       "      <td>0</td>\n",
       "      <td>54</td>\n",
       "      <td>158</td>\n",
       "      <td>0</td>\n",
       "      <td>ryoo3j</td>\n",
       "      <td>0</td>\n",
       "    </tr>\n",
       "    <tr>\n",
       "      <th>2</th>\n",
       "      <td>yt1s1x</td>\n",
       "      <td>1</td>\n",
       "      <td>normal</td>\n",
       "      <td>125</td>\n",
       "      <td>4</td>\n",
       "      <td>3</td>\n",
       "      <td>0</td>\n",
       "      <td>2</td>\n",
       "      <td>304</td>\n",
       "      <td>0.0</td>\n",
       "      <td>1</td>\n",
       "      <td>77</td>\n",
       "      <td>162</td>\n",
       "      <td>1</td>\n",
       "      <td>yt1s1x</td>\n",
       "      <td>1</td>\n",
       "    </tr>\n",
       "    <tr>\n",
       "      <th>3</th>\n",
       "      <td>l2xjde</td>\n",
       "      <td>1</td>\n",
       "      <td>reversible_defect</td>\n",
       "      <td>152</td>\n",
       "      <td>4</td>\n",
       "      <td>0</td>\n",
       "      <td>0</td>\n",
       "      <td>0</td>\n",
       "      <td>223</td>\n",
       "      <td>0.0</td>\n",
       "      <td>1</td>\n",
       "      <td>40</td>\n",
       "      <td>181</td>\n",
       "      <td>0</td>\n",
       "      <td>l2xjde</td>\n",
       "      <td>1</td>\n",
       "    </tr>\n",
       "    <tr>\n",
       "      <th>4</th>\n",
       "      <td>oyt4ek</td>\n",
       "      <td>3</td>\n",
       "      <td>reversible_defect</td>\n",
       "      <td>178</td>\n",
       "      <td>1</td>\n",
       "      <td>0</td>\n",
       "      <td>0</td>\n",
       "      <td>2</td>\n",
       "      <td>270</td>\n",
       "      <td>4.2</td>\n",
       "      <td>1</td>\n",
       "      <td>59</td>\n",
       "      <td>145</td>\n",
       "      <td>0</td>\n",
       "      <td>oyt4ek</td>\n",
       "      <td>0</td>\n",
       "    </tr>\n",
       "  </tbody>\n",
       "</table>\n",
       "</div>"
      ],
      "text/plain": [
       "  patient_id  sop               thal  resting_bp  cpt  major_vessels  \\\n",
       "0     0z64un    1             normal         128    2              0   \n",
       "1     ryoo3j    2             normal         110    3              0   \n",
       "2     yt1s1x    1             normal         125    4              3   \n",
       "3     l2xjde    1  reversible_defect         152    4              0   \n",
       "4     oyt4ek    3  reversible_defect         178    1              0   \n",
       "\n",
       "   fasting_blood_sugar  ekg_result  serum_cholesterol  oldpeak_st_depression  \\\n",
       "0                    0           2                308                    0.0   \n",
       "1                    0           0                214                    1.6   \n",
       "2                    0           2                304                    0.0   \n",
       "3                    0           0                223                    0.0   \n",
       "4                    0           2                270                    4.2   \n",
       "\n",
       "   sex  age  max_heart_rate  exercise_induced_angina patient_id  heart_disease  \n",
       "0    1   45             170                        0     0z64un              0  \n",
       "1    0   54             158                        0     ryoo3j              0  \n",
       "2    1   77             162                        1     yt1s1x              1  \n",
       "3    1   40             181                        0     l2xjde              1  \n",
       "4    1   59             145                        0     oyt4ek              0  "
      ]
     },
     "execution_count": 99,
     "metadata": {},
     "output_type": "execute_result"
    }
   ],
   "source": [
    "data.head()"
   ]
  },
  {
   "cell_type": "code",
   "execution_count": 100,
   "id": "1239a584",
   "metadata": {},
   "outputs": [
    {
     "data": {
      "image/png": "[encoded data removed]",
      "text/plain": [
       "<Figure size 1440x1584 with 8 Axes>"
      ]
     },
     "metadata": {},
     "output_type": "display_data"
    }
   ],
   "source": [
    "categorical = data[['sop','thal','cpt','fasting_blood_sugar','sex','major_vessels','ekg_result','exercise_induced_angina']]\n",
    "sns.set_style('darkgrid')\n",
    "plt.figure(figsize=(20,22), facecolor='white')# defining  canvas size\n",
    "plotnumber = 1 # initializing plotnumber variable to 1 it will maintain the count of how many graph is going to plot in canvas \n",
    "\n",
    "\n",
    "for column in categorical: # iteration of columns / acessing the columns from  dataset \n",
    "    if plotnumber<=9 :     # set the limit\n",
    "        ax = plt.subplot(3,3,plotnumber)# plotting 9 graphs (3-rows,3-columns) ,plotnumber is for count  \n",
    "        sns.countplot(x=categorical[column],hue=data.heart_disease) # it give frequency hue =value counts\n",
    "        plt.xlabel(column,fontsize=20) # assigning name to x-axis and font size is 20\n",
    "        plt.ylabel('HeartDisease',fontsize=20) # assigning name to y-axis and font size is 20\n",
    "    plotnumber+=1 # increment of plotnumber \n",
    "plt.tight_layout()\n",
    "plt.show() # used to hide storage area location"
   ]
  },
  {
   "cell_type": "markdown",
   "id": "8a75ba99",
   "metadata": {},
   "source": [
    "### ANALYSIS ON NUMERICAL VERIABLE WITH RESPECT TO TARGET VERIBLE (HEART DISEASE)"
   ]
  },
  {
   "cell_type": "code",
   "execution_count": 101,
   "id": "52d00754",
   "metadata": {},
   "outputs": [
    {
     "data": {
      "image/png": "[encoded data removed]",
      "text/plain": [
       "<Figure size 1440x1584 with 5 Axes>"
      ]
     },
     "metadata": {},
     "output_type": "display_data"
    }
   ],
   "source": [
    "numerical = data[['resting_bp','serum_cholesterol','oldpeak_st_depression','age','max_heart_rate']]\n",
    "sns.set_style('darkgrid')\n",
    "plt.figure(figsize=(20,22)) # defining canvas size\n",
    "plotno = 1 # counter\n",
    "\n",
    "for column in numerical: # iteration of columns / acessing the columns from  dataset \n",
    "    if plotno<=9:    # set the limit\n",
    "        plt.subplot(3,2,plotno) # # plotting 5 graphs (3-rows,3-columns) ,plotnumber is for count\n",
    "        sns.histplot(x=numerical[column],hue=data.heart_disease) # it give frequency hue =value counts\n",
    "        plt.ylabel('HeartDisease',fontsize=20)# assigning name to y-axis and font size is 20\n",
    "        plt.xlabel(column,fontsize=20)  # assigning name to x-axis and font size is 20\n",
    "    plotno+=1 # counter increment\n",
    "plt.tight_layout()\n",
    "plt.show() # used to hide the storage loction"
   ]
  },
  {
   "cell_type": "markdown",
   "id": "704e3135",
   "metadata": {},
   "source": [
    "### Multivariate \n",
    "#### CHECK RELATION OF TWO VERIABLE WITH RESPECT TO TARGET VERIBLE (HEART DISEASE)"
   ]
  },
  {
   "cell_type": "code",
   "execution_count": 102,
   "id": "cbe8520b",
   "metadata": {},
   "outputs": [
    {
     "data": {
      "image/png": "[encoded data removed]",
      "text/plain": [
       "<Figure size 432x288 with 1 Axes>"
      ]
     },
     "metadata": {},
     "output_type": "display_data"
    }
   ],
   "source": [
    "sns.barplot(x='sop',y='resting_bp',hue=data.heart_disease,data=data)\n",
    "plt.show()"
   ]
  },
  {
   "cell_type": "code",
   "execution_count": 103,
   "id": "a7a92fed",
   "metadata": {},
   "outputs": [
    {
     "data": {
      "image/png": "[encoded data removed]",
      "text/plain": [
       "<Figure size 432x288 with 1 Axes>"
      ]
     },
     "metadata": {},
     "output_type": "display_data"
    }
   ],
   "source": [
    "sns.barplot(x='thal',y='oldpeak_st_depression',hue=data.heart_disease,data=data)\n",
    "plt.show()"
   ]
  },
  {
   "cell_type": "code",
   "execution_count": 104,
   "id": "60d67ff5",
   "metadata": {},
   "outputs": [
    {
     "data": {
      "image/png": "[encoded data removed]",
      "text/plain": [
       "<Figure size 432x288 with 1 Axes>"
      ]
     },
     "metadata": {},
     "output_type": "display_data"
    }
   ],
   "source": [
    "sns.barplot(x='cpt',y='max_heart_rate',hue=data.heart_disease,data=data)\n",
    "plt.show()"
   ]
  },
  {
   "cell_type": "code",
   "execution_count": 105,
   "id": "4058d234",
   "metadata": {},
   "outputs": [
    {
     "data": {
      "image/png": "[encoded data removed]",
      "text/plain": [
       "<Figure size 432x288 with 1 Axes>"
      ]
     },
     "metadata": {},
     "output_type": "display_data"
    }
   ],
   "source": [
    "sns.barplot(x='fasting_blood_sugar',y='age',hue=data.heart_disease,data=data)\n",
    "plt.show()"
   ]
  },
  {
   "cell_type": "code",
   "execution_count": 106,
   "id": "8f069cf1",
   "metadata": {},
   "outputs": [
    {
     "data": {
      "image/png": "[encoded data removed]",
      "text/plain": [
       "<Figure size 432x288 with 1 Axes>"
      ]
     },
     "metadata": {},
     "output_type": "display_data"
    }
   ],
   "source": [
    "sns.barplot(x='sex',y='max_heart_rate',hue=data.heart_disease,data=data)\n",
    "plt.show()"
   ]
  },
  {
   "cell_type": "code",
   "execution_count": 107,
   "id": "f0e9ab4a",
   "metadata": {},
   "outputs": [
    {
     "data": {
      "image/png": "[encoded data removed]",
      "text/plain": [
       "<Figure size 432x288 with 1 Axes>"
      ]
     },
     "metadata": {},
     "output_type": "display_data"
    }
   ],
   "source": [
    "sns.barplot(x='major_vessels',y='exercise_induced_angina',hue=data.heart_disease,data=data)\n",
    "plt.show()"
   ]
  },
  {
   "cell_type": "code",
   "execution_count": 108,
   "id": "2874b478",
   "metadata": {},
   "outputs": [
    {
     "data": {
      "image/png": "[encoded data removed]",
      "text/plain": [
       "<Figure size 432x288 with 1 Axes>"
      ]
     },
     "metadata": {},
     "output_type": "display_data"
    }
   ],
   "source": [
    "sns.barplot(x='ekg_result',y='serum_cholesterol',hue=data.heart_disease,data=data)\n",
    "plt.show()"
   ]
  },
  {
   "cell_type": "markdown",
   "id": "d901b497",
   "metadata": {},
   "source": [
    "### DATA PREPROCESSING / FEATURE ENGINEERING"
   ]
  },
  {
   "cell_type": "code",
   "execution_count": 109,
   "id": "b3c2ea0e",
   "metadata": {},
   "outputs": [
    {
     "data": {
      "text/plain": [
       "patient_id                 0\n",
       "sop                        0\n",
       "thal                       0\n",
       "resting_bp                 0\n",
       "cpt                        0\n",
       "major_vessels              0\n",
       "fasting_blood_sugar        0\n",
       "ekg_result                 0\n",
       "serum_cholesterol          0\n",
       "oldpeak_st_depression      0\n",
       "sex                        0\n",
       "age                        0\n",
       "max_heart_rate             0\n",
       "exercise_induced_angina    0\n",
       "patient_id                 0\n",
       "heart_disease              0\n",
       "dtype: int64"
      ]
     },
     "execution_count": 109,
     "metadata": {},
     "output_type": "execute_result"
    }
   ],
   "source": [
    "data.isnull().sum()"
   ]
  },
  {
   "cell_type": "markdown",
   "id": "3f8e6d81",
   "metadata": {},
   "source": [
    "### CATEGORICAL DATA CONVERSION"
   ]
  },
  {
   "cell_type": "code",
   "execution_count": 110,
   "id": "44e575d2",
   "metadata": {},
   "outputs": [
    {
     "data": {
      "text/plain": [
       "normal               98\n",
       "reversible_defect    74\n",
       "fixed_defect          8\n",
       "Name: thal, dtype: int64"
      ]
     },
     "execution_count": 110,
     "metadata": {},
     "output_type": "execute_result"
    }
   ],
   "source": [
    "# In this dataset only one categorical data-type feature \n",
    "# we use manual encoding to convert categorical data to numerical \n",
    "# Getting the value counts of thal\n",
    "data.thal.value_counts()"
   ]
  },
  {
   "cell_type": "code",
   "execution_count": 111,
   "id": "1765ab41",
   "metadata": {},
   "outputs": [],
   "source": [
    "data.thal = data.thal.map({'normal':2,'reversible_defect':1,'fixed_defect':0})\n",
    "# normal is assign with value 2 because normal has more weightage\n",
    "# reversible defect assign with value 1 because of less weightage than normal\n",
    "# fixed defect assign with value 0 because of less weightage"
   ]
  },
  {
   "cell_type": "code",
   "execution_count": 112,
   "id": "0dea60ed",
   "metadata": {},
   "outputs": [
    {
     "data": {
      "text/plain": [
       "array([2, 1, 0], dtype=int64)"
      ]
     },
     "execution_count": 112,
     "metadata": {},
     "output_type": "execute_result"
    }
   ],
   "source": [
    "# checking the unique value of thal\n",
    "data.thal.unique()"
   ]
  },
  {
   "cell_type": "markdown",
   "id": "bb5ca62c",
   "metadata": {},
   "source": [
    "### Outliers handling"
   ]
  },
  {
   "cell_type": "code",
   "execution_count": 113,
   "id": "1239334a",
   "metadata": {},
   "outputs": [
    {
     "data": {
      "image/png": "[encoded data removed]",
      "text/plain": [
       "<Figure size 1440x1584 with 5 Axes>"
      ]
     },
     "metadata": {},
     "output_type": "display_data"
    }
   ],
   "source": [
    "out = data[['resting_bp','serum_cholesterol','oldpeak_st_depression','age','max_heart_rate']]\n",
    "sns.set_style('darkgrid')\n",
    "plt.figure(figsize=(20,22)) # defining canvas size\n",
    "plotno = 1 # counter\n",
    "\n",
    "for column in out: # iteration of columns / acessing the columns from  dataset \n",
    "    if plotno<=6:    # set the limit\n",
    "        plt.subplot(3,2,plotno) # # plotting 5 graphs (3-rows,2-columns) ,plotnumber is for count\n",
    "        sns.boxplot(x=out[column]) # Plotting box plots\n",
    "        plt.xlabel(column,fontsize=20)  # assigning name to x-axis and font size is 20\n",
    "    plotno+=1 # counter increment\n",
    "plt.tight_layout()\n",
    "plt.show() # used to hide the storage loction\n"
   ]
  },
  {
   "cell_type": "code",
   "execution_count": 114,
   "id": "6ab5d4c2",
   "metadata": {},
   "outputs": [
    {
     "data": {
      "image/png": "[encoded data removed]",
      "text/plain": [
       "<Figure size 1440x1584 with 5 Axes>"
      ]
     },
     "metadata": {},
     "output_type": "display_data"
    }
   ],
   "source": [
    "out = data[['resting_bp','serum_cholesterol','oldpeak_st_depression','age','max_heart_rate']]\n",
    "sns.set_style('darkgrid')\n",
    "plt.figure(figsize=(20,22)) # defining canvas size\n",
    "plotno = 1 # counter\n",
    "\n",
    "for column in out: # iteration of columns / acessing the columns from  dataset \n",
    "    if plotno<=6:    # set the limit\n",
    "        plt.subplot(3,2,plotno) # # plotting 5 graphs (3-rows,2-columns) ,plotnumber is for count\n",
    "        sns.distplot(x=out[column]) # Plotting dist plots \n",
    "        plt.xlabel(column,fontsize=20)  # assigning name to x-axis and font size is 20\n",
    "    plotno+=1 # counter increment\n",
    "plt.tight_layout()\n",
    "plt.show() # used to hide the storage loction"
   ]
  },
  {
   "cell_type": "markdown",
   "id": "317a9d66",
   "metadata": {},
   "source": [
    "#### 1.RESTING BP\n",
    "#### IQR"
   ]
  },
  {
   "cell_type": "code",
   "execution_count": 115,
   "id": "ce97278e",
   "metadata": {},
   "outputs": [
    {
     "name": "stdout",
     "output_type": "stream",
     "text": [
      "IQR 20.0\n",
      "minimum limit 90.0\n",
      "maximum limit 170.0\n"
     ]
    }
   ],
   "source": [
    "# Use iqr because of some right skewed in data\n",
    "\n",
    "# Step:1 \n",
    "from scipy import stats\n",
    "iqr = stats.iqr(data['resting_bp'],interpolation='midpoint')\n",
    "print(\"IQR\",iqr)\n",
    "\n",
    "# step:2\n",
    "Q1 = data['resting_bp'].quantile(0.25)  # first quantile\n",
    "Q3 = data['resting_bp'].quantile(0.75)  #third quantile\n",
    "# getting max & min limit\n",
    "min_limit = Q1 - 1.5*iqr\n",
    "print('minimum limit',min_limit)\n",
    "max_limit = Q3 + 1.5*iqr\n",
    "print('maximum limit',max_limit)"
   ]
  },
  {
   "cell_type": "code",
   "execution_count": 116,
   "id": "deb96ef5",
   "metadata": {},
   "outputs": [
    {
     "data": {
      "text/html": [
       "<div>\n",
       "<style scoped>\n",
       "    .dataframe tbody tr th:only-of-type {\n",
       "        vertical-align: middle;\n",
       "    }\n",
       "\n",
       "    .dataframe tbody tr th {\n",
       "        vertical-align: top;\n",
       "    }\n",
       "\n",
       "    .dataframe thead th {\n",
       "        text-align: right;\n",
       "    }\n",
       "</style>\n",
       "<table border=\"1\" class=\"dataframe\">\n",
       "  <thead>\n",
       "    <tr style=\"text-align: right;\">\n",
       "      <th></th>\n",
       "      <th>patient_id</th>\n",
       "      <th>sop</th>\n",
       "      <th>thal</th>\n",
       "      <th>resting_bp</th>\n",
       "      <th>cpt</th>\n",
       "      <th>major_vessels</th>\n",
       "      <th>fasting_blood_sugar</th>\n",
       "      <th>ekg_result</th>\n",
       "      <th>serum_cholesterol</th>\n",
       "      <th>oldpeak_st_depression</th>\n",
       "      <th>sex</th>\n",
       "      <th>age</th>\n",
       "      <th>max_heart_rate</th>\n",
       "      <th>exercise_induced_angina</th>\n",
       "      <th>patient_id</th>\n",
       "      <th>heart_disease</th>\n",
       "    </tr>\n",
       "  </thead>\n",
       "  <tbody>\n",
       "  </tbody>\n",
       "</table>\n",
       "</div>"
      ],
      "text/plain": [
       "Empty DataFrame\n",
       "Columns: [patient_id, sop, thal, resting_bp, cpt, major_vessels, fasting_blood_sugar, ekg_result, serum_cholesterol, oldpeak_st_depression, sex, age, max_heart_rate, exercise_induced_angina, patient_id, heart_disease]\n",
       "Index: []"
      ]
     },
     "execution_count": 116,
     "metadata": {},
     "output_type": "execute_result"
    }
   ],
   "source": [
    "# Step:3 Filtering the data\n",
    "data.loc[data['resting_bp'] < min_limit]"
   ]
  },
  {
   "cell_type": "code",
   "execution_count": 117,
   "id": "cdfd03a9",
   "metadata": {},
   "outputs": [
    {
     "data": {
      "text/html": [
       "<div>\n",
       "<style scoped>\n",
       "    .dataframe tbody tr th:only-of-type {\n",
       "        vertical-align: middle;\n",
       "    }\n",
       "\n",
       "    .dataframe tbody tr th {\n",
       "        vertical-align: top;\n",
       "    }\n",
       "\n",
       "    .dataframe thead th {\n",
       "        text-align: right;\n",
       "    }\n",
       "</style>\n",
       "<table border=\"1\" class=\"dataframe\">\n",
       "  <thead>\n",
       "    <tr style=\"text-align: right;\">\n",
       "      <th></th>\n",
       "      <th>patient_id</th>\n",
       "      <th>sop</th>\n",
       "      <th>thal</th>\n",
       "      <th>resting_bp</th>\n",
       "      <th>cpt</th>\n",
       "      <th>major_vessels</th>\n",
       "      <th>fasting_blood_sugar</th>\n",
       "      <th>ekg_result</th>\n",
       "      <th>serum_cholesterol</th>\n",
       "      <th>oldpeak_st_depression</th>\n",
       "      <th>sex</th>\n",
       "      <th>age</th>\n",
       "      <th>max_heart_rate</th>\n",
       "      <th>exercise_induced_angina</th>\n",
       "      <th>patient_id</th>\n",
       "      <th>heart_disease</th>\n",
       "    </tr>\n",
       "  </thead>\n",
       "  <tbody>\n",
       "    <tr>\n",
       "      <th>4</th>\n",
       "      <td>oyt4ek</td>\n",
       "      <td>3</td>\n",
       "      <td>1</td>\n",
       "      <td>178</td>\n",
       "      <td>1</td>\n",
       "      <td>0</td>\n",
       "      <td>0</td>\n",
       "      <td>2</td>\n",
       "      <td>270</td>\n",
       "      <td>4.2</td>\n",
       "      <td>1</td>\n",
       "      <td>59</td>\n",
       "      <td>145</td>\n",
       "      <td>0</td>\n",
       "      <td>oyt4ek</td>\n",
       "      <td>0</td>\n",
       "    </tr>\n",
       "    <tr>\n",
       "      <th>33</th>\n",
       "      <td>0n5fu0</td>\n",
       "      <td>1</td>\n",
       "      <td>2</td>\n",
       "      <td>180</td>\n",
       "      <td>4</td>\n",
       "      <td>0</td>\n",
       "      <td>0</td>\n",
       "      <td>0</td>\n",
       "      <td>325</td>\n",
       "      <td>0.0</td>\n",
       "      <td>0</td>\n",
       "      <td>64</td>\n",
       "      <td>154</td>\n",
       "      <td>1</td>\n",
       "      <td>0n5fu0</td>\n",
       "      <td>0</td>\n",
       "    </tr>\n",
       "    <tr>\n",
       "      <th>72</th>\n",
       "      <td>qwj1yf</td>\n",
       "      <td>1</td>\n",
       "      <td>1</td>\n",
       "      <td>172</td>\n",
       "      <td>3</td>\n",
       "      <td>0</td>\n",
       "      <td>1</td>\n",
       "      <td>0</td>\n",
       "      <td>199</td>\n",
       "      <td>0.5</td>\n",
       "      <td>1</td>\n",
       "      <td>52</td>\n",
       "      <td>162</td>\n",
       "      <td>0</td>\n",
       "      <td>qwj1yf</td>\n",
       "      <td>0</td>\n",
       "    </tr>\n",
       "    <tr>\n",
       "      <th>75</th>\n",
       "      <td>4v0q7o</td>\n",
       "      <td>2</td>\n",
       "      <td>1</td>\n",
       "      <td>178</td>\n",
       "      <td>4</td>\n",
       "      <td>2</td>\n",
       "      <td>1</td>\n",
       "      <td>0</td>\n",
       "      <td>228</td>\n",
       "      <td>1.0</td>\n",
       "      <td>0</td>\n",
       "      <td>66</td>\n",
       "      <td>165</td>\n",
       "      <td>1</td>\n",
       "      <td>4v0q7o</td>\n",
       "      <td>1</td>\n",
       "    </tr>\n",
       "    <tr>\n",
       "      <th>113</th>\n",
       "      <td>sqddbc</td>\n",
       "      <td>2</td>\n",
       "      <td>1</td>\n",
       "      <td>180</td>\n",
       "      <td>3</td>\n",
       "      <td>0</td>\n",
       "      <td>1</td>\n",
       "      <td>2</td>\n",
       "      <td>274</td>\n",
       "      <td>1.6</td>\n",
       "      <td>1</td>\n",
       "      <td>68</td>\n",
       "      <td>150</td>\n",
       "      <td>1</td>\n",
       "      <td>sqddbc</td>\n",
       "      <td>1</td>\n",
       "    </tr>\n",
       "    <tr>\n",
       "      <th>176</th>\n",
       "      <td>2s2b1f</td>\n",
       "      <td>2</td>\n",
       "      <td>2</td>\n",
       "      <td>180</td>\n",
       "      <td>4</td>\n",
       "      <td>0</td>\n",
       "      <td>0</td>\n",
       "      <td>1</td>\n",
       "      <td>327</td>\n",
       "      <td>3.4</td>\n",
       "      <td>0</td>\n",
       "      <td>55</td>\n",
       "      <td>117</td>\n",
       "      <td>1</td>\n",
       "      <td>2s2b1f</td>\n",
       "      <td>1</td>\n",
       "    </tr>\n",
       "  </tbody>\n",
       "</table>\n",
       "</div>"
      ],
      "text/plain": [
       "    patient_id  sop  thal  resting_bp  cpt  major_vessels  \\\n",
       "4       oyt4ek    3     1         178    1              0   \n",
       "33      0n5fu0    1     2         180    4              0   \n",
       "72      qwj1yf    1     1         172    3              0   \n",
       "75      4v0q7o    2     1         178    4              2   \n",
       "113     sqddbc    2     1         180    3              0   \n",
       "176     2s2b1f    2     2         180    4              0   \n",
       "\n",
       "     fasting_blood_sugar  ekg_result  serum_cholesterol  \\\n",
       "4                      0           2                270   \n",
       "33                     0           0                325   \n",
       "72                     1           0                199   \n",
       "75                     1           0                228   \n",
       "113                    1           2                274   \n",
       "176                    0           1                327   \n",
       "\n",
       "     oldpeak_st_depression  sex  age  max_heart_rate  exercise_induced_angina  \\\n",
       "4                      4.2    1   59             145                        0   \n",
       "33                     0.0    0   64             154                        1   \n",
       "72                     0.5    1   52             162                        0   \n",
       "75                     1.0    0   66             165                        1   \n",
       "113                    1.6    1   68             150                        1   \n",
       "176                    3.4    0   55             117                        1   \n",
       "\n",
       "    patient_id  heart_disease  \n",
       "4       oyt4ek              0  \n",
       "33      0n5fu0              0  \n",
       "72      qwj1yf              0  \n",
       "75      4v0q7o              1  \n",
       "113     sqddbc              1  \n",
       "176     2s2b1f              1  "
      ]
     },
     "execution_count": 117,
     "metadata": {},
     "output_type": "execute_result"
    }
   ],
   "source": [
    "data.loc[data['resting_bp'] > max_limit]"
   ]
  },
  {
   "cell_type": "code",
   "execution_count": 118,
   "id": "4214f993",
   "metadata": {},
   "outputs": [],
   "source": [
    "# Step:4 Imputation of outlier\n",
    "data.loc[data['resting_bp'] > max_limit ,'resting_bp']=np.median(data['resting_bp'])"
   ]
  },
  {
   "cell_type": "code",
   "execution_count": 119,
   "id": "5828b5ed",
   "metadata": {},
   "outputs": [
    {
     "data": {
      "image/png": "[encoded data removed]",
      "text/plain": [
       "<Figure size 432x288 with 1 Axes>"
      ]
     },
     "metadata": {},
     "output_type": "display_data"
    }
   ],
   "source": [
    "# Step:5 Visualise outlier after imputation\n",
    "sns.boxplot(data.resting_bp)\n",
    "plt.show()\n"
   ]
  },
  {
   "cell_type": "markdown",
   "id": "27a00c81",
   "metadata": {},
   "source": [
    "### 2.SERUM CHOLESTEROL\n",
    "### IQR"
   ]
  },
  {
   "cell_type": "code",
   "execution_count": 120,
   "id": "5a2977e2",
   "metadata": {},
   "outputs": [
    {
     "name": "stdout",
     "output_type": "stream",
     "text": [
      "IQR 68.0\n",
      "Minimum limit 111.75\n",
      "Maximum limit 242.0\n"
     ]
    }
   ],
   "source": [
    "# iqr used because of right skewed in data\n",
    "\n",
    "# Step:1 \n",
    "iqr = stats.iqr(data['serum_cholesterol'], interpolation='midpoint')\n",
    "print(\"IQR\",iqr)\n",
    "\n",
    "# Step:2 \n",
    "Q1 = data['serum_cholesterol'].quantile(0.25)  # first quantile\n",
    "Q2 = data['serum_cholesterol'].quantile(0.75)  # Third quantile\n",
    "\n",
    "# Getting maximum and minimum limit\n",
    "min_limit = Q1 - 1.5*iqr\n",
    "print('Minimum limit',min_limit)\n",
    "\n",
    "max_limit = Q3 + 1.5*iqr\n",
    "print('Maximum limit',max_limit)"
   ]
  },
  {
   "cell_type": "code",
   "execution_count": 121,
   "id": "81861b6f",
   "metadata": {},
   "outputs": [
    {
     "data": {
      "text/html": [
       "<div>\n",
       "<style scoped>\n",
       "    .dataframe tbody tr th:only-of-type {\n",
       "        vertical-align: middle;\n",
       "    }\n",
       "\n",
       "    .dataframe tbody tr th {\n",
       "        vertical-align: top;\n",
       "    }\n",
       "\n",
       "    .dataframe thead th {\n",
       "        text-align: right;\n",
       "    }\n",
       "</style>\n",
       "<table border=\"1\" class=\"dataframe\">\n",
       "  <thead>\n",
       "    <tr style=\"text-align: right;\">\n",
       "      <th></th>\n",
       "      <th>patient_id</th>\n",
       "      <th>sop</th>\n",
       "      <th>thal</th>\n",
       "      <th>resting_bp</th>\n",
       "      <th>cpt</th>\n",
       "      <th>major_vessels</th>\n",
       "      <th>fasting_blood_sugar</th>\n",
       "      <th>ekg_result</th>\n",
       "      <th>serum_cholesterol</th>\n",
       "      <th>oldpeak_st_depression</th>\n",
       "      <th>sex</th>\n",
       "      <th>age</th>\n",
       "      <th>max_heart_rate</th>\n",
       "      <th>exercise_induced_angina</th>\n",
       "      <th>patient_id</th>\n",
       "      <th>heart_disease</th>\n",
       "    </tr>\n",
       "  </thead>\n",
       "  <tbody>\n",
       "  </tbody>\n",
       "</table>\n",
       "</div>"
      ],
      "text/plain": [
       "Empty DataFrame\n",
       "Columns: [patient_id, sop, thal, resting_bp, cpt, major_vessels, fasting_blood_sugar, ekg_result, serum_cholesterol, oldpeak_st_depression, sex, age, max_heart_rate, exercise_induced_angina, patient_id, heart_disease]\n",
       "Index: []"
      ]
     },
     "execution_count": 121,
     "metadata": {},
     "output_type": "execute_result"
    }
   ],
   "source": [
    "# Step:3 filtering the data\n",
    "data.loc[data['serum_cholesterol'] < min_limit]"
   ]
  },
  {
   "cell_type": "code",
   "execution_count": 122,
   "id": "7384b39c",
   "metadata": {},
   "outputs": [
    {
     "data": {
      "text/plain": [
       "53.333333333333336"
      ]
     },
     "execution_count": 122,
     "metadata": {},
     "output_type": "execute_result"
    }
   ],
   "source": [
    "data.loc[data['serum_cholesterol'] > max_limit]\n",
    "len(data.loc[data['serum_cholesterol'] > max_limit])/180*100"
   ]
  },
  {
   "cell_type": "markdown",
   "id": "8152ce0c",
   "metadata": {},
   "source": [
    "### 3.OLD PEAK DEPRESSION\n",
    "### IQR"
   ]
  },
  {
   "cell_type": "code",
   "execution_count": 123,
   "id": "4ae0153a",
   "metadata": {},
   "outputs": [
    {
     "name": "stdout",
     "output_type": "stream",
     "text": [
      "IQR 1.6\n",
      "Minimum limit -2.4000000000000004\n",
      "Maximum limit 4.0\n"
     ]
    }
   ],
   "source": [
    "# iqr used becused of right skewed in data\n",
    "\n",
    "# Step:1\n",
    "iqr = stats.iqr(data['oldpeak_st_depression'] ,interpolation='midpoint')\n",
    "print(\"IQR\",iqr)\n",
    "\n",
    "# Step:2\n",
    "Q1 = data['oldpeak_st_depression'].quantile(0.25) # first quantile\n",
    "Q3 = data['oldpeak_st_depression'].quantile(0.75) # Third quantile\n",
    "\n",
    "# Getting maximum and minimum kimit\n",
    "min_limit = Q1 - 1.5*iqr\n",
    "print(\"Minimum limit\",min_limit)\n",
    "\n",
    "max_limit = Q3 + 1.5*iqr\n",
    "print(\"Maximum limit\",max_limit)"
   ]
  },
  {
   "cell_type": "code",
   "execution_count": 124,
   "id": "2a489133",
   "metadata": {},
   "outputs": [
    {
     "data": {
      "text/html": [
       "<div>\n",
       "<style scoped>\n",
       "    .dataframe tbody tr th:only-of-type {\n",
       "        vertical-align: middle;\n",
       "    }\n",
       "\n",
       "    .dataframe tbody tr th {\n",
       "        vertical-align: top;\n",
       "    }\n",
       "\n",
       "    .dataframe thead th {\n",
       "        text-align: right;\n",
       "    }\n",
       "</style>\n",
       "<table border=\"1\" class=\"dataframe\">\n",
       "  <thead>\n",
       "    <tr style=\"text-align: right;\">\n",
       "      <th></th>\n",
       "      <th>patient_id</th>\n",
       "      <th>sop</th>\n",
       "      <th>thal</th>\n",
       "      <th>resting_bp</th>\n",
       "      <th>cpt</th>\n",
       "      <th>major_vessels</th>\n",
       "      <th>fasting_blood_sugar</th>\n",
       "      <th>ekg_result</th>\n",
       "      <th>serum_cholesterol</th>\n",
       "      <th>oldpeak_st_depression</th>\n",
       "      <th>sex</th>\n",
       "      <th>age</th>\n",
       "      <th>max_heart_rate</th>\n",
       "      <th>exercise_induced_angina</th>\n",
       "      <th>patient_id</th>\n",
       "      <th>heart_disease</th>\n",
       "    </tr>\n",
       "  </thead>\n",
       "  <tbody>\n",
       "  </tbody>\n",
       "</table>\n",
       "</div>"
      ],
      "text/plain": [
       "Empty DataFrame\n",
       "Columns: [patient_id, sop, thal, resting_bp, cpt, major_vessels, fasting_blood_sugar, ekg_result, serum_cholesterol, oldpeak_st_depression, sex, age, max_heart_rate, exercise_induced_angina, patient_id, heart_disease]\n",
       "Index: []"
      ]
     },
     "execution_count": 124,
     "metadata": {},
     "output_type": "execute_result"
    }
   ],
   "source": [
    "# Step:3 filtering the data\n",
    "data.loc[data['oldpeak_st_depression'] < min_limit]"
   ]
  },
  {
   "cell_type": "code",
   "execution_count": 125,
   "id": "5d81e3be",
   "metadata": {},
   "outputs": [
    {
     "data": {
      "text/html": [
       "<div>\n",
       "<style scoped>\n",
       "    .dataframe tbody tr th:only-of-type {\n",
       "        vertical-align: middle;\n",
       "    }\n",
       "\n",
       "    .dataframe tbody tr th {\n",
       "        vertical-align: top;\n",
       "    }\n",
       "\n",
       "    .dataframe thead th {\n",
       "        text-align: right;\n",
       "    }\n",
       "</style>\n",
       "<table border=\"1\" class=\"dataframe\">\n",
       "  <thead>\n",
       "    <tr style=\"text-align: right;\">\n",
       "      <th></th>\n",
       "      <th>patient_id</th>\n",
       "      <th>sop</th>\n",
       "      <th>thal</th>\n",
       "      <th>resting_bp</th>\n",
       "      <th>cpt</th>\n",
       "      <th>major_vessels</th>\n",
       "      <th>fasting_blood_sugar</th>\n",
       "      <th>ekg_result</th>\n",
       "      <th>serum_cholesterol</th>\n",
       "      <th>oldpeak_st_depression</th>\n",
       "      <th>sex</th>\n",
       "      <th>age</th>\n",
       "      <th>max_heart_rate</th>\n",
       "      <th>exercise_induced_angina</th>\n",
       "      <th>patient_id</th>\n",
       "      <th>heart_disease</th>\n",
       "    </tr>\n",
       "  </thead>\n",
       "  <tbody>\n",
       "    <tr>\n",
       "      <th>4</th>\n",
       "      <td>oyt4ek</td>\n",
       "      <td>3</td>\n",
       "      <td>1</td>\n",
       "      <td>130</td>\n",
       "      <td>1</td>\n",
       "      <td>0</td>\n",
       "      <td>0</td>\n",
       "      <td>2</td>\n",
       "      <td>270</td>\n",
       "      <td>4.2</td>\n",
       "      <td>1</td>\n",
       "      <td>59</td>\n",
       "      <td>145</td>\n",
       "      <td>0</td>\n",
       "      <td>oyt4ek</td>\n",
       "      <td>0</td>\n",
       "    </tr>\n",
       "    <tr>\n",
       "      <th>112</th>\n",
       "      <td>6r9x2j</td>\n",
       "      <td>2</td>\n",
       "      <td>1</td>\n",
       "      <td>140</td>\n",
       "      <td>4</td>\n",
       "      <td>3</td>\n",
       "      <td>0</td>\n",
       "      <td>0</td>\n",
       "      <td>298</td>\n",
       "      <td>4.2</td>\n",
       "      <td>1</td>\n",
       "      <td>51</td>\n",
       "      <td>122</td>\n",
       "      <td>1</td>\n",
       "      <td>6r9x2j</td>\n",
       "      <td>1</td>\n",
       "    </tr>\n",
       "    <tr>\n",
       "      <th>140</th>\n",
       "      <td>noxsnw</td>\n",
       "      <td>3</td>\n",
       "      <td>1</td>\n",
       "      <td>140</td>\n",
       "      <td>4</td>\n",
       "      <td>0</td>\n",
       "      <td>0</td>\n",
       "      <td>0</td>\n",
       "      <td>217</td>\n",
       "      <td>5.6</td>\n",
       "      <td>1</td>\n",
       "      <td>55</td>\n",
       "      <td>111</td>\n",
       "      <td>1</td>\n",
       "      <td>noxsnw</td>\n",
       "      <td>1</td>\n",
       "    </tr>\n",
       "    <tr>\n",
       "      <th>162</th>\n",
       "      <td>usnkhx</td>\n",
       "      <td>3</td>\n",
       "      <td>1</td>\n",
       "      <td>160</td>\n",
       "      <td>4</td>\n",
       "      <td>3</td>\n",
       "      <td>0</td>\n",
       "      <td>2</td>\n",
       "      <td>164</td>\n",
       "      <td>6.2</td>\n",
       "      <td>0</td>\n",
       "      <td>62</td>\n",
       "      <td>145</td>\n",
       "      <td>0</td>\n",
       "      <td>usnkhx</td>\n",
       "      <td>1</td>\n",
       "    </tr>\n",
       "  </tbody>\n",
       "</table>\n",
       "</div>"
      ],
      "text/plain": [
       "    patient_id  sop  thal  resting_bp  cpt  major_vessels  \\\n",
       "4       oyt4ek    3     1         130    1              0   \n",
       "112     6r9x2j    2     1         140    4              3   \n",
       "140     noxsnw    3     1         140    4              0   \n",
       "162     usnkhx    3     1         160    4              3   \n",
       "\n",
       "     fasting_blood_sugar  ekg_result  serum_cholesterol  \\\n",
       "4                      0           2                270   \n",
       "112                    0           0                298   \n",
       "140                    0           0                217   \n",
       "162                    0           2                164   \n",
       "\n",
       "     oldpeak_st_depression  sex  age  max_heart_rate  exercise_induced_angina  \\\n",
       "4                      4.2    1   59             145                        0   \n",
       "112                    4.2    1   51             122                        1   \n",
       "140                    5.6    1   55             111                        1   \n",
       "162                    6.2    0   62             145                        0   \n",
       "\n",
       "    patient_id  heart_disease  \n",
       "4       oyt4ek              0  \n",
       "112     6r9x2j              1  \n",
       "140     noxsnw              1  \n",
       "162     usnkhx              1  "
      ]
     },
     "execution_count": 125,
     "metadata": {},
     "output_type": "execute_result"
    }
   ],
   "source": [
    "data.loc[data['oldpeak_st_depression'] > max_limit]"
   ]
  },
  {
   "cell_type": "code",
   "execution_count": 126,
   "id": "057be00f",
   "metadata": {},
   "outputs": [],
   "source": [
    "# Step:4 Impute outlier\n",
    "data.loc[data['oldpeak_st_depression'] > max_limit,'oldpeak_st_depression'] = np.median(data['oldpeak_st_depression'])"
   ]
  },
  {
   "cell_type": "code",
   "execution_count": 127,
   "id": "9a8a6102",
   "metadata": {},
   "outputs": [
    {
     "data": {
      "image/png": "[encoded data removed]",
      "text/plain": [
       "<Figure size 432x288 with 1 Axes>"
      ]
     },
     "metadata": {},
     "output_type": "display_data"
    }
   ],
   "source": [
    "# Step:5 Visualise outlier after imputation\n",
    "sns.boxplot(data.oldpeak_st_depression)\n",
    "plt.show()"
   ]
  },
  {
   "cell_type": "code",
   "execution_count": 128,
   "id": "46c12a08",
   "metadata": {},
   "outputs": [
    {
     "data": {
      "image/png": "[encoded data removed]",
      "text/plain": [
       "<Figure size 1440x1584 with 3 Axes>"
      ]
     },
     "metadata": {},
     "output_type": "display_data"
    }
   ],
   "source": [
    "out = data[['resting_bp','serum_cholesterol','oldpeak_st_depression']]\n",
    "sns.set_style('darkgrid')\n",
    "plt.figure(figsize=(20,22)) # defining canvas size\n",
    "plotno = 1 # counter\n",
    "\n",
    "for column in out: # iteration of columns / acessing the columns from  dataset \n",
    "    if plotno<=6:    # set the limit\n",
    "        plt.subplot(3,2,plotno) # # plotting 3 graphs (3-rows,2-columns) ,plotnumber is for count\n",
    "        sns.distplot(x=out[column]) # Plotting dist plots \n",
    "        plt.xlabel(column,fontsize=20)  # assigning name to x-axis and font size is 20\n",
    "    plotno+=1 # counter increment\n",
    "plt.tight_layout()\n",
    "plt.show() # used to hide the storage loction"
   ]
  },
  {
   "cell_type": "markdown",
   "id": "2bc6fd0b",
   "metadata": {},
   "source": [
    "### 4.FEATURE SCALING\n",
    "* STANDARD SCALING\n",
    "* Standard scaling range : -3 to +3"
   ]
  },
  {
   "cell_type": "code",
   "execution_count": 129,
   "id": "d09ec90c",
   "metadata": {},
   "outputs": [
    {
     "ename": "SyntaxError",
     "evalue": "unexpected EOF while parsing (866492225.py, line 8)",
     "output_type": "error",
     "traceback": [
      "\u001b[1;36m  Input \u001b[1;32mIn [129]\u001b[1;36m\u001b[0m\n\u001b[1;33m    data[['resting_bp','serum_cholesterol','oldpeak_st_depression','age','max_heart_rate']] = scale.fit_transform(data[['resting_bp','serum_cholestero',\u001b[0m\n\u001b[1;37m                                                                                                                                                        ^\u001b[0m\n\u001b[1;31mSyntaxError\u001b[0m\u001b[1;31m:\u001b[0m unexpected EOF while parsing\n"
     ]
    }
   ],
   "source": [
    "# import library\n",
    "from sklearn.preprocessing import StandardScaler\n",
    "\n",
    "# Creating object\n",
    "scale = StandardScaler()\n",
    "\n",
    "# Scaling the feature \n",
    "data[['resting_bp','serum_cholesterol','oldpeak_st_depression','age','max_heart_rate']] = scale.fit_transform(data[['resting_bp','serum_cholestero',"
   ]
  },
  {
   "cell_type": "markdown",
   "id": "6db9bbd5",
   "metadata": {},
   "source": [
    "### FEATURE SELECTION\n",
    "#### 1.DROP UNIQUE AND CONSTANT COULMN"
   ]
  },
  {
   "cell_type": "code",
   "execution_count": 130,
   "id": "d19dfe6c",
   "metadata": {},
   "outputs": [
    {
     "data": {
      "text/html": [
       "<div>\n",
       "<style scoped>\n",
       "    .dataframe tbody tr th:only-of-type {\n",
       "        vertical-align: middle;\n",
       "    }\n",
       "\n",
       "    .dataframe tbody tr th {\n",
       "        vertical-align: top;\n",
       "    }\n",
       "\n",
       "    .dataframe thead th {\n",
       "        text-align: right;\n",
       "    }\n",
       "</style>\n",
       "<table border=\"1\" class=\"dataframe\">\n",
       "  <thead>\n",
       "    <tr style=\"text-align: right;\">\n",
       "      <th></th>\n",
       "      <th>sop</th>\n",
       "      <th>thal</th>\n",
       "      <th>resting_bp</th>\n",
       "      <th>cpt</th>\n",
       "      <th>major_vessels</th>\n",
       "      <th>fasting_blood_sugar</th>\n",
       "      <th>ekg_result</th>\n",
       "      <th>serum_cholesterol</th>\n",
       "      <th>oldpeak_st_depression</th>\n",
       "      <th>sex</th>\n",
       "      <th>age</th>\n",
       "      <th>max_heart_rate</th>\n",
       "      <th>exercise_induced_angina</th>\n",
       "      <th>heart_disease</th>\n",
       "    </tr>\n",
       "  </thead>\n",
       "  <tbody>\n",
       "    <tr>\n",
       "      <th>count</th>\n",
       "      <td>180.000000</td>\n",
       "      <td>180.000000</td>\n",
       "      <td>180.000000</td>\n",
       "      <td>180.000000</td>\n",
       "      <td>180.000000</td>\n",
       "      <td>180.000000</td>\n",
       "      <td>180.000000</td>\n",
       "      <td>180.000000</td>\n",
       "      <td>180.000000</td>\n",
       "      <td>180.000000</td>\n",
       "      <td>180.000000</td>\n",
       "      <td>180.000000</td>\n",
       "      <td>180.000000</td>\n",
       "      <td>180.000000</td>\n",
       "    </tr>\n",
       "    <tr>\n",
       "      <th>mean</th>\n",
       "      <td>1.550000</td>\n",
       "      <td>1.500000</td>\n",
       "      <td>129.711111</td>\n",
       "      <td>3.155556</td>\n",
       "      <td>0.694444</td>\n",
       "      <td>0.161111</td>\n",
       "      <td>1.050000</td>\n",
       "      <td>249.211111</td>\n",
       "      <td>0.915556</td>\n",
       "      <td>0.688889</td>\n",
       "      <td>54.811111</td>\n",
       "      <td>149.483333</td>\n",
       "      <td>0.316667</td>\n",
       "      <td>0.444444</td>\n",
       "    </tr>\n",
       "    <tr>\n",
       "      <th>std</th>\n",
       "      <td>0.618838</td>\n",
       "      <td>0.583765</td>\n",
       "      <td>14.611731</td>\n",
       "      <td>0.938454</td>\n",
       "      <td>0.969347</td>\n",
       "      <td>0.368659</td>\n",
       "      <td>0.998742</td>\n",
       "      <td>52.717969</td>\n",
       "      <td>0.931439</td>\n",
       "      <td>0.464239</td>\n",
       "      <td>9.334737</td>\n",
       "      <td>22.063513</td>\n",
       "      <td>0.466474</td>\n",
       "      <td>0.498290</td>\n",
       "    </tr>\n",
       "    <tr>\n",
       "      <th>min</th>\n",
       "      <td>1.000000</td>\n",
       "      <td>0.000000</td>\n",
       "      <td>94.000000</td>\n",
       "      <td>1.000000</td>\n",
       "      <td>0.000000</td>\n",
       "      <td>0.000000</td>\n",
       "      <td>0.000000</td>\n",
       "      <td>126.000000</td>\n",
       "      <td>0.000000</td>\n",
       "      <td>0.000000</td>\n",
       "      <td>29.000000</td>\n",
       "      <td>96.000000</td>\n",
       "      <td>0.000000</td>\n",
       "      <td>0.000000</td>\n",
       "    </tr>\n",
       "    <tr>\n",
       "      <th>25%</th>\n",
       "      <td>1.000000</td>\n",
       "      <td>1.000000</td>\n",
       "      <td>120.000000</td>\n",
       "      <td>3.000000</td>\n",
       "      <td>0.000000</td>\n",
       "      <td>0.000000</td>\n",
       "      <td>0.000000</td>\n",
       "      <td>213.750000</td>\n",
       "      <td>0.000000</td>\n",
       "      <td>0.000000</td>\n",
       "      <td>48.000000</td>\n",
       "      <td>132.000000</td>\n",
       "      <td>0.000000</td>\n",
       "      <td>0.000000</td>\n",
       "    </tr>\n",
       "    <tr>\n",
       "      <th>50%</th>\n",
       "      <td>1.000000</td>\n",
       "      <td>2.000000</td>\n",
       "      <td>130.000000</td>\n",
       "      <td>3.000000</td>\n",
       "      <td>0.000000</td>\n",
       "      <td>0.000000</td>\n",
       "      <td>2.000000</td>\n",
       "      <td>245.500000</td>\n",
       "      <td>0.800000</td>\n",
       "      <td>1.000000</td>\n",
       "      <td>55.000000</td>\n",
       "      <td>152.000000</td>\n",
       "      <td>0.000000</td>\n",
       "      <td>0.000000</td>\n",
       "    </tr>\n",
       "    <tr>\n",
       "      <th>75%</th>\n",
       "      <td>2.000000</td>\n",
       "      <td>2.000000</td>\n",
       "      <td>140.000000</td>\n",
       "      <td>4.000000</td>\n",
       "      <td>1.000000</td>\n",
       "      <td>0.000000</td>\n",
       "      <td>2.000000</td>\n",
       "      <td>281.250000</td>\n",
       "      <td>1.600000</td>\n",
       "      <td>1.000000</td>\n",
       "      <td>62.000000</td>\n",
       "      <td>166.250000</td>\n",
       "      <td>1.000000</td>\n",
       "      <td>1.000000</td>\n",
       "    </tr>\n",
       "    <tr>\n",
       "      <th>max</th>\n",
       "      <td>3.000000</td>\n",
       "      <td>2.000000</td>\n",
       "      <td>170.000000</td>\n",
       "      <td>4.000000</td>\n",
       "      <td>3.000000</td>\n",
       "      <td>1.000000</td>\n",
       "      <td>2.000000</td>\n",
       "      <td>564.000000</td>\n",
       "      <td>3.800000</td>\n",
       "      <td>1.000000</td>\n",
       "      <td>77.000000</td>\n",
       "      <td>202.000000</td>\n",
       "      <td>1.000000</td>\n",
       "      <td>1.000000</td>\n",
       "    </tr>\n",
       "  </tbody>\n",
       "</table>\n",
       "</div>"
      ],
      "text/plain": [
       "              sop        thal  resting_bp         cpt  major_vessels  \\\n",
       "count  180.000000  180.000000  180.000000  180.000000     180.000000   \n",
       "mean     1.550000    1.500000  129.711111    3.155556       0.694444   \n",
       "std      0.618838    0.583765   14.611731    0.938454       0.969347   \n",
       "min      1.000000    0.000000   94.000000    1.000000       0.000000   \n",
       "25%      1.000000    1.000000  120.000000    3.000000       0.000000   \n",
       "50%      1.000000    2.000000  130.000000    3.000000       0.000000   \n",
       "75%      2.000000    2.000000  140.000000    4.000000       1.000000   \n",
       "max      3.000000    2.000000  170.000000    4.000000       3.000000   \n",
       "\n",
       "       fasting_blood_sugar  ekg_result  serum_cholesterol  \\\n",
       "count           180.000000  180.000000         180.000000   \n",
       "mean              0.161111    1.050000         249.211111   \n",
       "std               0.368659    0.998742          52.717969   \n",
       "min               0.000000    0.000000         126.000000   \n",
       "25%               0.000000    0.000000         213.750000   \n",
       "50%               0.000000    2.000000         245.500000   \n",
       "75%               0.000000    2.000000         281.250000   \n",
       "max               1.000000    2.000000         564.000000   \n",
       "\n",
       "       oldpeak_st_depression         sex         age  max_heart_rate  \\\n",
       "count             180.000000  180.000000  180.000000      180.000000   \n",
       "mean                0.915556    0.688889   54.811111      149.483333   \n",
       "std                 0.931439    0.464239    9.334737       22.063513   \n",
       "min                 0.000000    0.000000   29.000000       96.000000   \n",
       "25%                 0.000000    0.000000   48.000000      132.000000   \n",
       "50%                 0.800000    1.000000   55.000000      152.000000   \n",
       "75%                 1.600000    1.000000   62.000000      166.250000   \n",
       "max                 3.800000    1.000000   77.000000      202.000000   \n",
       "\n",
       "       exercise_induced_angina  heart_disease  \n",
       "count               180.000000     180.000000  \n",
       "mean                  0.316667       0.444444  \n",
       "std                   0.466474       0.498290  \n",
       "min                   0.000000       0.000000  \n",
       "25%                   0.000000       0.000000  \n",
       "50%                   0.000000       0.000000  \n",
       "75%                   1.000000       1.000000  \n",
       "max                   1.000000       1.000000  "
      ]
     },
     "execution_count": 130,
     "metadata": {},
     "output_type": "execute_result"
    }
   ],
   "source": [
    "# Check constant column\n",
    "data.describe()"
   ]
  },
  {
   "cell_type": "code",
   "execution_count": 131,
   "id": "72e67fcb",
   "metadata": {},
   "outputs": [
    {
     "data": {
      "text/html": [
       "<div>\n",
       "<style scoped>\n",
       "    .dataframe tbody tr th:only-of-type {\n",
       "        vertical-align: middle;\n",
       "    }\n",
       "\n",
       "    .dataframe tbody tr th {\n",
       "        vertical-align: top;\n",
       "    }\n",
       "\n",
       "    .dataframe thead th {\n",
       "        text-align: right;\n",
       "    }\n",
       "</style>\n",
       "<table border=\"1\" class=\"dataframe\">\n",
       "  <thead>\n",
       "    <tr style=\"text-align: right;\">\n",
       "      <th></th>\n",
       "      <th>sop</th>\n",
       "      <th>thal</th>\n",
       "      <th>resting_bp</th>\n",
       "      <th>cpt</th>\n",
       "      <th>major_vessels</th>\n",
       "      <th>fasting_blood_sugar</th>\n",
       "      <th>ekg_result</th>\n",
       "      <th>serum_cholesterol</th>\n",
       "      <th>oldpeak_st_depression</th>\n",
       "      <th>sex</th>\n",
       "      <th>age</th>\n",
       "      <th>max_heart_rate</th>\n",
       "      <th>exercise_induced_angina</th>\n",
       "      <th>heart_disease</th>\n",
       "    </tr>\n",
       "  </thead>\n",
       "  <tbody>\n",
       "    <tr>\n",
       "      <th>0</th>\n",
       "      <td>1</td>\n",
       "      <td>2</td>\n",
       "      <td>128</td>\n",
       "      <td>2</td>\n",
       "      <td>0</td>\n",
       "      <td>0</td>\n",
       "      <td>2</td>\n",
       "      <td>308</td>\n",
       "      <td>0.0</td>\n",
       "      <td>1</td>\n",
       "      <td>45</td>\n",
       "      <td>170</td>\n",
       "      <td>0</td>\n",
       "      <td>0</td>\n",
       "    </tr>\n",
       "    <tr>\n",
       "      <th>1</th>\n",
       "      <td>2</td>\n",
       "      <td>2</td>\n",
       "      <td>110</td>\n",
       "      <td>3</td>\n",
       "      <td>0</td>\n",
       "      <td>0</td>\n",
       "      <td>0</td>\n",
       "      <td>214</td>\n",
       "      <td>1.6</td>\n",
       "      <td>0</td>\n",
       "      <td>54</td>\n",
       "      <td>158</td>\n",
       "      <td>0</td>\n",
       "      <td>0</td>\n",
       "    </tr>\n",
       "    <tr>\n",
       "      <th>2</th>\n",
       "      <td>1</td>\n",
       "      <td>2</td>\n",
       "      <td>125</td>\n",
       "      <td>4</td>\n",
       "      <td>3</td>\n",
       "      <td>0</td>\n",
       "      <td>2</td>\n",
       "      <td>304</td>\n",
       "      <td>0.0</td>\n",
       "      <td>1</td>\n",
       "      <td>77</td>\n",
       "      <td>162</td>\n",
       "      <td>1</td>\n",
       "      <td>1</td>\n",
       "    </tr>\n",
       "    <tr>\n",
       "      <th>3</th>\n",
       "      <td>1</td>\n",
       "      <td>1</td>\n",
       "      <td>152</td>\n",
       "      <td>4</td>\n",
       "      <td>0</td>\n",
       "      <td>0</td>\n",
       "      <td>0</td>\n",
       "      <td>223</td>\n",
       "      <td>0.0</td>\n",
       "      <td>1</td>\n",
       "      <td>40</td>\n",
       "      <td>181</td>\n",
       "      <td>0</td>\n",
       "      <td>1</td>\n",
       "    </tr>\n",
       "    <tr>\n",
       "      <th>4</th>\n",
       "      <td>3</td>\n",
       "      <td>1</td>\n",
       "      <td>130</td>\n",
       "      <td>1</td>\n",
       "      <td>0</td>\n",
       "      <td>0</td>\n",
       "      <td>2</td>\n",
       "      <td>270</td>\n",
       "      <td>0.8</td>\n",
       "      <td>1</td>\n",
       "      <td>59</td>\n",
       "      <td>145</td>\n",
       "      <td>0</td>\n",
       "      <td>0</td>\n",
       "    </tr>\n",
       "  </tbody>\n",
       "</table>\n",
       "</div>"
      ],
      "text/plain": [
       "   sop  thal  resting_bp  cpt  major_vessels  fasting_blood_sugar  ekg_result  \\\n",
       "0    1     2         128    2              0                    0           2   \n",
       "1    2     2         110    3              0                    0           0   \n",
       "2    1     2         125    4              3                    0           2   \n",
       "3    1     1         152    4              0                    0           0   \n",
       "4    3     1         130    1              0                    0           2   \n",
       "\n",
       "   serum_cholesterol  oldpeak_st_depression  sex  age  max_heart_rate  \\\n",
       "0                308                    0.0    1   45             170   \n",
       "1                214                    1.6    0   54             158   \n",
       "2                304                    0.0    1   77             162   \n",
       "3                223                    0.0    1   40             181   \n",
       "4                270                    0.8    1   59             145   \n",
       "\n",
       "   exercise_induced_angina  heart_disease  \n",
       "0                        0              0  \n",
       "1                        0              0  \n",
       "2                        1              1  \n",
       "3                        0              1  \n",
       "4                        0              0  "
      ]
     },
     "execution_count": 131,
     "metadata": {},
     "output_type": "execute_result"
    }
   ],
   "source": [
    "# dropping the unique column\n",
    "data.drop('patient_id',axis=1,inplace=True)\n",
    "data.head()"
   ]
  },
  {
   "cell_type": "code",
   "execution_count": 132,
   "id": "91705981",
   "metadata": {},
   "outputs": [
    {
     "data": {
      "text/html": [
       "<div>\n",
       "<style scoped>\n",
       "    .dataframe tbody tr th:only-of-type {\n",
       "        vertical-align: middle;\n",
       "    }\n",
       "\n",
       "    .dataframe tbody tr th {\n",
       "        vertical-align: top;\n",
       "    }\n",
       "\n",
       "    .dataframe thead th {\n",
       "        text-align: right;\n",
       "    }\n",
       "</style>\n",
       "<table border=\"1\" class=\"dataframe\">\n",
       "  <thead>\n",
       "    <tr style=\"text-align: right;\">\n",
       "      <th></th>\n",
       "      <th>sop</th>\n",
       "      <th>thal</th>\n",
       "      <th>resting_bp</th>\n",
       "      <th>cpt</th>\n",
       "      <th>major_vessels</th>\n",
       "      <th>fasting_blood_sugar</th>\n",
       "      <th>ekg_result</th>\n",
       "      <th>serum_cholesterol</th>\n",
       "      <th>oldpeak_st_depression</th>\n",
       "      <th>sex</th>\n",
       "      <th>age</th>\n",
       "      <th>max_heart_rate</th>\n",
       "      <th>exercise_induced_angina</th>\n",
       "      <th>heart_disease</th>\n",
       "    </tr>\n",
       "  </thead>\n",
       "  <tbody>\n",
       "    <tr>\n",
       "      <th>sop</th>\n",
       "      <td>1.000000</td>\n",
       "      <td>-0.317019</td>\n",
       "      <td>0.061536</td>\n",
       "      <td>0.121207</td>\n",
       "      <td>0.076832</td>\n",
       "      <td>0.050199</td>\n",
       "      <td>0.172191</td>\n",
       "      <td>-0.032348</td>\n",
       "      <td>0.535583</td>\n",
       "      <td>0.093340</td>\n",
       "      <td>0.169918</td>\n",
       "      <td>-0.418102</td>\n",
       "      <td>0.225459</td>\n",
       "      <td>0.344224</td>\n",
       "    </tr>\n",
       "    <tr>\n",
       "      <th>thal</th>\n",
       "      <td>-0.317019</td>\n",
       "      <td>1.000000</td>\n",
       "      <td>-0.122475</td>\n",
       "      <td>-0.254939</td>\n",
       "      <td>-0.153024</td>\n",
       "      <td>-0.064897</td>\n",
       "      <td>0.004791</td>\n",
       "      <td>0.050466</td>\n",
       "      <td>-0.279462</td>\n",
       "      <td>-0.412284</td>\n",
       "      <td>-0.067663</td>\n",
       "      <td>0.278681</td>\n",
       "      <td>-0.317990</td>\n",
       "      <td>-0.460933</td>\n",
       "    </tr>\n",
       "    <tr>\n",
       "      <th>resting_bp</th>\n",
       "      <td>0.061536</td>\n",
       "      <td>-0.122475</td>\n",
       "      <td>1.000000</td>\n",
       "      <td>-0.037038</td>\n",
       "      <td>0.090367</td>\n",
       "      <td>0.096842</td>\n",
       "      <td>0.113544</td>\n",
       "      <td>0.119426</td>\n",
       "      <td>0.110505</td>\n",
       "      <td>-0.016618</td>\n",
       "      <td>0.259479</td>\n",
       "      <td>-0.014901</td>\n",
       "      <td>0.056117</td>\n",
       "      <td>0.076048</td>\n",
       "    </tr>\n",
       "    <tr>\n",
       "      <th>cpt</th>\n",
       "      <td>0.121207</td>\n",
       "      <td>-0.254939</td>\n",
       "      <td>-0.037038</td>\n",
       "      <td>1.000000</td>\n",
       "      <td>0.249061</td>\n",
       "      <td>-0.088992</td>\n",
       "      <td>0.033379</td>\n",
       "      <td>0.061213</td>\n",
       "      <td>0.070715</td>\n",
       "      <td>0.086057</td>\n",
       "      <td>0.085001</td>\n",
       "      <td>-0.301792</td>\n",
       "      <td>0.346266</td>\n",
       "      <td>0.412829</td>\n",
       "    </tr>\n",
       "    <tr>\n",
       "      <th>major_vessels</th>\n",
       "      <td>0.076832</td>\n",
       "      <td>-0.153024</td>\n",
       "      <td>0.090367</td>\n",
       "      <td>0.249061</td>\n",
       "      <td>1.000000</td>\n",
       "      <td>0.169792</td>\n",
       "      <td>0.096656</td>\n",
       "      <td>0.098348</td>\n",
       "      <td>0.167406</td>\n",
       "      <td>0.073107</td>\n",
       "      <td>0.347355</td>\n",
       "      <td>-0.275687</td>\n",
       "      <td>0.153407</td>\n",
       "      <td>0.421519</td>\n",
       "    </tr>\n",
       "    <tr>\n",
       "      <th>fasting_blood_sugar</th>\n",
       "      <td>0.050199</td>\n",
       "      <td>-0.064897</td>\n",
       "      <td>0.096842</td>\n",
       "      <td>-0.088992</td>\n",
       "      <td>0.169792</td>\n",
       "      <td>1.000000</td>\n",
       "      <td>0.053864</td>\n",
       "      <td>0.027560</td>\n",
       "      <td>-0.002458</td>\n",
       "      <td>0.066010</td>\n",
       "      <td>0.176101</td>\n",
       "      <td>0.058369</td>\n",
       "      <td>-0.005956</td>\n",
       "      <td>0.003379</td>\n",
       "    </tr>\n",
       "    <tr>\n",
       "      <th>ekg_result</th>\n",
       "      <td>0.172191</td>\n",
       "      <td>0.004791</td>\n",
       "      <td>0.113544</td>\n",
       "      <td>0.033379</td>\n",
       "      <td>0.096656</td>\n",
       "      <td>0.053864</td>\n",
       "      <td>1.000000</td>\n",
       "      <td>0.170839</td>\n",
       "      <td>0.118666</td>\n",
       "      <td>0.045786</td>\n",
       "      <td>0.126856</td>\n",
       "      <td>-0.102766</td>\n",
       "      <td>0.037773</td>\n",
       "      <td>0.145933</td>\n",
       "    </tr>\n",
       "    <tr>\n",
       "      <th>serum_cholesterol</th>\n",
       "      <td>-0.032348</td>\n",
       "      <td>0.050466</td>\n",
       "      <td>0.119426</td>\n",
       "      <td>0.061213</td>\n",
       "      <td>0.098348</td>\n",
       "      <td>0.027560</td>\n",
       "      <td>0.170839</td>\n",
       "      <td>1.000000</td>\n",
       "      <td>0.016623</td>\n",
       "      <td>-0.152296</td>\n",
       "      <td>0.236211</td>\n",
       "      <td>-0.071038</td>\n",
       "      <td>0.083139</td>\n",
       "      <td>0.079775</td>\n",
       "    </tr>\n",
       "    <tr>\n",
       "      <th>oldpeak_st_depression</th>\n",
       "      <td>0.535583</td>\n",
       "      <td>-0.279462</td>\n",
       "      <td>0.110505</td>\n",
       "      <td>0.070715</td>\n",
       "      <td>0.167406</td>\n",
       "      <td>-0.002458</td>\n",
       "      <td>0.118666</td>\n",
       "      <td>0.016623</td>\n",
       "      <td>1.000000</td>\n",
       "      <td>0.121071</td>\n",
       "      <td>0.202029</td>\n",
       "      <td>-0.324242</td>\n",
       "      <td>0.263756</td>\n",
       "      <td>0.388253</td>\n",
       "    </tr>\n",
       "    <tr>\n",
       "      <th>sex</th>\n",
       "      <td>0.093340</td>\n",
       "      <td>-0.412284</td>\n",
       "      <td>-0.016618</td>\n",
       "      <td>0.086057</td>\n",
       "      <td>0.073107</td>\n",
       "      <td>0.066010</td>\n",
       "      <td>0.045786</td>\n",
       "      <td>-0.152296</td>\n",
       "      <td>0.121071</td>\n",
       "      <td>1.000000</td>\n",
       "      <td>-0.148997</td>\n",
       "      <td>-0.053960</td>\n",
       "      <td>0.251096</td>\n",
       "      <td>0.335421</td>\n",
       "    </tr>\n",
       "    <tr>\n",
       "      <th>age</th>\n",
       "      <td>0.169918</td>\n",
       "      <td>-0.067663</td>\n",
       "      <td>0.259479</td>\n",
       "      <td>0.085001</td>\n",
       "      <td>0.347355</td>\n",
       "      <td>0.176101</td>\n",
       "      <td>0.126856</td>\n",
       "      <td>0.236211</td>\n",
       "      <td>0.202029</td>\n",
       "      <td>-0.148997</td>\n",
       "      <td>1.000000</td>\n",
       "      <td>-0.394630</td>\n",
       "      <td>0.081811</td>\n",
       "      <td>0.138255</td>\n",
       "    </tr>\n",
       "    <tr>\n",
       "      <th>max_heart_rate</th>\n",
       "      <td>-0.418102</td>\n",
       "      <td>0.278681</td>\n",
       "      <td>-0.014901</td>\n",
       "      <td>-0.301792</td>\n",
       "      <td>-0.275687</td>\n",
       "      <td>0.058369</td>\n",
       "      <td>-0.102766</td>\n",
       "      <td>-0.071038</td>\n",
       "      <td>-0.324242</td>\n",
       "      <td>-0.053960</td>\n",
       "      <td>-0.394630</td>\n",
       "      <td>1.000000</td>\n",
       "      <td>-0.365065</td>\n",
       "      <td>-0.375352</td>\n",
       "    </tr>\n",
       "    <tr>\n",
       "      <th>exercise_induced_angina</th>\n",
       "      <td>0.225459</td>\n",
       "      <td>-0.317990</td>\n",
       "      <td>0.056117</td>\n",
       "      <td>0.346266</td>\n",
       "      <td>0.153407</td>\n",
       "      <td>-0.005956</td>\n",
       "      <td>0.037773</td>\n",
       "      <td>0.083139</td>\n",
       "      <td>0.263756</td>\n",
       "      <td>0.251096</td>\n",
       "      <td>0.081811</td>\n",
       "      <td>-0.365065</td>\n",
       "      <td>1.000000</td>\n",
       "      <td>0.448647</td>\n",
       "    </tr>\n",
       "    <tr>\n",
       "      <th>heart_disease</th>\n",
       "      <td>0.344224</td>\n",
       "      <td>-0.460933</td>\n",
       "      <td>0.076048</td>\n",
       "      <td>0.412829</td>\n",
       "      <td>0.421519</td>\n",
       "      <td>0.003379</td>\n",
       "      <td>0.145933</td>\n",
       "      <td>0.079775</td>\n",
       "      <td>0.388253</td>\n",
       "      <td>0.335421</td>\n",
       "      <td>0.138255</td>\n",
       "      <td>-0.375352</td>\n",
       "      <td>0.448647</td>\n",
       "      <td>1.000000</td>\n",
       "    </tr>\n",
       "  </tbody>\n",
       "</table>\n",
       "</div>"
      ],
      "text/plain": [
       "                              sop      thal  resting_bp       cpt  \\\n",
       "sop                      1.000000 -0.317019    0.061536  0.121207   \n",
       "thal                    -0.317019  1.000000   -0.122475 -0.254939   \n",
       "resting_bp               0.061536 -0.122475    1.000000 -0.037038   \n",
       "cpt                      0.121207 -0.254939   -0.037038  1.000000   \n",
       "major_vessels            0.076832 -0.153024    0.090367  0.249061   \n",
       "fasting_blood_sugar      0.050199 -0.064897    0.096842 -0.088992   \n",
       "ekg_result               0.172191  0.004791    0.113544  0.033379   \n",
       "serum_cholesterol       -0.032348  0.050466    0.119426  0.061213   \n",
       "oldpeak_st_depression    0.535583 -0.279462    0.110505  0.070715   \n",
       "sex                      0.093340 -0.412284   -0.016618  0.086057   \n",
       "age                      0.169918 -0.067663    0.259479  0.085001   \n",
       "max_heart_rate          -0.418102  0.278681   -0.014901 -0.301792   \n",
       "exercise_induced_angina  0.225459 -0.317990    0.056117  0.346266   \n",
       "heart_disease            0.344224 -0.460933    0.076048  0.412829   \n",
       "\n",
       "                         major_vessels  fasting_blood_sugar  ekg_result  \\\n",
       "sop                           0.076832             0.050199    0.172191   \n",
       "thal                         -0.153024            -0.064897    0.004791   \n",
       "resting_bp                    0.090367             0.096842    0.113544   \n",
       "cpt                           0.249061            -0.088992    0.033379   \n",
       "major_vessels                 1.000000             0.169792    0.096656   \n",
       "fasting_blood_sugar           0.169792             1.000000    0.053864   \n",
       "ekg_result                    0.096656             0.053864    1.000000   \n",
       "serum_cholesterol             0.098348             0.027560    0.170839   \n",
       "oldpeak_st_depression         0.167406            -0.002458    0.118666   \n",
       "sex                           0.073107             0.066010    0.045786   \n",
       "age                           0.347355             0.176101    0.126856   \n",
       "max_heart_rate               -0.275687             0.058369   -0.102766   \n",
       "exercise_induced_angina       0.153407            -0.005956    0.037773   \n",
       "heart_disease                 0.421519             0.003379    0.145933   \n",
       "\n",
       "                         serum_cholesterol  oldpeak_st_depression       sex  \\\n",
       "sop                              -0.032348               0.535583  0.093340   \n",
       "thal                              0.050466              -0.279462 -0.412284   \n",
       "resting_bp                        0.119426               0.110505 -0.016618   \n",
       "cpt                               0.061213               0.070715  0.086057   \n",
       "major_vessels                     0.098348               0.167406  0.073107   \n",
       "fasting_blood_sugar               0.027560              -0.002458  0.066010   \n",
       "ekg_result                        0.170839               0.118666  0.045786   \n",
       "serum_cholesterol                 1.000000               0.016623 -0.152296   \n",
       "oldpeak_st_depression             0.016623               1.000000  0.121071   \n",
       "sex                              -0.152296               0.121071  1.000000   \n",
       "age                               0.236211               0.202029 -0.148997   \n",
       "max_heart_rate                   -0.071038              -0.324242 -0.053960   \n",
       "exercise_induced_angina           0.083139               0.263756  0.251096   \n",
       "heart_disease                     0.079775               0.388253  0.335421   \n",
       "\n",
       "                              age  max_heart_rate  exercise_induced_angina  \\\n",
       "sop                      0.169918       -0.418102                 0.225459   \n",
       "thal                    -0.067663        0.278681                -0.317990   \n",
       "resting_bp               0.259479       -0.014901                 0.056117   \n",
       "cpt                      0.085001       -0.301792                 0.346266   \n",
       "major_vessels            0.347355       -0.275687                 0.153407   \n",
       "fasting_blood_sugar      0.176101        0.058369                -0.005956   \n",
       "ekg_result               0.126856       -0.102766                 0.037773   \n",
       "serum_cholesterol        0.236211       -0.071038                 0.083139   \n",
       "oldpeak_st_depression    0.202029       -0.324242                 0.263756   \n",
       "sex                     -0.148997       -0.053960                 0.251096   \n",
       "age                      1.000000       -0.394630                 0.081811   \n",
       "max_heart_rate          -0.394630        1.000000                -0.365065   \n",
       "exercise_induced_angina  0.081811       -0.365065                 1.000000   \n",
       "heart_disease            0.138255       -0.375352                 0.448647   \n",
       "\n",
       "                         heart_disease  \n",
       "sop                           0.344224  \n",
       "thal                         -0.460933  \n",
       "resting_bp                    0.076048  \n",
       "cpt                           0.412829  \n",
       "major_vessels                 0.421519  \n",
       "fasting_blood_sugar           0.003379  \n",
       "ekg_result                    0.145933  \n",
       "serum_cholesterol             0.079775  \n",
       "oldpeak_st_depression         0.388253  \n",
       "sex                           0.335421  \n",
       "age                           0.138255  \n",
       "max_heart_rate               -0.375352  \n",
       "exercise_induced_angina       0.448647  \n",
       "heart_disease                 1.000000  "
      ]
     },
     "execution_count": 132,
     "metadata": {},
     "output_type": "execute_result"
    }
   ],
   "source": [
    "data.corr()"
   ]
  },
  {
   "cell_type": "code",
   "execution_count": 133,
   "id": "817d8e21",
   "metadata": {},
   "outputs": [
    {
     "data": {
      "image/png": "[encoded data removed]",
      "text/plain": [
       "<Figure size 1080x720 with 2 Axes>"
      ]
     },
     "metadata": {},
     "output_type": "display_data"
    }
   ],
   "source": [
    "# Plot hitmap for better visualisation\n",
    "plt.figure(figsize=(15,10))\n",
    "sns.heatmap(data.corr(),annot=True,cmap='RdYlGn',annot_kws={'size':10})\n",
    "plt.show()"
   ]
  },
  {
   "cell_type": "code",
   "execution_count": 134,
   "id": "efada56b",
   "metadata": {},
   "outputs": [
    {
     "data": {
      "text/plain": [
       "0"
      ]
     },
     "execution_count": 134,
     "metadata": {},
     "output_type": "execute_result"
    }
   ],
   "source": [
    "data.duplicated().sum()"
   ]
  },
  {
   "cell_type": "markdown",
   "id": "686a03c7",
   "metadata": {},
   "source": [
    "### MODEL CREATION\n",
    "### AIM\n",
    "* In heart disease case recall metrix is more important so we need more focus to improve recall score\n",
    "* Create sweetspot model (Low bias & Low variance)\n",
    "* HERE WE WILL BE EXPERIMENTING WITH FOUR ALGORITHM\n",
    "* Logistic regression\n",
    "* KNeighborsClassifier\n",
    "* RandomForestClassifier\n",
    "* XGBClassifier"
   ]
  },
  {
   "cell_type": "markdown",
   "id": "2a090211",
   "metadata": {},
   "source": [
    "### DEFINE INDEPENDANT AND DEPENDANT VERIABLE"
   ]
  },
  {
   "cell_type": "code",
   "execution_count": 135,
   "id": "05da5492",
   "metadata": {},
   "outputs": [],
   "source": [
    "X = data.iloc[:,:-1]\n",
    "y = data.heart_disease"
   ]
  },
  {
   "cell_type": "code",
   "execution_count": 136,
   "id": "fe5863b4",
   "metadata": {},
   "outputs": [
    {
     "data": {
      "text/html": [
       "<div>\n",
       "<style scoped>\n",
       "    .dataframe tbody tr th:only-of-type {\n",
       "        vertical-align: middle;\n",
       "    }\n",
       "\n",
       "    .dataframe tbody tr th {\n",
       "        vertical-align: top;\n",
       "    }\n",
       "\n",
       "    .dataframe thead th {\n",
       "        text-align: right;\n",
       "    }\n",
       "</style>\n",
       "<table border=\"1\" class=\"dataframe\">\n",
       "  <thead>\n",
       "    <tr style=\"text-align: right;\">\n",
       "      <th></th>\n",
       "      <th>sop</th>\n",
       "      <th>thal</th>\n",
       "      <th>resting_bp</th>\n",
       "      <th>cpt</th>\n",
       "      <th>major_vessels</th>\n",
       "      <th>fasting_blood_sugar</th>\n",
       "      <th>ekg_result</th>\n",
       "      <th>serum_cholesterol</th>\n",
       "      <th>oldpeak_st_depression</th>\n",
       "      <th>sex</th>\n",
       "      <th>age</th>\n",
       "      <th>max_heart_rate</th>\n",
       "      <th>exercise_induced_angina</th>\n",
       "    </tr>\n",
       "  </thead>\n",
       "  <tbody>\n",
       "    <tr>\n",
       "      <th>0</th>\n",
       "      <td>1</td>\n",
       "      <td>2</td>\n",
       "      <td>128</td>\n",
       "      <td>2</td>\n",
       "      <td>0</td>\n",
       "      <td>0</td>\n",
       "      <td>2</td>\n",
       "      <td>308</td>\n",
       "      <td>0.0</td>\n",
       "      <td>1</td>\n",
       "      <td>45</td>\n",
       "      <td>170</td>\n",
       "      <td>0</td>\n",
       "    </tr>\n",
       "    <tr>\n",
       "      <th>1</th>\n",
       "      <td>2</td>\n",
       "      <td>2</td>\n",
       "      <td>110</td>\n",
       "      <td>3</td>\n",
       "      <td>0</td>\n",
       "      <td>0</td>\n",
       "      <td>0</td>\n",
       "      <td>214</td>\n",
       "      <td>1.6</td>\n",
       "      <td>0</td>\n",
       "      <td>54</td>\n",
       "      <td>158</td>\n",
       "      <td>0</td>\n",
       "    </tr>\n",
       "    <tr>\n",
       "      <th>2</th>\n",
       "      <td>1</td>\n",
       "      <td>2</td>\n",
       "      <td>125</td>\n",
       "      <td>4</td>\n",
       "      <td>3</td>\n",
       "      <td>0</td>\n",
       "      <td>2</td>\n",
       "      <td>304</td>\n",
       "      <td>0.0</td>\n",
       "      <td>1</td>\n",
       "      <td>77</td>\n",
       "      <td>162</td>\n",
       "      <td>1</td>\n",
       "    </tr>\n",
       "    <tr>\n",
       "      <th>3</th>\n",
       "      <td>1</td>\n",
       "      <td>1</td>\n",
       "      <td>152</td>\n",
       "      <td>4</td>\n",
       "      <td>0</td>\n",
       "      <td>0</td>\n",
       "      <td>0</td>\n",
       "      <td>223</td>\n",
       "      <td>0.0</td>\n",
       "      <td>1</td>\n",
       "      <td>40</td>\n",
       "      <td>181</td>\n",
       "      <td>0</td>\n",
       "    </tr>\n",
       "    <tr>\n",
       "      <th>4</th>\n",
       "      <td>3</td>\n",
       "      <td>1</td>\n",
       "      <td>130</td>\n",
       "      <td>1</td>\n",
       "      <td>0</td>\n",
       "      <td>0</td>\n",
       "      <td>2</td>\n",
       "      <td>270</td>\n",
       "      <td>0.8</td>\n",
       "      <td>1</td>\n",
       "      <td>59</td>\n",
       "      <td>145</td>\n",
       "      <td>0</td>\n",
       "    </tr>\n",
       "  </tbody>\n",
       "</table>\n",
       "</div>"
      ],
      "text/plain": [
       "   sop  thal  resting_bp  cpt  major_vessels  fasting_blood_sugar  ekg_result  \\\n",
       "0    1     2         128    2              0                    0           2   \n",
       "1    2     2         110    3              0                    0           0   \n",
       "2    1     2         125    4              3                    0           2   \n",
       "3    1     1         152    4              0                    0           0   \n",
       "4    3     1         130    1              0                    0           2   \n",
       "\n",
       "   serum_cholesterol  oldpeak_st_depression  sex  age  max_heart_rate  \\\n",
       "0                308                    0.0    1   45             170   \n",
       "1                214                    1.6    0   54             158   \n",
       "2                304                    0.0    1   77             162   \n",
       "3                223                    0.0    1   40             181   \n",
       "4                270                    0.8    1   59             145   \n",
       "\n",
       "   exercise_induced_angina  \n",
       "0                        0  \n",
       "1                        0  \n",
       "2                        1  \n",
       "3                        0  \n",
       "4                        0  "
      ]
     },
     "execution_count": 136,
     "metadata": {},
     "output_type": "execute_result"
    }
   ],
   "source": [
    "# Checking the X\n",
    "X.head()"
   ]
  },
  {
   "cell_type": "code",
   "execution_count": 137,
   "id": "276da162",
   "metadata": {},
   "outputs": [
    {
     "data": {
      "text/plain": [
       "0    0\n",
       "1    0\n",
       "2    1\n",
       "3    1\n",
       "4    0\n",
       "Name: heart_disease, dtype: int64"
      ]
     },
     "execution_count": 137,
     "metadata": {},
     "output_type": "execute_result"
    }
   ],
   "source": [
    "# Check y\n",
    "y.head()"
   ]
  },
  {
   "cell_type": "code",
   "execution_count": 138,
   "id": "b2922797",
   "metadata": {},
   "outputs": [
    {
     "data": {
      "text/plain": [
       "0    100\n",
       "1     80\n",
       "Name: heart_disease, dtype: int64"
      ]
     },
     "execution_count": 138,
     "metadata": {},
     "output_type": "execute_result"
    }
   ],
   "source": [
    "y.value_counts()"
   ]
  },
  {
   "cell_type": "markdown",
   "id": "c4249fc0",
   "metadata": {},
   "source": [
    "### CREATING TRAINING AND TESTING DATA"
   ]
  },
  {
   "cell_type": "code",
   "execution_count": 139,
   "id": "f531f995",
   "metadata": {},
   "outputs": [],
   "source": [
    "# importing library\n",
    "from sklearn.model_selection import train_test_split\n",
    "X_train,X_test,y_train,y_test = train_test_split(X,y,test_size=0.20,random_state=45)"
   ]
  },
  {
   "cell_type": "code",
   "execution_count": 140,
   "id": "b72fc4a1",
   "metadata": {},
   "outputs": [
    {
     "data": {
      "text/plain": [
       "(144, 13)"
      ]
     },
     "execution_count": 140,
     "metadata": {},
     "output_type": "execute_result"
    }
   ],
   "source": [
    "# check the shape of X train, y train, X test and y test\n",
    "X_train.shape"
   ]
  },
  {
   "cell_type": "code",
   "execution_count": 141,
   "id": "574f9b3a",
   "metadata": {},
   "outputs": [
    {
     "data": {
      "text/plain": [
       "(36, 13)"
      ]
     },
     "execution_count": 141,
     "metadata": {},
     "output_type": "execute_result"
    }
   ],
   "source": [
    "X_test.shape"
   ]
  },
  {
   "cell_type": "code",
   "execution_count": 142,
   "id": "988bbe09",
   "metadata": {},
   "outputs": [
    {
     "data": {
      "text/plain": [
       "(144,)"
      ]
     },
     "execution_count": 142,
     "metadata": {},
     "output_type": "execute_result"
    }
   ],
   "source": [
    "y_train.shape"
   ]
  },
  {
   "cell_type": "code",
   "execution_count": 143,
   "id": "204014de",
   "metadata": {},
   "outputs": [
    {
     "data": {
      "text/plain": [
       "(36,)"
      ]
     },
     "execution_count": 143,
     "metadata": {},
     "output_type": "execute_result"
    }
   ],
   "source": [
    "y_test.shape"
   ]
  },
  {
   "cell_type": "markdown",
   "id": "74165dfb",
   "metadata": {},
   "source": [
    "### 1.LogisticRegression"
   ]
  },
  {
   "cell_type": "code",
   "execution_count": 144,
   "id": "883a36e5",
   "metadata": {},
   "outputs": [],
   "source": [
    "# Step:1 importing library\n",
    "from sklearn.linear_model import LogisticRegression\n",
    "\n",
    "# Step:2 Object creation\n",
    "log_model = LogisticRegression()\n",
    "\n",
    "# Step:3 Fitting the training data\n",
    "log_model.fit(X_train,y_train)\n",
    "\n",
    "# Step:4 Prediction on test data\n",
    "y_log_predict = log_model.predict(X_test)\n",
    "\n",
    "# Step:5 Prediction on training data\n",
    "train_log_predict = log_model.predict(X_train)"
   ]
  },
  {
   "cell_type": "markdown",
   "id": "01b95cf3",
   "metadata": {},
   "source": [
    "### EVALUATION\n",
    "### TRAINING ACCURACY\n"
   ]
  },
  {
   "cell_type": "code",
   "execution_count": 145,
   "id": "6bdf9df0",
   "metadata": {},
   "outputs": [
    {
     "name": "stdout",
     "output_type": "stream",
     "text": [
      "Training accuracy of Logistic regression model 86.80555555555556\n",
      "Logistic regression training Classification report: \n",
      "               precision    recall  f1-score   support\n",
      "\n",
      "           0       0.88      0.87      0.88        77\n",
      "           1       0.85      0.87      0.86        67\n",
      "\n",
      "    accuracy                           0.87       144\n",
      "   macro avg       0.87      0.87      0.87       144\n",
      "weighted avg       0.87      0.87      0.87       144\n",
      "\n"
     ]
    }
   ],
   "source": [
    "# importing library\n",
    "from sklearn.metrics import accuracy_score,recall_score,f1_score,classification_report\n",
    "log_train_accuracy = accuracy_score(train_log_predict,y_train)\n",
    "print(\"Training accuracy of Logistic regression model\",log_train_accuracy*100)\n",
    "print(\"Logistic regression training Classification report: \\n\",classification_report(train_log_predict,y_train))"
   ]
  },
  {
   "cell_type": "code",
   "execution_count": 146,
   "id": "a543062f",
   "metadata": {},
   "outputs": [
    {
     "name": "stdout",
     "output_type": "stream",
     "text": [
      "Testing accuracy of Logistic regession model 83.33333333333334\n",
      "Logistic regression testing Classification report: \n",
      "               precision    recall  f1-score   support\n",
      "\n",
      "           0       0.96      0.82      0.88        28\n",
      "           1       0.58      0.88      0.70         8\n",
      "\n",
      "    accuracy                           0.83        36\n",
      "   macro avg       0.77      0.85      0.79        36\n",
      "weighted avg       0.88      0.83      0.84        36\n",
      "\n"
     ]
    }
   ],
   "source": [
    "log_test_accuracy = accuracy_score(y_log_predict,y_test)\n",
    "print(\"Testing accuracy of Logistic regession model\",log_test_accuracy*100)\n",
    "print(\"Logistic regression testing Classification report: \\n\",classification_report(y_log_predict,y_test))"
   ]
  },
  {
   "cell_type": "code",
   "execution_count": 147,
   "id": "c9cc06fe",
   "metadata": {},
   "outputs": [
    {
     "data": {
      "text/plain": [
       "87.5"
      ]
     },
     "execution_count": 147,
     "metadata": {},
     "output_type": "execute_result"
    }
   ],
   "source": [
    "# In heaert disease prediction recall is more important\n",
    "recall_log = recall_score(y_log_predict,y_test)\n",
    "recall_log*100"
   ]
  },
  {
   "cell_type": "code",
   "execution_count": 148,
   "id": "0fb9b18a",
   "metadata": {},
   "outputs": [
    {
     "data": {
      "text/html": [
       "<div>\n",
       "<style scoped>\n",
       "    .dataframe tbody tr th:only-of-type {\n",
       "        vertical-align: middle;\n",
       "    }\n",
       "\n",
       "    .dataframe tbody tr th {\n",
       "        vertical-align: top;\n",
       "    }\n",
       "\n",
       "    .dataframe thead th {\n",
       "        text-align: right;\n",
       "    }\n",
       "</style>\n",
       "<table border=\"1\" class=\"dataframe\">\n",
       "  <thead>\n",
       "    <tr style=\"text-align: right;\">\n",
       "      <th>heart_disease</th>\n",
       "      <th>0</th>\n",
       "      <th>1</th>\n",
       "    </tr>\n",
       "    <tr>\n",
       "      <th>row_0</th>\n",
       "      <th></th>\n",
       "      <th></th>\n",
       "    </tr>\n",
       "  </thead>\n",
       "  <tbody>\n",
       "    <tr>\n",
       "      <th>0</th>\n",
       "      <td>23</td>\n",
       "      <td>5</td>\n",
       "    </tr>\n",
       "    <tr>\n",
       "      <th>1</th>\n",
       "      <td>1</td>\n",
       "      <td>7</td>\n",
       "    </tr>\n",
       "  </tbody>\n",
       "</table>\n",
       "</div>"
      ],
      "text/plain": [
       "heart_disease   0  1\n",
       "row_0               \n",
       "0              23  5\n",
       "1               1  7"
      ]
     },
     "execution_count": 148,
     "metadata": {},
     "output_type": "execute_result"
    }
   ],
   "source": [
    "# crosstab of logistic regression\n",
    "pd.crosstab(y_log_predict,y_test)"
   ]
  },
  {
   "cell_type": "code",
   "execution_count": 149,
   "id": "7b6c6057",
   "metadata": {},
   "outputs": [],
   "source": [
    "### Using bagging\n",
    "# Step:1 Create logistic regression object\n",
    "log_reg1 = LogisticRegression()\n",
    "\n",
    "# Step:2 importing library and creating bagging object\n",
    "from sklearn.ensemble import BaggingClassifier\n",
    "bagg = BaggingClassifier(base_estimator=log_reg1,n_estimators=45)\n",
    "#base_estimator---> algorithm which you want to pass\n",
    "#n_estimotors-----> number of base learners\n",
    "\n",
    "# Step:3 Fitting the training data\n",
    "bagg.fit(X_train,y_train)\n",
    "\n",
    "# Step:4 Prediction on test data\n",
    "bagg_predict = bagg.predict(X_test)"
   ]
  },
  {
   "cell_type": "code",
   "execution_count": 150,
   "id": "6b7927ae",
   "metadata": {},
   "outputs": [
    {
     "name": "stdout",
     "output_type": "stream",
     "text": [
      "Racall score after bagging 87.5\n"
     ]
    }
   ],
   "source": [
    "bagg_recall = recall_score(bagg_predict,y_test)\n",
    "print(\"Racall score after bagging\",bagg_recall*100)"
   ]
  },
  {
   "cell_type": "markdown",
   "id": "09041514",
   "metadata": {},
   "source": [
    "### 2.KNN"
   ]
  },
  {
   "cell_type": "code",
   "execution_count": 151,
   "id": "5e376be5",
   "metadata": {},
   "outputs": [
    {
     "name": "stdout",
     "output_type": "stream",
     "text": [
      "Error rate: [0.4166666666666667, 0.3333333333333333, 0.3611111111111111, 0.3611111111111111, 0.3055555555555556, 0.2777777777777778, 0.3333333333333333, 0.2777777777777778, 0.4166666666666667, 0.3333333333333333]\n"
     ]
    }
   ],
   "source": [
    "# Step:1 Taking the optimal value of k\n",
    "from sklearn.neighbors import KNeighborsClassifier\n",
    "error_rate = [] # Creating empty list\n",
    "for i in range(1,11):\n",
    "    knn = KNeighborsClassifier(n_neighbors=i)\n",
    "    knn.fit(X_train,y_train)\n",
    "    y_knn_predict = knn.predict(X_test)\n",
    "    error_rate.append(np.mean(y_knn_predict != y_test))\n",
    "print(\"Error rate:\",error_rate)"
   ]
  },
  {
   "cell_type": "code",
   "execution_count": 152,
   "id": "4ce7edd9",
   "metadata": {},
   "outputs": [
    {
     "data": {
      "image/png": "[encoded data removed]",
      "text/plain": [
       "<Figure size 720x432 with 1 Axes>"
      ]
     },
     "metadata": {},
     "output_type": "display_data"
    }
   ],
   "source": [
    "# Step:2 Plotting the error rate\n",
    "plt.figure(figsize=(10,6))\n",
    "plt.plot(range(1,11),error_rate,color='blue', linestyle='dashed',marker='o',markerfacecolor='red', markersize=10)\n",
    "plt.title('Error Rate vs. K Value')\n",
    "plt.xlabel('K')\n",
    "plt.ylabel('Error Rate')\n",
    "plt.show()"
   ]
  },
  {
   "cell_type": "code",
   "execution_count": 153,
   "id": "61071b4c",
   "metadata": {},
   "outputs": [],
   "source": [
    "# Step:3 Get nearst neighbors\n",
    "knn1 = KNeighborsClassifier(n_neighbors=3)\n",
    "\n",
    "# Step:4 Fitting the training data\n",
    "knn1.fit(X_train,y_train)\n",
    "\n",
    "# Step:5 Prediction on testing data\n",
    "knn_test_predict = knn1.predict(X_test)\n",
    "\n",
    "# Step:6 Prediction on training data\n",
    "knn_train_predict = knn1.predict(X_train)"
   ]
  },
  {
   "cell_type": "markdown",
   "id": "92a76487",
   "metadata": {},
   "source": [
    "### EVALUATION\n",
    "### TRAINING ACCURACY "
   ]
  },
  {
   "cell_type": "code",
   "execution_count": 154,
   "id": "a99a47ca",
   "metadata": {},
   "outputs": [
    {
     "name": "stdout",
     "output_type": "stream",
     "text": [
      "Training accuracy of knn model  0.8055555555555556\n",
      "Training classification report:\n",
      "               precision    recall  f1-score   support\n",
      "\n",
      "           0       0.80      0.82      0.81        74\n",
      "           1       0.81      0.79      0.80        70\n",
      "\n",
      "    accuracy                           0.81       144\n",
      "   macro avg       0.81      0.81      0.81       144\n",
      "weighted avg       0.81      0.81      0.81       144\n",
      "\n"
     ]
    }
   ],
   "source": [
    "knn_train_accuracy = accuracy_score(knn_train_predict,y_train)\n",
    "print(\"Training accuracy of knn model \",knn_train_accuracy)\n",
    "print(\"Training classification report:\\n\",classification_report(knn_train_predict,y_train))"
   ]
  },
  {
   "cell_type": "markdown",
   "id": "11408d89",
   "metadata": {},
   "source": [
    "### TESTING ACCURACY"
   ]
  },
  {
   "cell_type": "code",
   "execution_count": 155,
   "id": "73aae02c",
   "metadata": {},
   "outputs": [
    {
     "name": "stdout",
     "output_type": "stream",
     "text": [
      "Testing accuracy of knn model 63.888888888888886\n",
      "Testing classification report: \n",
      "               precision    recall  f1-score   support\n",
      "\n",
      "           0       0.62      0.79      0.70        19\n",
      "           1       0.67      0.47      0.55        17\n",
      "\n",
      "    accuracy                           0.64        36\n",
      "   macro avg       0.65      0.63      0.62        36\n",
      "weighted avg       0.64      0.64      0.63        36\n",
      "\n"
     ]
    }
   ],
   "source": [
    "knn_test_accuracy = accuracy_score(knn_test_predict,y_test)\n",
    "print(\"Testing accuracy of knn model\",knn_test_accuracy*100)\n",
    "print(\"Testing classification report: \\n\",classification_report(knn_test_predict,y_test))"
   ]
  },
  {
   "cell_type": "code",
   "execution_count": 156,
   "id": "57267bd3",
   "metadata": {},
   "outputs": [
    {
     "data": {
      "text/plain": [
       "47.05882352941176"
      ]
     },
     "execution_count": 156,
     "metadata": {},
     "output_type": "execute_result"
    }
   ],
   "source": [
    "# Recall score\n",
    "recall_knn = recall_score(knn_test_predict,y_test)\n",
    "recall_knn*100"
   ]
  },
  {
   "cell_type": "code",
   "execution_count": 157,
   "id": "a39feb97",
   "metadata": {},
   "outputs": [
    {
     "data": {
      "text/html": [
       "<div>\n",
       "<style scoped>\n",
       "    .dataframe tbody tr th:only-of-type {\n",
       "        vertical-align: middle;\n",
       "    }\n",
       "\n",
       "    .dataframe tbody tr th {\n",
       "        vertical-align: top;\n",
       "    }\n",
       "\n",
       "    .dataframe thead th {\n",
       "        text-align: right;\n",
       "    }\n",
       "</style>\n",
       "<table border=\"1\" class=\"dataframe\">\n",
       "  <thead>\n",
       "    <tr style=\"text-align: right;\">\n",
       "      <th>heart_disease</th>\n",
       "      <th>0</th>\n",
       "      <th>1</th>\n",
       "    </tr>\n",
       "    <tr>\n",
       "      <th>row_0</th>\n",
       "      <th></th>\n",
       "      <th></th>\n",
       "    </tr>\n",
       "  </thead>\n",
       "  <tbody>\n",
       "    <tr>\n",
       "      <th>0</th>\n",
       "      <td>15</td>\n",
       "      <td>4</td>\n",
       "    </tr>\n",
       "    <tr>\n",
       "      <th>1</th>\n",
       "      <td>9</td>\n",
       "      <td>8</td>\n",
       "    </tr>\n",
       "  </tbody>\n",
       "</table>\n",
       "</div>"
      ],
      "text/plain": [
       "heart_disease   0  1\n",
       "row_0               \n",
       "0              15  4\n",
       "1               9  8"
      ]
     },
     "execution_count": 157,
     "metadata": {},
     "output_type": "execute_result"
    }
   ],
   "source": [
    "# Cross tab\n",
    "pd.crosstab(knn_test_predict,y_test)"
   ]
  },
  {
   "cell_type": "markdown",
   "id": "a1640131",
   "metadata": {},
   "source": [
    "### 3.RandomForestClassifier"
   ]
  },
  {
   "cell_type": "code",
   "execution_count": 158,
   "id": "6cd94117",
   "metadata": {},
   "outputs": [],
   "source": [
    "# Step:1 importing libary and creating object\n",
    "from sklearn.ensemble import RandomForestClassifier\n",
    "rf = RandomForestClassifier(n_estimators=100) # 100 decision tree\n",
    "\n",
    "# Step:2 fitting training data\n",
    "rf.fit(X_train,y_train)\n",
    "\n",
    "# Step:3 Prediction on testing data\n",
    "rf_test_predict = rf.predict(X_test)\n",
    "\n",
    "# Step:4 Prediction on training data\n",
    "rf_train_predict = rf.predict(X_train)"
   ]
  },
  {
   "cell_type": "markdown",
   "id": "cb73d613",
   "metadata": {},
   "source": [
    "### EVALUATION\n",
    "### TRAINING ACCURACY"
   ]
  },
  {
   "cell_type": "code",
   "execution_count": 159,
   "id": "5550a21a",
   "metadata": {},
   "outputs": [
    {
     "name": "stdout",
     "output_type": "stream",
     "text": [
      "Training accuracy of random forest 1.0\n",
      "Classification report of training: \n",
      "               precision    recall  f1-score   support\n",
      "\n",
      "           0       1.00      1.00      1.00        76\n",
      "           1       1.00      1.00      1.00        68\n",
      "\n",
      "    accuracy                           1.00       144\n",
      "   macro avg       1.00      1.00      1.00       144\n",
      "weighted avg       1.00      1.00      1.00       144\n",
      "\n"
     ]
    }
   ],
   "source": [
    "rf_train_accuracy = accuracy_score(rf_train_predict,y_train)\n",
    "print(\"Training accuracy of random forest\",rf_train_accuracy)\n",
    "print(\"Classification report of training: \\n\",classification_report(rf_train_predict,y_train))"
   ]
  },
  {
   "cell_type": "markdown",
   "id": "87e1fd05",
   "metadata": {},
   "source": [
    "### TESTING ACCURACY"
   ]
  },
  {
   "cell_type": "code",
   "execution_count": 160,
   "id": "e6fc52be",
   "metadata": {},
   "outputs": [
    {
     "name": "stdout",
     "output_type": "stream",
     "text": [
      "Testing accuracy of random forest 80.55555555555556\n",
      "Classification report of testing: \n",
      "               precision    recall  f1-score   support\n",
      "\n",
      "           0       0.88      0.84      0.86        25\n",
      "           1       0.67      0.73      0.70        11\n",
      "\n",
      "    accuracy                           0.81        36\n",
      "   macro avg       0.77      0.78      0.78        36\n",
      "weighted avg       0.81      0.81      0.81        36\n",
      "\n"
     ]
    }
   ],
   "source": [
    "rf_test_accuracy = accuracy_score(rf_test_predict,y_test)\n",
    "print(\"Testing accuracy of random forest\",rf_test_accuracy*100)\n",
    "print(\"Classification report of testing: \\n\",classification_report(rf_test_predict,y_test))"
   ]
  },
  {
   "cell_type": "code",
   "execution_count": 161,
   "id": "f91f5609",
   "metadata": {},
   "outputs": [
    {
     "data": {
      "text/html": [
       "<div>\n",
       "<style scoped>\n",
       "    .dataframe tbody tr th:only-of-type {\n",
       "        vertical-align: middle;\n",
       "    }\n",
       "\n",
       "    .dataframe tbody tr th {\n",
       "        vertical-align: top;\n",
       "    }\n",
       "\n",
       "    .dataframe thead th {\n",
       "        text-align: right;\n",
       "    }\n",
       "</style>\n",
       "<table border=\"1\" class=\"dataframe\">\n",
       "  <thead>\n",
       "    <tr style=\"text-align: right;\">\n",
       "      <th>heart_disease</th>\n",
       "      <th>0</th>\n",
       "      <th>1</th>\n",
       "    </tr>\n",
       "    <tr>\n",
       "      <th>row_0</th>\n",
       "      <th></th>\n",
       "      <th></th>\n",
       "    </tr>\n",
       "  </thead>\n",
       "  <tbody>\n",
       "    <tr>\n",
       "      <th>0</th>\n",
       "      <td>21</td>\n",
       "      <td>4</td>\n",
       "    </tr>\n",
       "    <tr>\n",
       "      <th>1</th>\n",
       "      <td>3</td>\n",
       "      <td>8</td>\n",
       "    </tr>\n",
       "  </tbody>\n",
       "</table>\n",
       "</div>"
      ],
      "text/plain": [
       "heart_disease   0  1\n",
       "row_0               \n",
       "0              21  4\n",
       "1               3  8"
      ]
     },
     "execution_count": 161,
     "metadata": {},
     "output_type": "execute_result"
    }
   ],
   "source": [
    "# Cross tab\n",
    "pd.crosstab(rf_test_predict,y_test)"
   ]
  },
  {
   "cell_type": "markdown",
   "id": "33c2a38f",
   "metadata": {},
   "source": [
    "### HYPERPARAMETER TUNNING OF RANDOM FOREST"
   ]
  },
  {
   "cell_type": "code",
   "execution_count": 162,
   "id": "1674db77",
   "metadata": {},
   "outputs": [
    {
     "name": "stdout",
     "output_type": "stream",
     "text": [
      "Fitting 2 folds for each of 20 candidates, totalling 40 fits\n",
      "Best parameter: {'n_estimators': 1155, 'min_samples_split': 10, 'min_samples_leaf': 4, 'max_features': 'auto', 'max_depth': None}\n"
     ]
    }
   ],
   "source": [
    "# Step:1 import library and imputation of parameter\n",
    "from sklearn.model_selection import RandomizedSearchCV  \n",
    "#In random forest we are not used grid search CV because of memory reason.\n",
    "\n",
    "n_estimators = [int(x) for x in np.linspace(start=100 ,stop=2000, num=10)] #No of decision tree in forest\n",
    "max_features = ['auto', 'sqrt'] #Max no of feature consider to create decision tree\n",
    "max_depth    = [int(x) for x in np.linspace(10,100,num=11)] #Max no of level in each decision tree\n",
    "max_depth.append(None)\n",
    "min_samples_split = [2,3,5,10] #Min number of data points placed in a node before the node is split\n",
    "min_samples_leaf  = [1,2,3,4,5]  #Min number of data point allowed in leaf node\n",
    "\n",
    "# Step:2 Creating dictionary of paramter\n",
    "random_grid = {'n_estimators': n_estimators, 'max_features': max_features,\n",
    "               'max_depth': max_depth, 'min_samples_split': min_samples_split,\n",
    "               'min_samples_leaf': min_samples_leaf}\n",
    "\n",
    "# Step:3 Object creation\n",
    "rf_clf = RandomForestClassifier(random_state=42) #Provide random state because select rows and columns randomly\n",
    "\n",
    "# Step:4 Create Random search CV with parameter\n",
    "rf_cv = RandomizedSearchCV(estimator=rf_clf,scoring='f1',param_distributions=random_grid,\n",
    "                           n_iter=20,cv=2,verbose=2,random_state=42,n_jobs=-1)\n",
    "\n",
    "# Step:5 Fitting the training data\n",
    "rf_cv.fit(X_train,y_train)\n",
    "\n",
    "# Step:6 Get best parameter\n",
    "rf_best_params = rf_cv.best_params_\n",
    "print(f\"Best parameter: {rf_best_params}\")"
   ]
  },
  {
   "cell_type": "code",
   "execution_count": 163,
   "id": "ca96f661",
   "metadata": {},
   "outputs": [],
   "source": [
    "# Step:7 Create object and place the best paramter\n",
    "rf_clf1 = RandomForestClassifier(**rf_best_params)\n",
    "\n",
    "# Step:8 Fitting the training data\n",
    "rf_clf1.fit(X_train,y_train)\n",
    "\n",
    "# Step:9 Prediction on test data\n",
    "rf_clf1_predict = rf_clf1.predict(X_test)"
   ]
  },
  {
   "cell_type": "markdown",
   "id": "8fd3ca6b",
   "metadata": {},
   "source": [
    "### EVALUATION"
   ]
  },
  {
   "cell_type": "code",
   "execution_count": 164,
   "id": "dbc4a7bd",
   "metadata": {},
   "outputs": [
    {
     "name": "stdout",
     "output_type": "stream",
     "text": [
      "Accuracy after hyperparameter tunning 80.55555555555556\n",
      "Classification report: \n",
      "               precision    recall  f1-score   support\n",
      "\n",
      "           0       0.92      0.81      0.86        27\n",
      "           1       0.58      0.78      0.67         9\n",
      "\n",
      "    accuracy                           0.81        36\n",
      "   macro avg       0.75      0.80      0.76        36\n",
      "weighted avg       0.83      0.81      0.81        36\n",
      "\n"
     ]
    }
   ],
   "source": [
    "rf_accuracy = accuracy_score(rf_clf1_predict,y_test)\n",
    "print(\"Accuracy after hyperparameter tunning\",rf_accuracy*100)\n",
    "print(\"Classification report: \\n\",classification_report(rf_clf1_predict,y_test))"
   ]
  },
  {
   "cell_type": "code",
   "execution_count": 165,
   "id": "0868e5f4",
   "metadata": {},
   "outputs": [
    {
     "name": "stdout",
     "output_type": "stream",
     "text": [
      "Recall score: 77.77777777777779\n"
     ]
    }
   ],
   "source": [
    "rf_recall_score = recall_score(rf_clf1_predict,y_test)\n",
    "print(\"Recall score:\",rf_recall_score*100)"
   ]
  },
  {
   "cell_type": "markdown",
   "id": "0e04b440",
   "metadata": {},
   "source": [
    "### 4.XGBClassifier"
   ]
  },
  {
   "cell_type": "code",
   "execution_count": 166,
   "id": "74357de0",
   "metadata": {},
   "outputs": [],
   "source": [
    "# Step:1 import library and object creation\n",
    "import xgboost\n",
    "from xgboost import XGBClassifier\n",
    "xgb = XGBClassifier()\n",
    "\n",
    "# Step:2 Fitting the training data\n",
    "xgb.fit(X_train,y_train)\n",
    "\n",
    "# Step:3 Prediction on training data\n",
    "xgb_train_predict = xgb.predict(X_train)\n",
    "\n",
    "# Step:4 Prediction on testing data\n",
    "xgb_test_predict = xgb.predict(X_test)"
   ]
  },
  {
   "cell_type": "markdown",
   "id": "06a0f399",
   "metadata": {},
   "source": [
    "### EVALUATION\n",
    "### TRAINING ACCURACY"
   ]
  },
  {
   "cell_type": "code",
   "execution_count": 167,
   "id": "eb7bc371",
   "metadata": {},
   "outputs": [
    {
     "name": "stdout",
     "output_type": "stream",
     "text": [
      "Training accuracy of xgb model 1.0\n",
      "Classifiaction report on training: \n",
      "               precision    recall  f1-score   support\n",
      "\n",
      "           0       1.00      1.00      1.00        76\n",
      "           1       1.00      1.00      1.00        68\n",
      "\n",
      "    accuracy                           1.00       144\n",
      "   macro avg       1.00      1.00      1.00       144\n",
      "weighted avg       1.00      1.00      1.00       144\n",
      "\n"
     ]
    }
   ],
   "source": [
    "xgb_train_accuracy = accuracy_score(xgb_train_predict,y_train)\n",
    "print(\"Training accuracy of xgb model\",xgb_train_accuracy)\n",
    "print(\"Classifiaction report on training: \\n\",classification_report(xgb_train_predict,y_train))"
   ]
  },
  {
   "cell_type": "markdown",
   "id": "8cee769d",
   "metadata": {},
   "source": [
    "### TESTING ACCURACY"
   ]
  },
  {
   "cell_type": "code",
   "execution_count": 168,
   "id": "eece6b95",
   "metadata": {},
   "outputs": [
    {
     "name": "stdout",
     "output_type": "stream",
     "text": [
      "Testing accuracy of xgb model 77.77777777777779\n",
      "Classification report on testing: \n",
      "               precision    recall  f1-score   support\n",
      "\n",
      "           0       0.88      0.81      0.84        26\n",
      "           1       0.58      0.70      0.64        10\n",
      "\n",
      "    accuracy                           0.78        36\n",
      "   macro avg       0.73      0.75      0.74        36\n",
      "weighted avg       0.79      0.78      0.78        36\n",
      "\n"
     ]
    }
   ],
   "source": [
    "xgb_test_accuracy = accuracy_score(xgb_test_predict,y_test)\n",
    "print(\"Testing accuracy of xgb model\",xgb_test_accuracy*100)\n",
    "print(\"Classification report on testing: \\n\",classification_report(xgb_test_predict,y_test))"
   ]
  },
  {
   "cell_type": "code",
   "execution_count": 169,
   "id": "68b4c798",
   "metadata": {},
   "outputs": [
    {
     "name": "stdout",
     "output_type": "stream",
     "text": [
      "Recall score: 70.0\n"
     ]
    }
   ],
   "source": [
    "xgb_recall_score = recall_score(xgb_test_predict,y_test)\n",
    "print(\"Recall score:\",xgb_recall_score*100)"
   ]
  },
  {
   "cell_type": "markdown",
   "id": "054bb388",
   "metadata": {},
   "source": [
    "### HYPERPARAMETER TUNNING OF XG BOOST"
   ]
  },
  {
   "cell_type": "code",
   "execution_count": 171,
   "id": "7194059f",
   "metadata": {},
   "outputs": [
    {
     "name": "stdout",
     "output_type": "stream",
     "text": [
      "Fitting 4 folds for each of 60 candidates, totalling 240 fits\n",
      "Best parameter: {'reg_lambda': 12.8, 'reg_alpha': 0.4, 'n_estimators': 115, 'max_depth': 9, 'learning_rate': 0.7, 'gamma': 0.1}\n"
     ]
    }
   ],
   "source": [
    "# Step:1 import library \n",
    "from sklearn.model_selection import RandomizedSearchCV\n",
    "param_grid = {'gamma': [0,0.1,0.2,0.4,0.8,1.6,3.2,6.4,12.8,25.6,51.2,102.4, 200],\n",
    "              'learning_rate': [0.001,0.01,0.1, 0.03, 0.06, 0.1, 0.15, 0.02, 0.25,0.003,0.0003, 0.3,0.04, 0.4, 0.5, 0.6, 0.7],\n",
    "              'max_depth': [5,6,7,8,9,10,11,12,13,14],\n",
    "              'n_estimators': [50,65,80,100,115,130,150],\n",
    "              'reg_alpha': [0,0.01,0.1,0.02,0.2,0.4,0.8,1.6,3.2,6.4,12.8,25.6,51.2,102.4,200],\n",
    "              'reg_lambda': [0,0.01,0.1,0.02,0.2,0.4,0.8,1.6,3.2,6.4,12.8,25.6,51.2,102.4,200]}\n",
    "\n",
    "# Step:2 Object creation with parameter\n",
    "XGB = XGBClassifier(random_state=42)\n",
    "\n",
    "# Step:3 Create randomized search cv with parameter\n",
    "rcv = RandomizedSearchCV(estimator=XGB,scoring='f1',param_distributions=param_grid,n_iter=60,\n",
    "                        cv=4,verbose=2,random_state=42,n_jobs=-1)\n",
    "\n",
    "#estimator--number of decision tree\n",
    "#scoring--->performance matrix to check performance\n",
    "#param_distribution-->hyperparametes(dictionary we created)\n",
    "#n_iter--->Number of parameter settings that are sampled. n_iter trades off runtime vs quality of the solution.default=10\n",
    "##cv------> number of flods\n",
    "#verbose=Controls the verbosity: the higher, the more messages.\n",
    "#n_jobs---->Number of jobs to run in parallel,-1 means using all processors.\n",
    "\n",
    "# Step:4 Fitting training data on randomized search cv\n",
    "rcv.fit(X_train,y_train)\n",
    "\n",
    "# Step:5 Get best parameters\n",
    "rcv_best_parameter = rcv.best_params_\n",
    "print(f\"Best parameter: {rcv_best_parameter}\")"
   ]
  },
  {
   "cell_type": "code",
   "execution_count": 172,
   "id": "80a78dbd",
   "metadata": {},
   "outputs": [],
   "source": [
    "# Step:6 Place the best parameter\n",
    "XGB2 = XGBClassifier(reg_lambda=12.8,reg_alpha=0.4,n_estimators=115,max_depth=9,learning_rate=0.7,gamma=0.1)\n",
    "\n",
    "# Step:7 Fitting the training data\n",
    "XGB2.fit(X_train,y_train)\n",
    "\n",
    "# Step:8 Prediction on testing data\n",
    "XGB_prediction = XGB2.predict(X_test)"
   ]
  },
  {
   "cell_type": "markdown",
   "id": "1f96ffa3",
   "metadata": {},
   "source": [
    "### EVALUATION"
   ]
  },
  {
   "cell_type": "code",
   "execution_count": 173,
   "id": "5cfba075",
   "metadata": {},
   "outputs": [
    {
     "name": "stdout",
     "output_type": "stream",
     "text": [
      "Accuracy score after hyperparameter tunning 83.33333333333334\n",
      "Classification report: \n",
      "               precision    recall  f1-score   support\n",
      "\n",
      "           0       0.96      0.82      0.88        28\n",
      "           1       0.58      0.88      0.70         8\n",
      "\n",
      "    accuracy                           0.83        36\n",
      "   macro avg       0.77      0.85      0.79        36\n",
      "weighted avg       0.88      0.83      0.84        36\n",
      "\n"
     ]
    }
   ],
   "source": [
    "XGB_accuracy = accuracy_score(XGB_prediction,y_test)\n",
    "print(\"Accuracy score after hyperparameter tunning\",XGB_accuracy*100)\n",
    "print(\"Classification report: \\n\",classification_report(XGB_prediction,y_test))"
   ]
  },
  {
   "cell_type": "code",
   "execution_count": 174,
   "id": "d12ed844",
   "metadata": {},
   "outputs": [
    {
     "name": "stdout",
     "output_type": "stream",
     "text": [
      "Recall Score 87.5\n"
     ]
    }
   ],
   "source": [
    "XGB_recall = recall_score(XGB_prediction,y_test)\n",
    "print(\"Recall Score\",XGB_recall*100)"
   ]
  },
  {
   "cell_type": "markdown",
   "id": "9fd7749c",
   "metadata": {},
   "source": [
    "### Model saving"
   ]
  },
  {
   "cell_type": "code",
   "execution_count": 175,
   "id": "bab8bd1e",
   "metadata": {},
   "outputs": [],
   "source": [
    "##Model saving using pickle\n",
    "import pickle\n",
    "file = open(\"Logistic_regression_model.pkl\",\"wb\")\n",
    "# Dump information to file\n",
    "pickle.dump(log_model,file)"
   ]
  },
  {
   "cell_type": "code",
   "execution_count": null,
   "id": "aad593b3",
   "metadata": {},
   "outputs": [],
   "source": []
  }
 ],
 "metadata": {
  "kernelspec": {
   "display_name": "Python 3 (ipykernel)",
   "language": "python",
   "name": "~ython3"
  },
  "language_info": {
   "codemirror_mode": {
    "name": "ipython",
    "version": 3
   },
   "file_extension": ".py",
   "mimetype": "text/x-python",
   "name": "python",
   "nbconvert_exporter": "python",
   "pygments_lexer": "ipython3",
   "version": "3.9.12"
  }
 },
 "nbformat": 4,
 "nbformat_minor": 5
}
