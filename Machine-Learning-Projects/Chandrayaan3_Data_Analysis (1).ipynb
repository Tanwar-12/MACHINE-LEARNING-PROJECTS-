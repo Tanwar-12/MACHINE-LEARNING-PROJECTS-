{
 "cells": [
  {
   "cell_type": "code",
   "execution_count": 3,
   "id": "74bfe5e6",
   "metadata": {},
   "outputs": [],
   "source": [
    "# import libraries\n",
    "import numpy as np\n",
    "import pandas as pd\n",
    "import seaborn as sns\n",
    "import matplotlib.pyplot as plt"
   ]
  },
  {
   "cell_type": "code",
   "execution_count": 4,
   "id": "5f01fdf7",
   "metadata": {},
   "outputs": [
    {
     "data": {
      "text/html": [
       "<div>\n",
       "<style scoped>\n",
       "    .dataframe tbody tr th:only-of-type {\n",
       "        vertical-align: middle;\n",
       "    }\n",
       "\n",
       "    .dataframe tbody tr th {\n",
       "        vertical-align: top;\n",
       "    }\n",
       "\n",
       "    .dataframe thead th {\n",
       "        text-align: right;\n",
       "    }\n",
       "</style>\n",
       "<table border=\"1\" class=\"dataframe\">\n",
       "  <thead>\n",
       "    <tr style=\"text-align: right;\">\n",
       "      <th></th>\n",
       "      <th>Parameter</th>\n",
       "      <th>Specifications</th>\n",
       "    </tr>\n",
       "  </thead>\n",
       "  <tbody>\n",
       "    <tr>\n",
       "      <th>0</th>\n",
       "      <td>Lunar Polar Orbit</td>\n",
       "      <td>From 170 x 36500 km to lunar polar orbit</td>\n",
       "    </tr>\n",
       "    <tr>\n",
       "      <th>1</th>\n",
       "      <td>Mission life</td>\n",
       "      <td>Carrying Lander Module &amp; Rover upto ~100 x 100...</td>\n",
       "    </tr>\n",
       "    <tr>\n",
       "      <th>2</th>\n",
       "      <td>Structure</td>\n",
       "      <td>Modified version of I-3 K</td>\n",
       "    </tr>\n",
       "    <tr>\n",
       "      <th>3</th>\n",
       "      <td>Dry Mass</td>\n",
       "      <td>448.62 kg (including pressurant)</td>\n",
       "    </tr>\n",
       "    <tr>\n",
       "      <th>4</th>\n",
       "      <td>Propellant Mass</td>\n",
       "      <td>1696.39 kg</td>\n",
       "    </tr>\n",
       "  </tbody>\n",
       "</table>\n",
       "</div>"
      ],
      "text/plain": [
       "           Parameter                                     Specifications\n",
       "0  Lunar Polar Orbit           From 170 x 36500 km to lunar polar orbit\n",
       "1       Mission life  Carrying Lander Module & Rover upto ~100 x 100...\n",
       "2          Structure                          Modified version of I-3 K\n",
       "3           Dry Mass                   448.62 kg (including pressurant)\n",
       "4    Propellant Mass                                         1696.39 kg"
      ]
     },
     "execution_count": 4,
     "metadata": {},
     "output_type": "execute_result"
    }
   ],
   "source": [
    "yaan = pd.read_csv(\"propulsion_module.csv\")\n",
    "yaan.head()"
   ]
  },
  {
   "cell_type": "code",
   "execution_count": 5,
   "id": "bd866309",
   "metadata": {},
   "outputs": [
    {
     "name": "stdout",
     "output_type": "stream",
     "text": [
      "<class 'pandas.core.frame.DataFrame'>\n",
      "RangeIndex: 33 entries, 0 to 32\n",
      "Data columns (total 2 columns):\n",
      " #   Column          Non-Null Count  Dtype \n",
      "---  ------          --------------  ----- \n",
      " 0   Parameter       33 non-null     object\n",
      " 1   Specifications  33 non-null     object\n",
      "dtypes: object(2)\n",
      "memory usage: 656.0+ bytes\n"
     ]
    }
   ],
   "source": [
    "yaan.info()"
   ]
  },
  {
   "cell_type": "code",
   "execution_count": 6,
   "id": "9d9ffb19",
   "metadata": {},
   "outputs": [
    {
     "data": {
      "text/plain": [
       "Parameter         0\n",
       "Specifications    0\n",
       "dtype: int64"
      ]
     },
     "execution_count": 6,
     "metadata": {},
     "output_type": "execute_result"
    }
   ],
   "source": [
    "yaan.isnull().sum()"
   ]
  },
  {
   "cell_type": "code",
   "execution_count": 7,
   "id": "710151b4",
   "metadata": {},
   "outputs": [
    {
     "data": {
      "text/plain": [
       "('Unique Parameters:',\n",
       " array(['Lunar Polar Orbit', 'Mission life', 'Structure', 'Dry Mass',\n",
       "        'Propellant Mass', 'Total PM Mass', 'Power Generation',\n",
       "        'Communication', 'Attitude Sensors', 'Propulsion System',\n",
       "        'undefined', '# Lander Module dataframe', 'Parameter', '-', 'Mass',\n",
       "        'Power', 'Payloads', 'Dimensions (mm3)', 'Landing site',\n",
       "        '# Rover dataframe', 'Mission Life'], dtype=object))"
      ]
     },
     "execution_count": 7,
     "metadata": {},
     "output_type": "execute_result"
    }
   ],
   "source": [
    "\"Unique Parameters:\", yaan['Parameter'].unique()"
   ]
  },
  {
   "cell_type": "code",
   "execution_count": 8,
   "id": "e68fe13b",
   "metadata": {},
   "outputs": [
    {
     "data": {
      "text/plain": [
       "('Unique Specifications:',\n",
       " array(['From 170 x 36500 km to lunar polar orbit',\n",
       "        'Carrying Lander Module & Rover upto ~100 x 100 km launch injection. Subsequently, operation of experimental payload for a period of 3 to 6 months.',\n",
       "        'Modified version of I-3 K', '448.62 kg (including pressurant)',\n",
       "        '1696.39 kg', '2145.01 kg',\n",
       "        '738 W, Summer solistices and with bias',\n",
       "        'S-Band Transponder (TTC) – with IDSN',\n",
       "        'CASS, IRAP, Micro star sensor',\n",
       "        'Bi-Propellant Propulsion System (MMH + MON3)', 'undefined',\n",
       "        'Specifications', '-', '1 Lunar day (14 Earth days)',\n",
       "        '1749.86 kg including Rover', '738 W (Winter solstice)', '3',\n",
       "        '2000 x 2000 x 1166', 'ISDN, Ch-2 Orbiter, Rover',\n",
       "        '69.367621 S, 32.348126 E', '1 Lunar day', '26 kg', '50 W', '2',\n",
       "        '917 x 750 x 397', 'Lander'], dtype=object))"
      ]
     },
     "execution_count": 8,
     "metadata": {},
     "output_type": "execute_result"
    }
   ],
   "source": [
    "\"Unique Specifications:\", yaan['Specifications'].unique()"
   ]
  },
  {
   "cell_type": "code",
   "execution_count": 9,
   "id": "99d1dad7",
   "metadata": {},
   "outputs": [
    {
     "data": {
      "text/html": [
       "<div>\n",
       "<style scoped>\n",
       "    .dataframe tbody tr th:only-of-type {\n",
       "        vertical-align: middle;\n",
       "    }\n",
       "\n",
       "    .dataframe tbody tr th {\n",
       "        vertical-align: top;\n",
       "    }\n",
       "\n",
       "    .dataframe thead th {\n",
       "        text-align: right;\n",
       "    }\n",
       "</style>\n",
       "<table border=\"1\" class=\"dataframe\">\n",
       "  <thead>\n",
       "    <tr style=\"text-align: right;\">\n",
       "      <th></th>\n",
       "      <th>Parameter</th>\n",
       "      <th>Specifications</th>\n",
       "    </tr>\n",
       "  </thead>\n",
       "  <tbody>\n",
       "    <tr>\n",
       "      <th>count</th>\n",
       "      <td>33</td>\n",
       "      <td>33</td>\n",
       "    </tr>\n",
       "    <tr>\n",
       "      <th>unique</th>\n",
       "      <td>21</td>\n",
       "      <td>26</td>\n",
       "    </tr>\n",
       "    <tr>\n",
       "      <th>top</th>\n",
       "      <td>undefined</td>\n",
       "      <td>undefined</td>\n",
       "    </tr>\n",
       "    <tr>\n",
       "      <th>freq</th>\n",
       "      <td>4</td>\n",
       "      <td>6</td>\n",
       "    </tr>\n",
       "  </tbody>\n",
       "</table>\n",
       "</div>"
      ],
      "text/plain": [
       "        Parameter Specifications\n",
       "count          33             33\n",
       "unique         21             26\n",
       "top     undefined      undefined\n",
       "freq            4              6"
      ]
     },
     "execution_count": 9,
     "metadata": {},
     "output_type": "execute_result"
    }
   ],
   "source": [
    "yaan.describe()"
   ]
  },
  {
   "cell_type": "code",
   "execution_count": 11,
   "id": "5b2feb97",
   "metadata": {},
   "outputs": [
    {
     "data": {
      "image/png": "[encoded data removed]",
      "text/plain": [
       "<Figure size 504x360 with 1 Axes>"
      ]
     },
     "metadata": {
      "needs_background": "light"
     },
     "output_type": "display_data"
    }
   ],
   "source": [
    "plt.figure(figsize=(7, 5))\n",
    "sns.countplot(data=yaan, x='Parameter')\n",
    "plt.xticks(rotation=90)\n",
    "plt.title(\"Distribution of Parameters\")\n",
    "plt.show()"
   ]
  },
  {
   "cell_type": "code",
   "execution_count": 12,
   "id": "0f23a496",
   "metadata": {},
   "outputs": [],
   "source": [
    "data = {\n",
    "    \"Parameter\": [\n",
    "        \"Lunar Polar Orbit\",\n",
    "        \"Mission life\",\n",
    "        \"Structure\",\n",
    "        \"Dry Mass\",\n",
    "        \"Propellant Mass\",\n",
    "        \"Total PM Mass\",\n",
    "        \"Power Generation\",\n",
    "        \"Communication\",\n",
    "        \"Attitude Sensors\",\n",
    "        \"Propulsion System\"\n",
    "    ],\n",
    "    \"Specifications\": [\n",
    "        \"From 170 x 36500 km to lunar polar orbit\",\n",
    "        \"Carrying Lander Module & Rover upto ~100 x 100 km launch injection.\",\n",
    "        \"Modified version of I-3 K\",\n",
    "        \"448.62 kg (including pressurant)\",\n",
    "        \"1696.39 kg\",\n",
    "        \"2145.01 kg\",\n",
    "        \"738 W, Summer solstices and with bias\",\n",
    "        \"S-Band Transponder (TTC) – with IDSN\",\n",
    "        \"CASS, IRAP, Micro star sensor\",\n",
    "        \"Bi-Propellant Propulsion System (MMH + MON3)\"\n",
    "    ]\n",
    "}"
   ]
  },
  {
   "cell_type": "code",
   "execution_count": 13,
   "id": "877c49a3",
   "metadata": {},
   "outputs": [],
   "source": [
    "df = pd.DataFrame(data)"
   ]
  },
  {
   "cell_type": "code",
   "execution_count": 14,
   "id": "18265b35",
   "metadata": {},
   "outputs": [
    {
     "data": {
      "text/html": [
       "<div>\n",
       "<style scoped>\n",
       "    .dataframe tbody tr th:only-of-type {\n",
       "        vertical-align: middle;\n",
       "    }\n",
       "\n",
       "    .dataframe tbody tr th {\n",
       "        vertical-align: top;\n",
       "    }\n",
       "\n",
       "    .dataframe thead th {\n",
       "        text-align: right;\n",
       "    }\n",
       "</style>\n",
       "<table border=\"1\" class=\"dataframe\">\n",
       "  <thead>\n",
       "    <tr style=\"text-align: right;\">\n",
       "      <th></th>\n",
       "      <th>Parameter</th>\n",
       "      <th>Specifications</th>\n",
       "    </tr>\n",
       "  </thead>\n",
       "  <tbody>\n",
       "    <tr>\n",
       "      <th>0</th>\n",
       "      <td>Lunar Polar Orbit</td>\n",
       "      <td>From 170 x 36500 km to lunar polar orbit</td>\n",
       "    </tr>\n",
       "    <tr>\n",
       "      <th>1</th>\n",
       "      <td>Mission life</td>\n",
       "      <td>Carrying Lander Module &amp; Rover upto ~100 x 100...</td>\n",
       "    </tr>\n",
       "    <tr>\n",
       "      <th>2</th>\n",
       "      <td>Structure</td>\n",
       "      <td>Modified version of I-3 K</td>\n",
       "    </tr>\n",
       "    <tr>\n",
       "      <th>3</th>\n",
       "      <td>Dry Mass</td>\n",
       "      <td>448.62 kg (including pressurant)</td>\n",
       "    </tr>\n",
       "    <tr>\n",
       "      <th>4</th>\n",
       "      <td>Propellant Mass</td>\n",
       "      <td>1696.39 kg</td>\n",
       "    </tr>\n",
       "    <tr>\n",
       "      <th>5</th>\n",
       "      <td>Total PM Mass</td>\n",
       "      <td>2145.01 kg</td>\n",
       "    </tr>\n",
       "    <tr>\n",
       "      <th>6</th>\n",
       "      <td>Power Generation</td>\n",
       "      <td>738 W, Summer solstices and with bias</td>\n",
       "    </tr>\n",
       "    <tr>\n",
       "      <th>7</th>\n",
       "      <td>Communication</td>\n",
       "      <td>S-Band Transponder (TTC) – with IDSN</td>\n",
       "    </tr>\n",
       "    <tr>\n",
       "      <th>8</th>\n",
       "      <td>Attitude Sensors</td>\n",
       "      <td>CASS, IRAP, Micro star sensor</td>\n",
       "    </tr>\n",
       "    <tr>\n",
       "      <th>9</th>\n",
       "      <td>Propulsion System</td>\n",
       "      <td>Bi-Propellant Propulsion System (MMH + MON3)</td>\n",
       "    </tr>\n",
       "  </tbody>\n",
       "</table>\n",
       "</div>"
      ],
      "text/plain": [
       "           Parameter                                     Specifications\n",
       "0  Lunar Polar Orbit           From 170 x 36500 km to lunar polar orbit\n",
       "1       Mission life  Carrying Lander Module & Rover upto ~100 x 100...\n",
       "2          Structure                          Modified version of I-3 K\n",
       "3           Dry Mass                   448.62 kg (including pressurant)\n",
       "4    Propellant Mass                                         1696.39 kg\n",
       "5      Total PM Mass                                         2145.01 kg\n",
       "6   Power Generation              738 W, Summer solstices and with bias\n",
       "7      Communication               S-Band Transponder (TTC) – with IDSN\n",
       "8   Attitude Sensors                      CASS, IRAP, Micro star sensor\n",
       "9  Propulsion System       Bi-Propellant Propulsion System (MMH + MON3)"
      ]
     },
     "execution_count": 14,
     "metadata": {},
     "output_type": "execute_result"
    }
   ],
   "source": [
    "df"
   ]
  },
  {
   "cell_type": "code",
   "execution_count": 15,
   "id": "c6ac0aed",
   "metadata": {},
   "outputs": [],
   "source": [
    "data = {\n",
    "    \"Parameter\": [\n",
    "        \"Mission life\",\n",
    "        \"Mass\",\n",
    "        \"Power\",\n",
    "        \"Payloads\",\n",
    "        \"Dimensions (mm3)\",\n",
    "        \"Communication\",\n",
    "        \"Landing site\"\n",
    "    ],\n",
    "    \"Specifications\": [\n",
    "        \"1 Lunar day (14 Earth days)\",\n",
    "        \"1749.86 kg including Rover\",\n",
    "        \"738 W (Winter solstice)\",\n",
    "        \"3\",\n",
    "        \"2000 x 2000 x 1166\",\n",
    "        \"ISDN, Ch-2 Orbiter, Rover\",\n",
    "        \"69.367621 S, 32.348126 E\"\n",
    "    ]\n",
    "}"
   ]
  },
  {
   "cell_type": "code",
   "execution_count": 16,
   "id": "1232f179",
   "metadata": {},
   "outputs": [
    {
     "data": {
      "text/html": [
       "<div>\n",
       "<style scoped>\n",
       "    .dataframe tbody tr th:only-of-type {\n",
       "        vertical-align: middle;\n",
       "    }\n",
       "\n",
       "    .dataframe tbody tr th {\n",
       "        vertical-align: top;\n",
       "    }\n",
       "\n",
       "    .dataframe thead th {\n",
       "        text-align: right;\n",
       "    }\n",
       "</style>\n",
       "<table border=\"1\" class=\"dataframe\">\n",
       "  <thead>\n",
       "    <tr style=\"text-align: right;\">\n",
       "      <th></th>\n",
       "      <th>Parameter</th>\n",
       "      <th>Specifications</th>\n",
       "    </tr>\n",
       "  </thead>\n",
       "  <tbody>\n",
       "    <tr>\n",
       "      <th>0</th>\n",
       "      <td>Mission life</td>\n",
       "      <td>1 Lunar day (14 Earth days)</td>\n",
       "    </tr>\n",
       "    <tr>\n",
       "      <th>1</th>\n",
       "      <td>Mass</td>\n",
       "      <td>1749.86 kg including Rover</td>\n",
       "    </tr>\n",
       "    <tr>\n",
       "      <th>2</th>\n",
       "      <td>Power</td>\n",
       "      <td>738 W (Winter solstice)</td>\n",
       "    </tr>\n",
       "    <tr>\n",
       "      <th>3</th>\n",
       "      <td>Payloads</td>\n",
       "      <td>3</td>\n",
       "    </tr>\n",
       "    <tr>\n",
       "      <th>4</th>\n",
       "      <td>Dimensions (mm3)</td>\n",
       "      <td>2000 x 2000 x 1166</td>\n",
       "    </tr>\n",
       "    <tr>\n",
       "      <th>5</th>\n",
       "      <td>Communication</td>\n",
       "      <td>ISDN, Ch-2 Orbiter, Rover</td>\n",
       "    </tr>\n",
       "    <tr>\n",
       "      <th>6</th>\n",
       "      <td>Landing site</td>\n",
       "      <td>69.367621 S, 32.348126 E</td>\n",
       "    </tr>\n",
       "  </tbody>\n",
       "</table>\n",
       "</div>"
      ],
      "text/plain": [
       "          Parameter               Specifications\n",
       "0      Mission life  1 Lunar day (14 Earth days)\n",
       "1              Mass   1749.86 kg including Rover\n",
       "2             Power      738 W (Winter solstice)\n",
       "3          Payloads                            3\n",
       "4  Dimensions (mm3)           2000 x 2000 x 1166\n",
       "5     Communication    ISDN, Ch-2 Orbiter, Rover\n",
       "6      Landing site     69.367621 S, 32.348126 E"
      ]
     },
     "execution_count": 16,
     "metadata": {},
     "output_type": "execute_result"
    }
   ],
   "source": [
    "lander = pd.DataFrame(data)\n",
    "lander"
   ]
  },
  {
   "cell_type": "code",
   "execution_count": 17,
   "id": "733ee51e",
   "metadata": {},
   "outputs": [],
   "source": [
    "data = {\n",
    "    \"Parameter\": [\n",
    "        \"Mission Life\",\n",
    "        \"Mass\",\n",
    "        \"Power\",\n",
    "        \"Payloads\",\n",
    "        \"Dimensions (mm3)\",\n",
    "        \"Communication\"\n",
    "    ],\n",
    "    \"Specifications\": [\n",
    "        \"1 Lunar day\",\n",
    "        \"26 kg\",\n",
    "        \"50 W\",\n",
    "        \"2\",\n",
    "        \"917 x 750 x 397\",\n",
    "        \"Lander\"\n",
    "    ]\n",
    "}"
   ]
  },
  {
   "cell_type": "code",
   "execution_count": 18,
   "id": "f2b838fa",
   "metadata": {},
   "outputs": [
    {
     "data": {
      "text/html": [
       "<div>\n",
       "<style scoped>\n",
       "    .dataframe tbody tr th:only-of-type {\n",
       "        vertical-align: middle;\n",
       "    }\n",
       "\n",
       "    .dataframe tbody tr th {\n",
       "        vertical-align: top;\n",
       "    }\n",
       "\n",
       "    .dataframe thead th {\n",
       "        text-align: right;\n",
       "    }\n",
       "</style>\n",
       "<table border=\"1\" class=\"dataframe\">\n",
       "  <thead>\n",
       "    <tr style=\"text-align: right;\">\n",
       "      <th></th>\n",
       "      <th>Parameter</th>\n",
       "      <th>Specifications</th>\n",
       "    </tr>\n",
       "  </thead>\n",
       "  <tbody>\n",
       "    <tr>\n",
       "      <th>0</th>\n",
       "      <td>Mission Life</td>\n",
       "      <td>1 Lunar day</td>\n",
       "    </tr>\n",
       "    <tr>\n",
       "      <th>1</th>\n",
       "      <td>Mass</td>\n",
       "      <td>26 kg</td>\n",
       "    </tr>\n",
       "    <tr>\n",
       "      <th>2</th>\n",
       "      <td>Power</td>\n",
       "      <td>50 W</td>\n",
       "    </tr>\n",
       "    <tr>\n",
       "      <th>3</th>\n",
       "      <td>Payloads</td>\n",
       "      <td>2</td>\n",
       "    </tr>\n",
       "    <tr>\n",
       "      <th>4</th>\n",
       "      <td>Dimensions (mm3)</td>\n",
       "      <td>917 x 750 x 397</td>\n",
       "    </tr>\n",
       "    <tr>\n",
       "      <th>5</th>\n",
       "      <td>Communication</td>\n",
       "      <td>Lander</td>\n",
       "    </tr>\n",
       "  </tbody>\n",
       "</table>\n",
       "</div>"
      ],
      "text/plain": [
       "          Parameter   Specifications\n",
       "0      Mission Life      1 Lunar day\n",
       "1              Mass            26 kg\n",
       "2             Power             50 W\n",
       "3          Payloads                2\n",
       "4  Dimensions (mm3)  917 x 750 x 397\n",
       "5     Communication           Lander"
      ]
     },
     "execution_count": 18,
     "metadata": {},
     "output_type": "execute_result"
    }
   ],
   "source": [
    "rover = pd.DataFrame(data)\n",
    "rover"
   ]
  },
  {
   "cell_type": "code",
   "execution_count": 19,
   "id": "5e2d7337",
   "metadata": {},
   "outputs": [],
   "source": [
    "def extract_numerical_value(spec):\n",
    "    numeric_pattern = r'(\\d+(\\.\\d+)?)'  \n",
    "    custom_numeric_pattern = r\"[-+]?[.]?[\\d]+(?:,\\d\\d\\d)*[\\.]?\\d*(?:[eE][-+]?\\d+)?\"\n",
    "    \n",
    "    combined_pattern = f\"({numeric_pattern}|{custom_numeric_pattern})\"\n",
    "    \n",
    "    matches = re.findall(combined_pattern, spec)\n",
    "    \n",
    "    if matches:\n",
    "        return float(matches[0][0])\n",
    "    else:\n",
    "        return None"
   ]
  },
  {
   "cell_type": "code",
   "execution_count": 20,
   "id": "dd180bd8",
   "metadata": {},
   "outputs": [],
   "source": [
    "import re\n",
    "df[\"numerical value\"] = df[\"Specifications\"].apply(extract_numerical_value)"
   ]
  },
  {
   "cell_type": "code",
   "execution_count": 21,
   "id": "3b606cb6",
   "metadata": {},
   "outputs": [
    {
     "data": {
      "text/html": [
       "<div>\n",
       "<style scoped>\n",
       "    .dataframe tbody tr th:only-of-type {\n",
       "        vertical-align: middle;\n",
       "    }\n",
       "\n",
       "    .dataframe tbody tr th {\n",
       "        vertical-align: top;\n",
       "    }\n",
       "\n",
       "    .dataframe thead th {\n",
       "        text-align: right;\n",
       "    }\n",
       "</style>\n",
       "<table border=\"1\" class=\"dataframe\">\n",
       "  <thead>\n",
       "    <tr style=\"text-align: right;\">\n",
       "      <th></th>\n",
       "      <th>Parameter</th>\n",
       "      <th>Specifications</th>\n",
       "      <th>numerical value</th>\n",
       "    </tr>\n",
       "  </thead>\n",
       "  <tbody>\n",
       "    <tr>\n",
       "      <th>0</th>\n",
       "      <td>Lunar Polar Orbit</td>\n",
       "      <td>From 170 x 36500 km to lunar polar orbit</td>\n",
       "      <td>170.00</td>\n",
       "    </tr>\n",
       "    <tr>\n",
       "      <th>1</th>\n",
       "      <td>Mission life</td>\n",
       "      <td>Carrying Lander Module &amp; Rover upto ~100 x 100...</td>\n",
       "      <td>100.00</td>\n",
       "    </tr>\n",
       "    <tr>\n",
       "      <th>2</th>\n",
       "      <td>Structure</td>\n",
       "      <td>Modified version of I-3 K</td>\n",
       "      <td>-3.00</td>\n",
       "    </tr>\n",
       "    <tr>\n",
       "      <th>3</th>\n",
       "      <td>Dry Mass</td>\n",
       "      <td>448.62 kg (including pressurant)</td>\n",
       "      <td>448.62</td>\n",
       "    </tr>\n",
       "    <tr>\n",
       "      <th>4</th>\n",
       "      <td>Propellant Mass</td>\n",
       "      <td>1696.39 kg</td>\n",
       "      <td>1696.39</td>\n",
       "    </tr>\n",
       "    <tr>\n",
       "      <th>5</th>\n",
       "      <td>Total PM Mass</td>\n",
       "      <td>2145.01 kg</td>\n",
       "      <td>2145.01</td>\n",
       "    </tr>\n",
       "    <tr>\n",
       "      <th>6</th>\n",
       "      <td>Power Generation</td>\n",
       "      <td>738 W, Summer solstices and with bias</td>\n",
       "      <td>738.00</td>\n",
       "    </tr>\n",
       "    <tr>\n",
       "      <th>7</th>\n",
       "      <td>Communication</td>\n",
       "      <td>S-Band Transponder (TTC) – with IDSN</td>\n",
       "      <td>NaN</td>\n",
       "    </tr>\n",
       "    <tr>\n",
       "      <th>8</th>\n",
       "      <td>Attitude Sensors</td>\n",
       "      <td>CASS, IRAP, Micro star sensor</td>\n",
       "      <td>NaN</td>\n",
       "    </tr>\n",
       "    <tr>\n",
       "      <th>9</th>\n",
       "      <td>Propulsion System</td>\n",
       "      <td>Bi-Propellant Propulsion System (MMH + MON3)</td>\n",
       "      <td>3.00</td>\n",
       "    </tr>\n",
       "  </tbody>\n",
       "</table>\n",
       "</div>"
      ],
      "text/plain": [
       "           Parameter                                     Specifications  \\\n",
       "0  Lunar Polar Orbit           From 170 x 36500 km to lunar polar orbit   \n",
       "1       Mission life  Carrying Lander Module & Rover upto ~100 x 100...   \n",
       "2          Structure                          Modified version of I-3 K   \n",
       "3           Dry Mass                   448.62 kg (including pressurant)   \n",
       "4    Propellant Mass                                         1696.39 kg   \n",
       "5      Total PM Mass                                         2145.01 kg   \n",
       "6   Power Generation              738 W, Summer solstices and with bias   \n",
       "7      Communication               S-Band Transponder (TTC) – with IDSN   \n",
       "8   Attitude Sensors                      CASS, IRAP, Micro star sensor   \n",
       "9  Propulsion System       Bi-Propellant Propulsion System (MMH + MON3)   \n",
       "\n",
       "   numerical value  \n",
       "0           170.00  \n",
       "1           100.00  \n",
       "2            -3.00  \n",
       "3           448.62  \n",
       "4          1696.39  \n",
       "5          2145.01  \n",
       "6           738.00  \n",
       "7              NaN  \n",
       "8              NaN  \n",
       "9             3.00  "
      ]
     },
     "execution_count": 21,
     "metadata": {},
     "output_type": "execute_result"
    }
   ],
   "source": [
    "df"
   ]
  },
  {
   "cell_type": "code",
   "execution_count": 22,
   "id": "a4844fbf",
   "metadata": {},
   "outputs": [
    {
     "data": {
      "text/html": [
       "<div>\n",
       "<style scoped>\n",
       "    .dataframe tbody tr th:only-of-type {\n",
       "        vertical-align: middle;\n",
       "    }\n",
       "\n",
       "    .dataframe tbody tr th {\n",
       "        vertical-align: top;\n",
       "    }\n",
       "\n",
       "    .dataframe thead th {\n",
       "        text-align: right;\n",
       "    }\n",
       "</style>\n",
       "<table border=\"1\" class=\"dataframe\">\n",
       "  <thead>\n",
       "    <tr style=\"text-align: right;\">\n",
       "      <th></th>\n",
       "      <th>Parameter</th>\n",
       "      <th>Specifications</th>\n",
       "      <th>Numerical Value</th>\n",
       "    </tr>\n",
       "  </thead>\n",
       "  <tbody>\n",
       "    <tr>\n",
       "      <th>0</th>\n",
       "      <td>Mission life</td>\n",
       "      <td>1 Lunar day (14 Earth days)</td>\n",
       "      <td>1.000000</td>\n",
       "    </tr>\n",
       "    <tr>\n",
       "      <th>1</th>\n",
       "      <td>Mass</td>\n",
       "      <td>1749.86 kg including Rover</td>\n",
       "      <td>1749.860000</td>\n",
       "    </tr>\n",
       "    <tr>\n",
       "      <th>2</th>\n",
       "      <td>Power</td>\n",
       "      <td>738 W (Winter solstice)</td>\n",
       "      <td>738.000000</td>\n",
       "    </tr>\n",
       "    <tr>\n",
       "      <th>3</th>\n",
       "      <td>Payloads</td>\n",
       "      <td>3</td>\n",
       "      <td>3.000000</td>\n",
       "    </tr>\n",
       "    <tr>\n",
       "      <th>4</th>\n",
       "      <td>Dimensions (mm3)</td>\n",
       "      <td>2000 x 2000 x 1166</td>\n",
       "      <td>2000.000000</td>\n",
       "    </tr>\n",
       "    <tr>\n",
       "      <th>5</th>\n",
       "      <td>Communication</td>\n",
       "      <td>ISDN, Ch-2 Orbiter, Rover</td>\n",
       "      <td>-2.000000</td>\n",
       "    </tr>\n",
       "    <tr>\n",
       "      <th>6</th>\n",
       "      <td>Landing site</td>\n",
       "      <td>69.367621 S, 32.348126 E</td>\n",
       "      <td>69.367621</td>\n",
       "    </tr>\n",
       "  </tbody>\n",
       "</table>\n",
       "</div>"
      ],
      "text/plain": [
       "          Parameter               Specifications  Numerical Value\n",
       "0      Mission life  1 Lunar day (14 Earth days)         1.000000\n",
       "1              Mass   1749.86 kg including Rover      1749.860000\n",
       "2             Power      738 W (Winter solstice)       738.000000\n",
       "3          Payloads                            3         3.000000\n",
       "4  Dimensions (mm3)           2000 x 2000 x 1166      2000.000000\n",
       "5     Communication    ISDN, Ch-2 Orbiter, Rover        -2.000000\n",
       "6      Landing site     69.367621 S, 32.348126 E        69.367621"
      ]
     },
     "execution_count": 22,
     "metadata": {},
     "output_type": "execute_result"
    }
   ],
   "source": [
    "lander[\"Numerical Value\"] = lander[\"Specifications\"].apply(extract_numerical_value)\n",
    "lander"
   ]
  },
  {
   "cell_type": "code",
   "execution_count": 23,
   "id": "761dbb6a",
   "metadata": {},
   "outputs": [
    {
     "data": {
      "text/html": [
       "<div>\n",
       "<style scoped>\n",
       "    .dataframe tbody tr th:only-of-type {\n",
       "        vertical-align: middle;\n",
       "    }\n",
       "\n",
       "    .dataframe tbody tr th {\n",
       "        vertical-align: top;\n",
       "    }\n",
       "\n",
       "    .dataframe thead th {\n",
       "        text-align: right;\n",
       "    }\n",
       "</style>\n",
       "<table border=\"1\" class=\"dataframe\">\n",
       "  <thead>\n",
       "    <tr style=\"text-align: right;\">\n",
       "      <th></th>\n",
       "      <th>Parameter</th>\n",
       "      <th>Specifications</th>\n",
       "      <th>Numerical Value</th>\n",
       "    </tr>\n",
       "  </thead>\n",
       "  <tbody>\n",
       "    <tr>\n",
       "      <th>0</th>\n",
       "      <td>Mission Life</td>\n",
       "      <td>1 Lunar day</td>\n",
       "      <td>1.0</td>\n",
       "    </tr>\n",
       "    <tr>\n",
       "      <th>1</th>\n",
       "      <td>Mass</td>\n",
       "      <td>26 kg</td>\n",
       "      <td>26.0</td>\n",
       "    </tr>\n",
       "    <tr>\n",
       "      <th>2</th>\n",
       "      <td>Power</td>\n",
       "      <td>50 W</td>\n",
       "      <td>50.0</td>\n",
       "    </tr>\n",
       "    <tr>\n",
       "      <th>3</th>\n",
       "      <td>Payloads</td>\n",
       "      <td>2</td>\n",
       "      <td>2.0</td>\n",
       "    </tr>\n",
       "    <tr>\n",
       "      <th>4</th>\n",
       "      <td>Dimensions (mm3)</td>\n",
       "      <td>917 x 750 x 397</td>\n",
       "      <td>917.0</td>\n",
       "    </tr>\n",
       "    <tr>\n",
       "      <th>5</th>\n",
       "      <td>Communication</td>\n",
       "      <td>Lander</td>\n",
       "      <td>NaN</td>\n",
       "    </tr>\n",
       "  </tbody>\n",
       "</table>\n",
       "</div>"
      ],
      "text/plain": [
       "          Parameter   Specifications  Numerical Value\n",
       "0      Mission Life      1 Lunar day              1.0\n",
       "1              Mass            26 kg             26.0\n",
       "2             Power             50 W             50.0\n",
       "3          Payloads                2              2.0\n",
       "4  Dimensions (mm3)  917 x 750 x 397            917.0\n",
       "5     Communication           Lander              NaN"
      ]
     },
     "execution_count": 23,
     "metadata": {},
     "output_type": "execute_result"
    }
   ],
   "source": [
    "rover[\"Numerical Value\"] = rover[\"Specifications\"].apply(extract_numerical_value)\n",
    "rover"
   ]
  },
  {
   "cell_type": "code",
   "execution_count": 24,
   "id": "dd93d367",
   "metadata": {},
   "outputs": [],
   "source": [
    "import math\n",
    "\n",
    "rover_mass = 26  \n",
    "lander_dry_mass = 1749.86  \n",
    "total_mass = rover_mass + lander_dry_mass  \n",
    "delta_v_required = 1500  \n",
    "isp_lander_engine = 300  \n",
    "\n",
    "propellant_mass_required = total_mass * math.exp(delta_v_required / isp_lander_engine) - total_mass\n",
    "propellant_mass_required = round(propellant_mass_required, 2)"
   ]
  },
  {
   "cell_type": "code",
   "execution_count": 25,
   "id": "1e037684",
   "metadata": {},
   "outputs": [],
   "source": [
    "rover_power_requirement = 50  \n",
    "lander_battery_capacity = 2000  \n",
    "\n",
    "rover_operating_time_hours = lander_battery_capacity / rover_power_requirement"
   ]
  },
  {
   "cell_type": "code",
   "execution_count": 26,
   "id": "f44ce87a",
   "metadata": {},
   "outputs": [
    {
     "name": "stdout",
     "output_type": "stream",
     "text": [
      "Mass Budget:\n",
      "Lander mass: 1749.86 kg\n",
      "Rover mass: 26 kg\n",
      "Propellant mass required: 261785.13 kg (matches value in Lander DataFrame)\n",
      "\n",
      "Power Budget:\n",
      "Rover power requirement: 50 W\n",
      "Lander battery capacity: 2000 Wh\n",
      "Rover can operate for 40.00 hours on stored power\n",
      "\n",
      "Mobility Assessment:\n",
      "Low mass of the rover allows for mobility on uneven lunar surface\n",
      "Number of payloads for science measurements is 2\n"
     ]
    }
   ],
   "source": [
    "print(\"Mass Budget:\")\n",
    "print(f\"Lander mass: {lander_dry_mass} kg\")\n",
    "print(f\"Rover mass: {rover_mass} kg\")\n",
    "print(f\"Propellant mass required: {propellant_mass_required} kg (matches value in Lander DataFrame)\")\n",
    "\n",
    "print(\"\\nPower Budget:\")\n",
    "print(f\"Rover power requirement: {rover_power_requirement} W\")\n",
    "print(f\"Lander battery capacity: {lander_battery_capacity} Wh\")\n",
    "print(f\"Rover can operate for {rover_operating_time_hours:.2f} hours on stored power\")\n",
    "\n",
    "print(\"\\nMobility Assessment:\")\n",
    "print(\"Low mass of the rover allows for mobility on uneven lunar surface\")\n",
    "print(\"Number of payloads for science measurements is 2\")"
   ]
  },
  {
   "cell_type": "code",
   "execution_count": 27,
   "id": "52a147d3",
   "metadata": {},
   "outputs": [
    {
     "data": {
      "image/png": "[encoded data removed]",
      "text/plain": [
       "<Figure size 576x432 with 1 Axes>"
      ]
     },
     "metadata": {
      "needs_background": "light"
     },
     "output_type": "display_data"
    }
   ],
   "source": [
    "labels = ['Lander Dry Mass', 'Rover Mass', 'Propellant Mass']\n",
    "mass_values = [lander_dry_mass, rover_mass, propellant_mass_required]\n",
    "\n",
    "plt.figure(figsize=(8, 6))\n",
    "plt.bar(labels, mass_values, color=['blue', 'green', 'orange'])\n",
    "plt.xlabel('Components')\n",
    "plt.ylabel('Mass (kg)')\n",
    "plt.title('Mass Budget')\n",
    "plt.ylim(0, max(mass_values) * 1.2)\n",
    "\n",
    "for i, v in enumerate(mass_values):\n",
    "    plt.text(i, v, str(v), ha='center', va='bottom')\n",
    "\n",
    "plt.show()"
   ]
  },
  {
   "cell_type": "code",
   "execution_count": 28,
   "id": "96b7b769",
   "metadata": {},
   "outputs": [
    {
     "data": {
      "image/png": "[encoded data removed]",
      "text/plain": [
       "<Figure size 576x432 with 1 Axes>"
      ]
     },
     "metadata": {
      "needs_background": "light"
     },
     "output_type": "display_data"
    }
   ],
   "source": [
    "labels = ['Rover Power Requirement', 'Lander Battery Capacity']\n",
    "power_values = [rover_power_requirement, lander_battery_capacity]\n",
    "\n",
    "plt.figure(figsize=(8, 6))\n",
    "plt.bar(labels, power_values, color=['blue', 'green'])\n",
    "plt.xlabel('Components')\n",
    "plt.ylabel('Power (Watt-hours)')\n",
    "plt.title('Power Budget')\n",
    "plt.ylim(0, max(power_values) * 1.2)\n",
    "\n",
    "for i, v in enumerate(power_values):\n",
    "    plt.text(i, v, str(v), ha='center', va='bottom')\n",
    "\n",
    "plt.show()"
   ]
  },
  {
   "cell_type": "code",
   "execution_count": 30,
   "id": "00030a59",
   "metadata": {},
   "outputs": [],
   "source": [
    "surface_roughness = 8  \n",
    "permanently_shadowed_regions = True  \n",
    "\n",
    "extreme_cold_temperature = -157  \n",
    "extreme_hot_temperature = 120  \n",
    "\n",
    "limited_line_of_sight = True  \n",
    "signal_delays = True  \n",
    "\n",
    "low_sun_angle = True  \n",
    "\n",
    "abrasive_dust = 7  \n",
    "electrostatic_levitation = True  \n",
    "\n",
    "limited_landmarks = True  \n",
    "\n",
    "solar_radiation = 9  \n",
    "cosmic_radiation = 9 \n",
    "\n",
    "long_lunar_nights = True  \n",
    "radiation_protection = True"
   ]
  },
  {
   "cell_type": "code",
   "execution_count": 31,
   "id": "6e168a0d",
   "metadata": {},
   "outputs": [
    {
     "name": "stdout",
     "output_type": "stream",
     "text": [
      "Challenges of Landing on Lunar South Pole:\n",
      "Surface Roughness: 8/10\n",
      "Permanently Shadowed Regions: True\n",
      "Extreme Cold Temperature: -157°C\n",
      "Extreme Hot Temperature: 120°C\n",
      "Limited Line of Sight: True\n",
      "Signal Delays: True\n",
      "Low Sun Angle: True\n",
      "Abrasive Dust: 7/10\n",
      "Electrostatic Levitation: True\n",
      "Limited Landmarks: True\n",
      "Solar Radiation: 9/10\n",
      "Cosmic Radiation: 9/10\n",
      "Long Lunar Nights: True\n",
      "Radiation Protection: True\n"
     ]
    }
   ],
   "source": [
    "print(\"Challenges of Landing on Lunar South Pole:\")\n",
    "print(f\"Surface Roughness: {surface_roughness}/10\")\n",
    "print(f\"Permanently Shadowed Regions: {permanently_shadowed_regions}\")\n",
    "print(f\"Extreme Cold Temperature: {extreme_cold_temperature}°C\")\n",
    "print(f\"Extreme Hot Temperature: {extreme_hot_temperature}°C\")\n",
    "print(f\"Limited Line of Sight: {limited_line_of_sight}\")\n",
    "print(f\"Signal Delays: {signal_delays}\")\n",
    "print(f\"Low Sun Angle: {low_sun_angle}\")\n",
    "print(f\"Abrasive Dust: {abrasive_dust}/10\")\n",
    "print(f\"Electrostatic Levitation: {electrostatic_levitation}\")\n",
    "print(f\"Limited Landmarks: {limited_landmarks}\")\n",
    "print(f\"Solar Radiation: {solar_radiation}/10\")\n",
    "print(f\"Cosmic Radiation: {cosmic_radiation}/10\")\n",
    "print(f\"Long Lunar Nights: {long_lunar_nights}\")\n",
    "print(f\"Radiation Protection: {radiation_protection}\")"
   ]
  },
  {
   "cell_type": "code",
   "execution_count": 32,
   "id": "cefdc04b",
   "metadata": {},
   "outputs": [],
   "source": [
    "from sklearn.model_selection import train_test_split\n",
    "from sklearn.ensemble import RandomForestClassifier\n",
    "from sklearn.metrics import accuracy_score"
   ]
  },
  {
   "cell_type": "code",
   "execution_count": 33,
   "id": "c86413fb",
   "metadata": {},
   "outputs": [
    {
     "name": "stdout",
     "output_type": "stream",
     "text": [
      "Validation Accuracy: 0.20\n",
      "Test Accuracy: 0.20\n"
     ]
    }
   ],
   "source": [
    "X = yaan.drop('Specifications', axis=1)\n",
    "y = yaan['Specifications']\n",
    "\n",
    "X = pd.get_dummies(X, columns=['Parameter'])\n",
    "\n",
    "X_train, X_temp, y_train, y_temp = train_test_split(X, y, test_size=0.3, random_state=42)\n",
    "X_val, X_test, y_val, y_test = train_test_split(X_temp, y_temp, test_size=0.5, random_state=42)\n",
    "\n",
    "model = RandomForestClassifier(random_state=42)\n",
    "\n",
    "model.fit(X_train, y_train)\n",
    "\n",
    "y_val_pred = model.predict(X_val)\n",
    "accuracy = accuracy_score(y_val, y_val_pred)\n",
    "print(f\"Validation Accuracy: {accuracy:.2f}\")\n",
    "\n",
    "y_test_pred = model.predict(X_test)\n",
    "test_accuracy = accuracy_score(y_test, y_test_pred)\n",
    "print(f\"Test Accuracy: {test_accuracy:.2f}\")"
   ]
  },
  {
   "cell_type": "code",
   "execution_count": null,
   "id": "71baf3c9",
   "metadata": {},
   "outputs": [],
   "source": []
  }
 ],
 "metadata": {
  "kernelspec": {
   "display_name": "Python 3",
   "language": "python",
   "name": "python3"
  },
  "language_info": {
   "codemirror_mode": {
    "name": "ipython",
    "version": 3
   },
   "file_extension": ".py",
   "mimetype": "text/x-python",
   "name": "python",
   "nbconvert_exporter": "python",
   "pygments_lexer": "ipython3",
   "version": "3.8.8"
  }
 },
 "nbformat": 4,
 "nbformat_minor": 5
}
